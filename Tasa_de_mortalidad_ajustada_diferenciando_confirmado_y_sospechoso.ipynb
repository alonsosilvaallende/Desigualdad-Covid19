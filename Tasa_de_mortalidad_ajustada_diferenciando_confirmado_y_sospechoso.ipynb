{
  "nbformat": 4,
  "nbformat_minor": 0,
  "metadata": {
    "kernelspec": {
      "display_name": "Python 3",
      "language": "python",
      "name": "python3"
    },
    "language_info": {
      "codemirror_mode": {
        "name": "ipython",
        "version": 3
      },
      "file_extension": ".py",
      "mimetype": "text/x-python",
      "name": "python",
      "nbconvert_exporter": "python",
      "pygments_lexer": "ipython3",
      "version": "3.8.5"
    },
    "colab": {
      "name": "Tasa-de-mortalidad-ajustada-diferenciando-confirmado-y-sospechoso.ipynb",
      "provenance": [],
      "collapsed_sections": [],
      "include_colab_link": true
    }
  },
  "cells": [
    {
      "cell_type": "markdown",
      "metadata": {
        "id": "view-in-github",
        "colab_type": "text"
      },
      "source": [
        "<a href=\"https://colab.research.google.com/github/alonsosilvaallende/Desigualdad-Covid19/blob/master/Tasa_de_mortalidad_ajustada_diferenciando_confirmado_y_sospechoso.ipynb\" target=\"_parent\"><img src=\"https://colab.research.google.com/assets/colab-badge.svg\" alt=\"Open In Colab\"/></a>"
      ]
    },
    {
      "cell_type": "code",
      "metadata": {
        "ExecuteTime": {
          "end_time": "2020-09-06T18:59:33.364079Z",
          "start_time": "2020-09-06T18:59:33.318633Z"
        },
        "id": "4-URaZnKpo6B",
        "colab_type": "code",
        "colab": {}
      },
      "source": [
        "import numpy as np\n",
        "import pandas as pd\n",
        "import matplotlib.pyplot as plt\n",
        "plt.rcParams.update({'xtick.labelsize' : 15,\n",
        "                     'ytick.labelsize' : 15})"
      ],
      "execution_count": 1,
      "outputs": []
    },
    {
      "cell_type": "code",
      "metadata": {
        "ExecuteTime": {
          "end_time": "2020-09-06T18:59:33.671744Z",
          "start_time": "2020-09-06T18:59:33.633140Z"
        },
        "id": "pYJvSphSpo6N",
        "colab_type": "code",
        "colab": {}
      },
      "source": [
        "# Web scrapping\n",
        "import requests\n",
        "from bs4 import BeautifulSoup\n",
        "import lxml.html as lh"
      ],
      "execution_count": 2,
      "outputs": []
    },
    {
      "cell_type": "markdown",
      "metadata": {
        "id": "ilWxkrYcq6pl",
        "colab_type": "text"
      },
      "source": [
        "Datos: https://deis.minsal.cl/"
      ]
    },
    {
      "cell_type": "code",
      "metadata": {
        "id": "nyX0_hDPp3kJ",
        "colab_type": "code",
        "colab": {
          "base_uri": "https://localhost:8080/",
          "height": 282
        },
        "outputId": "f0f9bbba-c0b5-46e8-af22-41a2df3e2228"
      },
      "source": [
        "!wget http://deis.minsal.cl/wp-content/uploads/2020/09/DEFUNCIONES_FUENTE_DEIS_2016_2020_10092020.rar"
      ],
      "execution_count": 3,
      "outputs": [
        {
          "output_type": "stream",
          "text": [
            "--2020-09-14 13:32:02--  http://deis.minsal.cl/wp-content/uploads/2020/09/DEFUNCIONES_FUENTE_DEIS_2016_2020_10092020.rar\n",
            "Resolving deis.minsal.cl (deis.minsal.cl)... 163.247.51.55\n",
            "Connecting to deis.minsal.cl (deis.minsal.cl)|163.247.51.55|:80... connected.\n",
            "HTTP request sent, awaiting response... 301 Moved Permanently\n",
            "Location: https://deis.minsal.cl/wp-content/uploads/2020/09/DEFUNCIONES_FUENTE_DEIS_2016_2020_10092020.rar [following]\n",
            "--2020-09-14 13:32:02--  https://deis.minsal.cl/wp-content/uploads/2020/09/DEFUNCIONES_FUENTE_DEIS_2016_2020_10092020.rar\n",
            "Connecting to deis.minsal.cl (deis.minsal.cl)|163.247.51.55|:443... connected.\n",
            "HTTP request sent, awaiting response... 200 OK\n",
            "Length: 4524890 (4.3M)\n",
            "Saving to: ‘DEFUNCIONES_FUENTE_DEIS_2016_2020_10092020.rar.1’\n",
            "\n",
            "DEFUNCIONES_FUENTE_ 100%[===================>]   4.31M  2.87MB/s    in 1.5s    \n",
            "\n",
            "2020-09-14 13:32:05 (2.87 MB/s) - ‘DEFUNCIONES_FUENTE_DEIS_2016_2020_10092020.rar.1’ saved [4524890/4524890]\n",
            "\n"
          ],
          "name": "stdout"
        }
      ]
    },
    {
      "cell_type": "code",
      "metadata": {
        "id": "nCBVFQ-2p-gT",
        "colab_type": "code",
        "colab": {
          "base_uri": "https://localhost:8080/",
          "height": 459
        },
        "outputId": "860a5c66-a79f-4bb7-d494-b94c511992fe"
      },
      "source": [
        "!unrar x DEFUNCIONES_FUENTE_DEIS_2016_2020_10092020.rar"
      ],
      "execution_count": 4,
      "outputs": [
        {
          "output_type": "stream",
          "text": [
            "\n",
            "UNRAR 5.50 freeware      Copyright (c) 1993-2017 Alexander Roshal\n",
            "\n",
            "\n",
            "Extracting from DEFUNCIONES_FUENTE_DEIS_2016_2020_10092020.rar\n",
            "\n",
            "\n",
            "Would you like to replace the existing file DEFUNCIONES_FUENTE_DEIS_2016_2020_10092020.csv\n",
            "149293087 bytes, modified on 2020-09-10 21:58\n",
            "with a new one\n",
            "149293087 bytes, modified on 2020-09-10 21:58\n",
            "\n",
            "[Y]es, [N]o, [A]ll, n[E]ver, [R]ename, [Q]uit Y\n",
            "\n",
            "Extracting  DEFUNCIONES_FUENTE_DEIS_2016_2020_10092020.csv               \b\b\b\b 92%\b\b\b\b 99%\b\b\b\b\b  OK \n",
            "\n",
            "Would you like to replace the existing file Diccionario de Datos BBDD-COVID19 liberada.xlsx\n",
            " 29948 bytes, modified on 2020-08-20 19:51\n",
            "with a new one\n",
            " 29948 bytes, modified on 2020-08-20 19:51\n",
            "\n",
            "[Y]es, [N]o, [A]ll, n[E]ver, [R]ename, [Q]uit A\n",
            "\n",
            "Extracting  Diccionario de Datos BBDD-COVID19 liberada.xlsx              \b\b\b\b 99%\b\b\b\b\b  OK \n",
            "All OK\n"
          ],
          "name": "stdout"
        }
      ]
    },
    {
      "cell_type": "code",
      "metadata": {
        "ExecuteTime": {
          "end_time": "2020-09-06T18:59:36.991602Z",
          "start_time": "2020-09-06T18:59:36.783003Z"
        },
        "id": "llVe_Wwvpo6e",
        "colab_type": "code",
        "colab": {}
      },
      "source": [
        "data_raw = pd.read_csv(\"DEFUNCIONES_FUENTE_DEIS_2016_2020_10092020.csv\",\n",
        "                       header=None,\n",
        "                       names=[\"año\", \"fecha\", \"genero\", \"edad_tipo\", \"edad\", \"comuna_codigo\", \"comuna\", \"region\", \"c_causa_detalle\", \"c_capitulo\", \"causa\", \"Unnamed: 11\",\"Unnamed: 12\",\"c_causa\",\"Unnamed: 14\",\"Unnamed: 15\",\"causa_1\", \"Unnamed: 17\", \"Unnamed: 18\", \"Unnamed: 19\", \"Unnamed: 20\", \"Unnamed: 21\", \"Unnamed: 22\", \"Unnamed: 23\", \"Unnamed: 24\", \"Unnamed: 25\"],\n",
        "                       encoding='iso-8859-1', sep=\";\")"
      ],
      "execution_count": 5,
      "outputs": []
    },
    {
      "cell_type": "code",
      "metadata": {
        "ExecuteTime": {
          "end_time": "2020-09-06T18:59:47.853672Z",
          "start_time": "2020-09-06T18:59:47.814161Z"
        },
        "id": "2zNnFHoOpo6l",
        "colab_type": "code",
        "colab": {
          "base_uri": "https://localhost:8080/",
          "height": 372
        },
        "outputId": "f145a29f-ea3a-41de-f4f1-b180bf661643"
      },
      "source": [
        "data_raw.head(3)"
      ],
      "execution_count": 6,
      "outputs": [
        {
          "output_type": "execute_result",
          "data": {
            "text/html": [
              "<div>\n",
              "<style scoped>\n",
              "    .dataframe tbody tr th:only-of-type {\n",
              "        vertical-align: middle;\n",
              "    }\n",
              "\n",
              "    .dataframe tbody tr th {\n",
              "        vertical-align: top;\n",
              "    }\n",
              "\n",
              "    .dataframe thead th {\n",
              "        text-align: right;\n",
              "    }\n",
              "</style>\n",
              "<table border=\"1\" class=\"dataframe\">\n",
              "  <thead>\n",
              "    <tr style=\"text-align: right;\">\n",
              "      <th></th>\n",
              "      <th>año</th>\n",
              "      <th>fecha</th>\n",
              "      <th>genero</th>\n",
              "      <th>edad_tipo</th>\n",
              "      <th>edad</th>\n",
              "      <th>comuna_codigo</th>\n",
              "      <th>comuna</th>\n",
              "      <th>region</th>\n",
              "      <th>c_causa_detalle</th>\n",
              "      <th>c_capitulo</th>\n",
              "      <th>causa</th>\n",
              "      <th>Unnamed: 11</th>\n",
              "      <th>Unnamed: 12</th>\n",
              "      <th>c_causa</th>\n",
              "      <th>Unnamed: 14</th>\n",
              "      <th>Unnamed: 15</th>\n",
              "      <th>causa_1</th>\n",
              "      <th>Unnamed: 17</th>\n",
              "      <th>Unnamed: 18</th>\n",
              "      <th>Unnamed: 19</th>\n",
              "      <th>Unnamed: 20</th>\n",
              "      <th>Unnamed: 21</th>\n",
              "      <th>Unnamed: 22</th>\n",
              "      <th>Unnamed: 23</th>\n",
              "      <th>Unnamed: 24</th>\n",
              "      <th>Unnamed: 25</th>\n",
              "    </tr>\n",
              "  </thead>\n",
              "  <tbody>\n",
              "    <tr>\n",
              "      <th>0</th>\n",
              "      <td>2020</td>\n",
              "      <td>2020-08-14</td>\n",
              "      <td>Hombre</td>\n",
              "      <td>1</td>\n",
              "      <td>79</td>\n",
              "      <td>13128</td>\n",
              "      <td>Renca</td>\n",
              "      <td>Metropolitana de Santiago</td>\n",
              "      <td>J449</td>\n",
              "      <td>J00-J99</td>\n",
              "      <td>Enfermedades del sistema respiratorio</td>\n",
              "      <td>J40-J47</td>\n",
              "      <td>Enfermedades crónicas de las vías respiratoria...</td>\n",
              "      <td>J44</td>\n",
              "      <td>Otras enfermedades pulmonares obstructivas cró...</td>\n",
              "      <td>J449</td>\n",
              "      <td>ENFERMEDAD PULMÓNAR OBSTRUCTIVA CRONICA NO ESP...</td>\n",
              "      <td></td>\n",
              "      <td>NaN</td>\n",
              "      <td>NaN</td>\n",
              "      <td>NaN</td>\n",
              "      <td>NaN</td>\n",
              "      <td>NaN</td>\n",
              "      <td>NaN</td>\n",
              "      <td>NaN</td>\n",
              "      <td>NaN</td>\n",
              "    </tr>\n",
              "    <tr>\n",
              "      <th>1</th>\n",
              "      <td>2020</td>\n",
              "      <td>2020-02-12</td>\n",
              "      <td>Mujer</td>\n",
              "      <td>1</td>\n",
              "      <td>87</td>\n",
              "      <td>13118</td>\n",
              "      <td>Macul</td>\n",
              "      <td>Metropolitana de Santiago</td>\n",
              "      <td>K729</td>\n",
              "      <td>K00-K93</td>\n",
              "      <td>Enfermedades del sistema digestivo</td>\n",
              "      <td>K70-K77</td>\n",
              "      <td>Enfermedades del hígado</td>\n",
              "      <td>K72</td>\n",
              "      <td>Insuficiencia hepática, no clasificada en otra...</td>\n",
              "      <td>K729</td>\n",
              "      <td>INSUFICIENCIA HEPATICA NO ESPECIFICADA</td>\n",
              "      <td></td>\n",
              "      <td>NaN</td>\n",
              "      <td>NaN</td>\n",
              "      <td>NaN</td>\n",
              "      <td>NaN</td>\n",
              "      <td>NaN</td>\n",
              "      <td>NaN</td>\n",
              "      <td>NaN</td>\n",
              "      <td>NaN</td>\n",
              "    </tr>\n",
              "    <tr>\n",
              "      <th>2</th>\n",
              "      <td>2020</td>\n",
              "      <td>2020-04-22</td>\n",
              "      <td>Hombre</td>\n",
              "      <td>1</td>\n",
              "      <td>83</td>\n",
              "      <td>5602</td>\n",
              "      <td>Algarrobo</td>\n",
              "      <td>De Valparaíso</td>\n",
              "      <td>J449</td>\n",
              "      <td>J00-J99</td>\n",
              "      <td>Enfermedades del sistema respiratorio</td>\n",
              "      <td>J40-J47</td>\n",
              "      <td>Enfermedades crónicas de las vías respiratoria...</td>\n",
              "      <td>J44</td>\n",
              "      <td>Otras enfermedades pulmonares obstructivas cró...</td>\n",
              "      <td>J449</td>\n",
              "      <td>ENFERMEDAD PULMÓNAR OBSTRUCTIVA CRONICA NO ESP...</td>\n",
              "      <td></td>\n",
              "      <td>NaN</td>\n",
              "      <td>NaN</td>\n",
              "      <td>NaN</td>\n",
              "      <td>NaN</td>\n",
              "      <td>NaN</td>\n",
              "      <td>NaN</td>\n",
              "      <td>NaN</td>\n",
              "      <td>NaN</td>\n",
              "    </tr>\n",
              "  </tbody>\n",
              "</table>\n",
              "</div>"
            ],
            "text/plain": [
              "    año       fecha  genero  ...  Unnamed: 23  Unnamed: 24  Unnamed: 25\n",
              "0  2020  2020-08-14  Hombre  ...          NaN          NaN          NaN\n",
              "1  2020  2020-02-12   Mujer  ...          NaN          NaN          NaN\n",
              "2  2020  2020-04-22  Hombre  ...          NaN          NaN          NaN\n",
              "\n",
              "[3 rows x 26 columns]"
            ]
          },
          "metadata": {
            "tags": []
          },
          "execution_count": 6
        }
      ]
    },
    {
      "cell_type": "code",
      "metadata": {
        "id": "laQF2-RGq8el",
        "colab_type": "code",
        "colab": {
          "base_uri": "https://localhost:8080/",
          "height": 1000
        },
        "outputId": "6d5cc0ef-f787-4a93-b74b-9b6f90aa09a4"
      },
      "source": [
        "data_raw.query(\"c_causa == 'U07'\").head(10)"
      ],
      "execution_count": 7,
      "outputs": [
        {
          "output_type": "execute_result",
          "data": {
            "text/html": [
              "<div>\n",
              "<style scoped>\n",
              "    .dataframe tbody tr th:only-of-type {\n",
              "        vertical-align: middle;\n",
              "    }\n",
              "\n",
              "    .dataframe tbody tr th {\n",
              "        vertical-align: top;\n",
              "    }\n",
              "\n",
              "    .dataframe thead th {\n",
              "        text-align: right;\n",
              "    }\n",
              "</style>\n",
              "<table border=\"1\" class=\"dataframe\">\n",
              "  <thead>\n",
              "    <tr style=\"text-align: right;\">\n",
              "      <th></th>\n",
              "      <th>año</th>\n",
              "      <th>fecha</th>\n",
              "      <th>genero</th>\n",
              "      <th>edad_tipo</th>\n",
              "      <th>edad</th>\n",
              "      <th>comuna_codigo</th>\n",
              "      <th>comuna</th>\n",
              "      <th>region</th>\n",
              "      <th>c_causa_detalle</th>\n",
              "      <th>c_capitulo</th>\n",
              "      <th>causa</th>\n",
              "      <th>Unnamed: 11</th>\n",
              "      <th>Unnamed: 12</th>\n",
              "      <th>c_causa</th>\n",
              "      <th>Unnamed: 14</th>\n",
              "      <th>Unnamed: 15</th>\n",
              "      <th>causa_1</th>\n",
              "      <th>Unnamed: 17</th>\n",
              "      <th>Unnamed: 18</th>\n",
              "      <th>Unnamed: 19</th>\n",
              "      <th>Unnamed: 20</th>\n",
              "      <th>Unnamed: 21</th>\n",
              "      <th>Unnamed: 22</th>\n",
              "      <th>Unnamed: 23</th>\n",
              "      <th>Unnamed: 24</th>\n",
              "      <th>Unnamed: 25</th>\n",
              "    </tr>\n",
              "  </thead>\n",
              "  <tbody>\n",
              "    <tr>\n",
              "      <th>4</th>\n",
              "      <td>2020</td>\n",
              "      <td>2020-08-31</td>\n",
              "      <td>Hombre</td>\n",
              "      <td>1</td>\n",
              "      <td>76</td>\n",
              "      <td>13103</td>\n",
              "      <td>Cerro Navia</td>\n",
              "      <td>Metropolitana de Santiago</td>\n",
              "      <td>U071</td>\n",
              "      <td>U00-U99</td>\n",
              "      <td>Códigos para propósitos especiales</td>\n",
              "      <td>U00-U49</td>\n",
              "      <td>Asignación provisoria de nuevas afecciones de ...</td>\n",
              "      <td>U07</td>\n",
              "      <td>Uso emergente de U07</td>\n",
              "      <td>U071</td>\n",
              "      <td>COVID-19 virus identificado</td>\n",
              "      <td>NaN</td>\n",
              "      <td>NaN</td>\n",
              "      <td>NaN</td>\n",
              "      <td>NaN</td>\n",
              "      <td>NaN</td>\n",
              "      <td>NaN</td>\n",
              "      <td>NaN</td>\n",
              "      <td>NaN</td>\n",
              "      <td>NaN</td>\n",
              "    </tr>\n",
              "    <tr>\n",
              "      <th>14</th>\n",
              "      <td>2020</td>\n",
              "      <td>2020-05-23</td>\n",
              "      <td>Hombre</td>\n",
              "      <td>1</td>\n",
              "      <td>78</td>\n",
              "      <td>13108</td>\n",
              "      <td>Independencia</td>\n",
              "      <td>Metropolitana de Santiago</td>\n",
              "      <td>U071</td>\n",
              "      <td>U00-U99</td>\n",
              "      <td>Códigos para propósitos especiales</td>\n",
              "      <td>U00-U49</td>\n",
              "      <td>Asignación provisoria de nuevas afecciones de ...</td>\n",
              "      <td>U07</td>\n",
              "      <td>Uso emergente de U07</td>\n",
              "      <td>U071</td>\n",
              "      <td>COVID-19 virus identificado</td>\n",
              "      <td>NaN</td>\n",
              "      <td>NaN</td>\n",
              "      <td>NaN</td>\n",
              "      <td>NaN</td>\n",
              "      <td>NaN</td>\n",
              "      <td>NaN</td>\n",
              "      <td>NaN</td>\n",
              "      <td>NaN</td>\n",
              "      <td>NaN</td>\n",
              "    </tr>\n",
              "    <tr>\n",
              "      <th>16</th>\n",
              "      <td>2020</td>\n",
              "      <td>2020-05-26</td>\n",
              "      <td>Hombre</td>\n",
              "      <td>1</td>\n",
              "      <td>75</td>\n",
              "      <td>13104</td>\n",
              "      <td>Conchalí</td>\n",
              "      <td>Metropolitana de Santiago</td>\n",
              "      <td>U071</td>\n",
              "      <td>U00-U99</td>\n",
              "      <td>Códigos para propósitos especiales</td>\n",
              "      <td>U00-U49</td>\n",
              "      <td>Asignación provisoria de nuevas afecciones de ...</td>\n",
              "      <td>U07</td>\n",
              "      <td>Uso emergente de U07</td>\n",
              "      <td>U071</td>\n",
              "      <td>COVID-19 virus identificado</td>\n",
              "      <td>NaN</td>\n",
              "      <td>NaN</td>\n",
              "      <td>NaN</td>\n",
              "      <td>NaN</td>\n",
              "      <td>NaN</td>\n",
              "      <td>NaN</td>\n",
              "      <td>NaN</td>\n",
              "      <td>NaN</td>\n",
              "      <td>NaN</td>\n",
              "    </tr>\n",
              "    <tr>\n",
              "      <th>17</th>\n",
              "      <td>2020</td>\n",
              "      <td>2020-05-27</td>\n",
              "      <td>Hombre</td>\n",
              "      <td>1</td>\n",
              "      <td>78</td>\n",
              "      <td>13120</td>\n",
              "      <td>Ñuñoa</td>\n",
              "      <td>Metropolitana de Santiago</td>\n",
              "      <td>U071</td>\n",
              "      <td>U00-U99</td>\n",
              "      <td>Códigos para propósitos especiales</td>\n",
              "      <td>U00-U49</td>\n",
              "      <td>Asignación provisoria de nuevas afecciones de ...</td>\n",
              "      <td>U07</td>\n",
              "      <td>Uso emergente de U07</td>\n",
              "      <td>U071</td>\n",
              "      <td>COVID-19 virus identificado</td>\n",
              "      <td>NaN</td>\n",
              "      <td>NaN</td>\n",
              "      <td>NaN</td>\n",
              "      <td>NaN</td>\n",
              "      <td>NaN</td>\n",
              "      <td>NaN</td>\n",
              "      <td>NaN</td>\n",
              "      <td>NaN</td>\n",
              "      <td>NaN</td>\n",
              "    </tr>\n",
              "    <tr>\n",
              "      <th>25</th>\n",
              "      <td>2020</td>\n",
              "      <td>2020-06-11</td>\n",
              "      <td>Mujer</td>\n",
              "      <td>1</td>\n",
              "      <td>84</td>\n",
              "      <td>13112</td>\n",
              "      <td>La Pintana</td>\n",
              "      <td>Metropolitana de Santiago</td>\n",
              "      <td>U071</td>\n",
              "      <td>U00-U99</td>\n",
              "      <td>Códigos para propósitos especiales</td>\n",
              "      <td>U00-U49</td>\n",
              "      <td>Asignación provisoria de nuevas afecciones de ...</td>\n",
              "      <td>U07</td>\n",
              "      <td>Uso emergente de U07</td>\n",
              "      <td>U071</td>\n",
              "      <td>COVID-19 virus identificado</td>\n",
              "      <td>NaN</td>\n",
              "      <td>NaN</td>\n",
              "      <td>NaN</td>\n",
              "      <td>NaN</td>\n",
              "      <td>NaN</td>\n",
              "      <td>NaN</td>\n",
              "      <td>NaN</td>\n",
              "      <td>NaN</td>\n",
              "      <td>NaN</td>\n",
              "    </tr>\n",
              "    <tr>\n",
              "      <th>28</th>\n",
              "      <td>2020</td>\n",
              "      <td>2020-09-06</td>\n",
              "      <td>Mujer</td>\n",
              "      <td>1</td>\n",
              "      <td>85</td>\n",
              "      <td>13111</td>\n",
              "      <td>La Granja</td>\n",
              "      <td>Metropolitana de Santiago</td>\n",
              "      <td>U072</td>\n",
              "      <td>U00-U99</td>\n",
              "      <td>Códigos para propósitos especiales</td>\n",
              "      <td>U00-U49</td>\n",
              "      <td>Asignación provisoria de nuevas afecciones de ...</td>\n",
              "      <td>U07</td>\n",
              "      <td>Uso emergente de U07</td>\n",
              "      <td>U072</td>\n",
              "      <td>COVID-19 virus no identificado</td>\n",
              "      <td>NaN</td>\n",
              "      <td>NaN</td>\n",
              "      <td>NaN</td>\n",
              "      <td>NaN</td>\n",
              "      <td>NaN</td>\n",
              "      <td>NaN</td>\n",
              "      <td>NaN</td>\n",
              "      <td>NaN</td>\n",
              "      <td>NaN</td>\n",
              "    </tr>\n",
              "    <tr>\n",
              "      <th>30</th>\n",
              "      <td>2020</td>\n",
              "      <td>2020-05-24</td>\n",
              "      <td>Hombre</td>\n",
              "      <td>1</td>\n",
              "      <td>79</td>\n",
              "      <td>13108</td>\n",
              "      <td>Independencia</td>\n",
              "      <td>Metropolitana de Santiago</td>\n",
              "      <td>U071</td>\n",
              "      <td>U00-U99</td>\n",
              "      <td>Códigos para propósitos especiales</td>\n",
              "      <td>U00-U49</td>\n",
              "      <td>Asignación provisoria de nuevas afecciones de ...</td>\n",
              "      <td>U07</td>\n",
              "      <td>Uso emergente de U07</td>\n",
              "      <td>U071</td>\n",
              "      <td>COVID-19 virus identificado</td>\n",
              "      <td>NaN</td>\n",
              "      <td>NaN</td>\n",
              "      <td>NaN</td>\n",
              "      <td>NaN</td>\n",
              "      <td>NaN</td>\n",
              "      <td>NaN</td>\n",
              "      <td>NaN</td>\n",
              "      <td>NaN</td>\n",
              "      <td>NaN</td>\n",
              "    </tr>\n",
              "    <tr>\n",
              "      <th>40</th>\n",
              "      <td>2020</td>\n",
              "      <td>2020-08-24</td>\n",
              "      <td>Hombre</td>\n",
              "      <td>1</td>\n",
              "      <td>81</td>\n",
              "      <td>13104</td>\n",
              "      <td>Conchalí</td>\n",
              "      <td>Metropolitana de Santiago</td>\n",
              "      <td>U071</td>\n",
              "      <td>U00-U99</td>\n",
              "      <td>Códigos para propósitos especiales</td>\n",
              "      <td>U00-U49</td>\n",
              "      <td>Asignación provisoria de nuevas afecciones de ...</td>\n",
              "      <td>U07</td>\n",
              "      <td>Uso emergente de U07</td>\n",
              "      <td>U071</td>\n",
              "      <td>COVID-19 virus identificado</td>\n",
              "      <td>NaN</td>\n",
              "      <td>NaN</td>\n",
              "      <td>NaN</td>\n",
              "      <td>NaN</td>\n",
              "      <td>NaN</td>\n",
              "      <td>NaN</td>\n",
              "      <td>NaN</td>\n",
              "      <td>NaN</td>\n",
              "      <td>NaN</td>\n",
              "    </tr>\n",
              "    <tr>\n",
              "      <th>45</th>\n",
              "      <td>2020</td>\n",
              "      <td>2020-05-11</td>\n",
              "      <td>Hombre</td>\n",
              "      <td>1</td>\n",
              "      <td>78</td>\n",
              "      <td>5605</td>\n",
              "      <td>El Tabo</td>\n",
              "      <td>De Valparaíso</td>\n",
              "      <td>U071</td>\n",
              "      <td>U00-U99</td>\n",
              "      <td>Códigos para propósitos especiales</td>\n",
              "      <td>U00-U49</td>\n",
              "      <td>Asignación provisoria de nuevas afecciones de ...</td>\n",
              "      <td>U07</td>\n",
              "      <td>Uso emergente de U07</td>\n",
              "      <td>U071</td>\n",
              "      <td>COVID-19 virus identificado</td>\n",
              "      <td>NaN</td>\n",
              "      <td>NaN</td>\n",
              "      <td>NaN</td>\n",
              "      <td>NaN</td>\n",
              "      <td>NaN</td>\n",
              "      <td>NaN</td>\n",
              "      <td>NaN</td>\n",
              "      <td>NaN</td>\n",
              "      <td>NaN</td>\n",
              "    </tr>\n",
              "    <tr>\n",
              "      <th>47</th>\n",
              "      <td>2020</td>\n",
              "      <td>2020-06-24</td>\n",
              "      <td>Mujer</td>\n",
              "      <td>1</td>\n",
              "      <td>88</td>\n",
              "      <td>13125</td>\n",
              "      <td>Quilicura</td>\n",
              "      <td>Metropolitana de Santiago</td>\n",
              "      <td>U071</td>\n",
              "      <td>U00-U99</td>\n",
              "      <td>Códigos para propósitos especiales</td>\n",
              "      <td>U00-U49</td>\n",
              "      <td>Asignación provisoria de nuevas afecciones de ...</td>\n",
              "      <td>U07</td>\n",
              "      <td>Uso emergente de U07</td>\n",
              "      <td>U071</td>\n",
              "      <td>COVID-19 virus identificado</td>\n",
              "      <td>NaN</td>\n",
              "      <td>NaN</td>\n",
              "      <td>NaN</td>\n",
              "      <td>NaN</td>\n",
              "      <td>NaN</td>\n",
              "      <td>NaN</td>\n",
              "      <td>NaN</td>\n",
              "      <td>NaN</td>\n",
              "      <td>NaN</td>\n",
              "    </tr>\n",
              "  </tbody>\n",
              "</table>\n",
              "</div>"
            ],
            "text/plain": [
              "     año       fecha  genero  ...  Unnamed: 23  Unnamed: 24  Unnamed: 25\n",
              "4   2020  2020-08-31  Hombre  ...          NaN          NaN          NaN\n",
              "14  2020  2020-05-23  Hombre  ...          NaN          NaN          NaN\n",
              "16  2020  2020-05-26  Hombre  ...          NaN          NaN          NaN\n",
              "17  2020  2020-05-27  Hombre  ...          NaN          NaN          NaN\n",
              "25  2020  2020-06-11   Mujer  ...          NaN          NaN          NaN\n",
              "28  2020  2020-09-06   Mujer  ...          NaN          NaN          NaN\n",
              "30  2020  2020-05-24  Hombre  ...          NaN          NaN          NaN\n",
              "40  2020  2020-08-24  Hombre  ...          NaN          NaN          NaN\n",
              "45  2020  2020-05-11  Hombre  ...          NaN          NaN          NaN\n",
              "47  2020  2020-06-24   Mujer  ...          NaN          NaN          NaN\n",
              "\n",
              "[10 rows x 26 columns]"
            ]
          },
          "metadata": {
            "tags": []
          },
          "execution_count": 7
        }
      ]
    },
    {
      "cell_type": "code",
      "metadata": {
        "ExecuteTime": {
          "end_time": "2020-09-06T18:59:57.212556Z",
          "start_time": "2020-09-06T18:59:57.142631Z"
        },
        "id": "qWZfHskppo6z",
        "colab_type": "code",
        "colab": {}
      },
      "source": [
        "data_RM = data_raw.query(\"region == 'Metropolitana de Santiago' & c_causa == 'U07'\")"
      ],
      "execution_count": 8,
      "outputs": []
    },
    {
      "cell_type": "code",
      "metadata": {
        "ExecuteTime": {
          "end_time": "2020-09-06T18:59:57.907541Z",
          "start_time": "2020-09-06T18:59:57.899195Z"
        },
        "id": "QPn1NSLYpo64",
        "colab_type": "code",
        "colab": {
          "base_uri": "https://localhost:8080/",
          "height": 35
        },
        "outputId": "be48d274-962d-4e60-ca08-cbfafbccffa6"
      },
      "source": [
        "len(data_RM), len(data_raw.query(\"c_causa == 'U07'\")), len(data_RM)/len(data_raw.query(\"c_causa == 'U07'\"))"
      ],
      "execution_count": 9,
      "outputs": [
        {
          "output_type": "execute_result",
          "data": {
            "text/plain": [
              "(11505, 16222, 0.7092220441375909)"
            ]
          },
          "metadata": {
            "tags": []
          },
          "execution_count": 9
        }
      ]
    },
    {
      "cell_type": "code",
      "metadata": {
        "id": "UywANUlGsXv9",
        "colab_type": "code",
        "colab": {
          "base_uri": "https://localhost:8080/",
          "height": 35
        },
        "outputId": "4e94d0d3-4788-4634-e49b-78934e592dc6"
      },
      "source": [
        "len(data_raw.query(\"region == 'Metropolitana de Santiago' & c_causa_detalle == 'U071'\")), len(data_raw.query(\"c_causa_detalle == 'U071'\")), len(data_raw.query(\"region == 'Metropolitana de Santiago' & c_causa_detalle == 'U071'\"))/len(data_raw.query(\"c_causa_detalle == 'U071'\"))"
      ],
      "execution_count": 10,
      "outputs": [
        {
          "output_type": "execute_result",
          "data": {
            "text/plain": [
              "(8838, 11895, 0.743001261034048)"
            ]
          },
          "metadata": {
            "tags": []
          },
          "execution_count": 10
        }
      ]
    },
    {
      "cell_type": "code",
      "metadata": {
        "ExecuteTime": {
          "end_time": "2020-09-06T19:00:04.810714Z",
          "start_time": "2020-09-06T19:00:04.666770Z"
        },
        "id": "PLxcxr2fpo69",
        "colab_type": "code",
        "colab": {}
      },
      "source": [
        "deaths = data_RM.groupby([\"c_causa_detalle\",\"comuna\"]).count()[\"causa\"]"
      ],
      "execution_count": 11,
      "outputs": []
    },
    {
      "cell_type": "code",
      "metadata": {
        "ExecuteTime": {
          "end_time": "2020-09-06T19:00:06.298699Z",
          "start_time": "2020-09-06T19:00:06.270040Z"
        },
        "id": "6EBKZHlXpo7C",
        "colab_type": "code",
        "colab": {}
      },
      "source": [
        "deaths = deaths.reset_index()"
      ],
      "execution_count": 12,
      "outputs": []
    },
    {
      "cell_type": "code",
      "metadata": {
        "id": "VrCb1nTstjg4",
        "colab_type": "code",
        "colab": {
          "base_uri": "https://localhost:8080/",
          "height": 206
        },
        "outputId": "70beb9d1-33d7-4908-a4b7-6cc3bde854b4"
      },
      "source": [
        "deaths.head()"
      ],
      "execution_count": 13,
      "outputs": [
        {
          "output_type": "execute_result",
          "data": {
            "text/html": [
              "<div>\n",
              "<style scoped>\n",
              "    .dataframe tbody tr th:only-of-type {\n",
              "        vertical-align: middle;\n",
              "    }\n",
              "\n",
              "    .dataframe tbody tr th {\n",
              "        vertical-align: top;\n",
              "    }\n",
              "\n",
              "    .dataframe thead th {\n",
              "        text-align: right;\n",
              "    }\n",
              "</style>\n",
              "<table border=\"1\" class=\"dataframe\">\n",
              "  <thead>\n",
              "    <tr style=\"text-align: right;\">\n",
              "      <th></th>\n",
              "      <th>c_causa_detalle</th>\n",
              "      <th>comuna</th>\n",
              "      <th>causa</th>\n",
              "    </tr>\n",
              "  </thead>\n",
              "  <tbody>\n",
              "    <tr>\n",
              "      <th>0</th>\n",
              "      <td>U071</td>\n",
              "      <td>Alhué</td>\n",
              "      <td>4</td>\n",
              "    </tr>\n",
              "    <tr>\n",
              "      <th>1</th>\n",
              "      <td>U071</td>\n",
              "      <td>Buin</td>\n",
              "      <td>100</td>\n",
              "    </tr>\n",
              "    <tr>\n",
              "      <th>2</th>\n",
              "      <td>U071</td>\n",
              "      <td>Calera de Tango</td>\n",
              "      <td>10</td>\n",
              "    </tr>\n",
              "    <tr>\n",
              "      <th>3</th>\n",
              "      <td>U071</td>\n",
              "      <td>Cerrillos</td>\n",
              "      <td>72</td>\n",
              "    </tr>\n",
              "    <tr>\n",
              "      <th>4</th>\n",
              "      <td>U071</td>\n",
              "      <td>Cerro Navia</td>\n",
              "      <td>288</td>\n",
              "    </tr>\n",
              "  </tbody>\n",
              "</table>\n",
              "</div>"
            ],
            "text/plain": [
              "  c_causa_detalle           comuna  causa\n",
              "0            U071            Alhué      4\n",
              "1            U071             Buin    100\n",
              "2            U071  Calera de Tango     10\n",
              "3            U071        Cerrillos     72\n",
              "4            U071      Cerro Navia    288"
            ]
          },
          "metadata": {
            "tags": []
          },
          "execution_count": 13
        }
      ]
    },
    {
      "cell_type": "code",
      "metadata": {
        "ExecuteTime": {
          "end_time": "2020-09-06T19:00:06.872224Z",
          "start_time": "2020-09-06T19:00:06.854372Z"
        },
        "id": "Zn_P7a5Wpo7H",
        "colab_type": "code",
        "colab": {}
      },
      "source": [
        "confirmed_deaths = deaths[deaths[\"c_causa_detalle\"] == \"U071\"].drop(columns=\"c_causa_detalle\").set_index(\"comuna\")"
      ],
      "execution_count": 14,
      "outputs": []
    },
    {
      "cell_type": "code",
      "metadata": {
        "ExecuteTime": {
          "end_time": "2020-09-06T19:00:07.305190Z",
          "start_time": "2020-09-06T19:00:07.293040Z"
        },
        "id": "km2o1fBUpo7N",
        "colab_type": "code",
        "colab": {}
      },
      "source": [
        "suspected_deaths = deaths[deaths[\"c_causa_detalle\"] == \"U072\"].drop(columns=\"c_causa_detalle\").set_index(\"comuna\")"
      ],
      "execution_count": 15,
      "outputs": []
    },
    {
      "cell_type": "code",
      "metadata": {
        "ExecuteTime": {
          "end_time": "2020-09-06T19:00:08.070269Z",
          "start_time": "2020-09-06T19:00:08.053358Z"
        },
        "id": "xLels_0Ipo7R",
        "colab_type": "code",
        "colab": {}
      },
      "source": [
        "df = pd.DataFrame()\n",
        "df[\"Comuna\"] = data_RM[\"comuna\"].unique()\n",
        "df = df.set_index(\"Comuna\")"
      ],
      "execution_count": 16,
      "outputs": []
    },
    {
      "cell_type": "code",
      "metadata": {
        "ExecuteTime": {
          "end_time": "2020-09-06T19:00:08.625905Z",
          "start_time": "2020-09-06T19:00:08.613342Z"
        },
        "id": "CVD_syJZpo7a",
        "colab_type": "code",
        "colab": {}
      },
      "source": [
        "df[\"COVID Confirmado\"] = confirmed_deaths\n",
        "df[\"COVID Sospechoso\"] = suspected_deaths"
      ],
      "execution_count": 17,
      "outputs": []
    },
    {
      "cell_type": "markdown",
      "metadata": {
        "id": "luygSD7yrgl_",
        "colab_type": "text"
      },
      "source": [
        "Crear un dataframe con las comunas de la conurbación de Santiago y el sector al que pertenecen.\n",
        "Datos: https://es.wikipedia.org/wiki/Anexo:Comunas_de_Santiago_de_Chile#Conurbaci%C3%B3n_de_Santiago"
      ]
    },
    {
      "cell_type": "code",
      "metadata": {
        "ExecuteTime": {
          "end_time": "2020-09-06T19:00:09.155567Z",
          "start_time": "2020-09-06T19:00:09.144644Z"
        },
        "id": "TofWQmYNpo7g",
        "colab_type": "code",
        "colab": {}
      },
      "source": [
        "url = \"https://es.wikipedia.org/wiki/Anexo:Comunas_de_Santiago_de_Chile#Conurbaci%C3%B3n_de_Santiago\""
      ],
      "execution_count": 18,
      "outputs": []
    },
    {
      "cell_type": "code",
      "metadata": {
        "ExecuteTime": {
          "end_time": "2020-09-06T19:00:10.397537Z",
          "start_time": "2020-09-06T19:00:09.825731Z"
        },
        "id": "O0AqFPAdpo7k",
        "colab_type": "code",
        "colab": {}
      },
      "source": [
        "res = requests.get(url).text\n",
        "soup = BeautifulSoup(res,'lxml')\n",
        "soup.prettify()\n",
        "\n",
        "table = soup.find('table',{'class':'wikitable sortable'}).find_all('tr')[1:]"
      ],
      "execution_count": 19,
      "outputs": []
    },
    {
      "cell_type": "code",
      "metadata": {
        "ExecuteTime": {
          "end_time": "2020-09-06T19:00:10.720300Z",
          "start_time": "2020-09-06T19:00:10.488251Z"
        },
        "id": "zHzArllGpo7o",
        "colab_type": "code",
        "colab": {}
      },
      "source": [
        "#We create a DataFrame of the Santiago neighborhood's according to wikipedia:\n",
        "df_stgo = pd.DataFrame(columns = ['Comuna','Sector'], index = None)\n",
        "for items in table:\n",
        "    data = items.find_all(['th','td'])\n",
        "    name = data[0].text\n",
        "    borough = data[1].text\n",
        "    df_stgo = df_stgo.append({'Comuna':name,\n",
        "                              'Sector':borough}, ignore_index = True)"
      ],
      "execution_count": 20,
      "outputs": []
    },
    {
      "cell_type": "code",
      "metadata": {
        "id": "tiBSYduot-bL",
        "colab_type": "code",
        "colab": {
          "base_uri": "https://localhost:8080/",
          "height": 1000
        },
        "outputId": "1565000e-24b8-495a-f505-fa88e44890ea"
      },
      "source": [
        "df_stgo"
      ],
      "execution_count": 21,
      "outputs": [
        {
          "output_type": "execute_result",
          "data": {
            "text/html": [
              "<div>\n",
              "<style scoped>\n",
              "    .dataframe tbody tr th:only-of-type {\n",
              "        vertical-align: middle;\n",
              "    }\n",
              "\n",
              "    .dataframe tbody tr th {\n",
              "        vertical-align: top;\n",
              "    }\n",
              "\n",
              "    .dataframe thead th {\n",
              "        text-align: right;\n",
              "    }\n",
              "</style>\n",
              "<table border=\"1\" class=\"dataframe\">\n",
              "  <thead>\n",
              "    <tr style=\"text-align: right;\">\n",
              "      <th></th>\n",
              "      <th>Comuna</th>\n",
              "      <th>Sector</th>\n",
              "    </tr>\n",
              "  </thead>\n",
              "  <tbody>\n",
              "    <tr>\n",
              "      <th>0</th>\n",
              "      <td>Cerrillos</td>\n",
              "      <td>surponiente</td>\n",
              "    </tr>\n",
              "    <tr>\n",
              "      <th>1</th>\n",
              "      <td>Cerro Navia</td>\n",
              "      <td>norponiente</td>\n",
              "    </tr>\n",
              "    <tr>\n",
              "      <th>2</th>\n",
              "      <td>Conchalí</td>\n",
              "      <td>norte</td>\n",
              "    </tr>\n",
              "    <tr>\n",
              "      <th>3</th>\n",
              "      <td>El Bosque</td>\n",
              "      <td>sur</td>\n",
              "    </tr>\n",
              "    <tr>\n",
              "      <th>4</th>\n",
              "      <td>Estación Central</td>\n",
              "      <td>surponiente</td>\n",
              "    </tr>\n",
              "    <tr>\n",
              "      <th>5</th>\n",
              "      <td>Huechuraba</td>\n",
              "      <td>norte</td>\n",
              "    </tr>\n",
              "    <tr>\n",
              "      <th>6</th>\n",
              "      <td>Independencia</td>\n",
              "      <td>norte</td>\n",
              "    </tr>\n",
              "    <tr>\n",
              "      <th>7</th>\n",
              "      <td>La Cisterna</td>\n",
              "      <td>sur</td>\n",
              "    </tr>\n",
              "    <tr>\n",
              "      <th>8</th>\n",
              "      <td>La Florida</td>\n",
              "      <td>suroriente</td>\n",
              "    </tr>\n",
              "    <tr>\n",
              "      <th>9</th>\n",
              "      <td>La Granja</td>\n",
              "      <td>sur</td>\n",
              "    </tr>\n",
              "    <tr>\n",
              "      <th>10</th>\n",
              "      <td>La Pintana</td>\n",
              "      <td>sur</td>\n",
              "    </tr>\n",
              "    <tr>\n",
              "      <th>11</th>\n",
              "      <td>La Reina</td>\n",
              "      <td>nororiente</td>\n",
              "    </tr>\n",
              "    <tr>\n",
              "      <th>12</th>\n",
              "      <td>Las Condes</td>\n",
              "      <td>nororiente</td>\n",
              "    </tr>\n",
              "    <tr>\n",
              "      <th>13</th>\n",
              "      <td>Lo Barnechea</td>\n",
              "      <td>nororiente</td>\n",
              "    </tr>\n",
              "    <tr>\n",
              "      <th>14</th>\n",
              "      <td>Lo Espejo</td>\n",
              "      <td>sur</td>\n",
              "    </tr>\n",
              "    <tr>\n",
              "      <th>15</th>\n",
              "      <td>Lo Prado</td>\n",
              "      <td>norponiente</td>\n",
              "    </tr>\n",
              "    <tr>\n",
              "      <th>16</th>\n",
              "      <td>Macul</td>\n",
              "      <td>suroriente</td>\n",
              "    </tr>\n",
              "    <tr>\n",
              "      <th>17</th>\n",
              "      <td>Maipú</td>\n",
              "      <td>surponiente</td>\n",
              "    </tr>\n",
              "    <tr>\n",
              "      <th>18</th>\n",
              "      <td>Ñuñoa</td>\n",
              "      <td>nororiente</td>\n",
              "    </tr>\n",
              "    <tr>\n",
              "      <th>19</th>\n",
              "      <td>Padre Hurtado</td>\n",
              "      <td>surponiente</td>\n",
              "    </tr>\n",
              "    <tr>\n",
              "      <th>20</th>\n",
              "      <td>Pedro Aguirre Cerda</td>\n",
              "      <td>sur</td>\n",
              "    </tr>\n",
              "    <tr>\n",
              "      <th>21</th>\n",
              "      <td>Peñaflor</td>\n",
              "      <td>surponiente</td>\n",
              "    </tr>\n",
              "    <tr>\n",
              "      <th>22</th>\n",
              "      <td>Peñalolén</td>\n",
              "      <td>suroriente</td>\n",
              "    </tr>\n",
              "    <tr>\n",
              "      <th>23</th>\n",
              "      <td>Providencia</td>\n",
              "      <td>nororiente</td>\n",
              "    </tr>\n",
              "    <tr>\n",
              "      <th>24</th>\n",
              "      <td>Pudahuel</td>\n",
              "      <td>norponiente</td>\n",
              "    </tr>\n",
              "    <tr>\n",
              "      <th>25</th>\n",
              "      <td>Puente Alto</td>\n",
              "      <td>suroriente</td>\n",
              "    </tr>\n",
              "    <tr>\n",
              "      <th>26</th>\n",
              "      <td>Quilicura</td>\n",
              "      <td>norte</td>\n",
              "    </tr>\n",
              "    <tr>\n",
              "      <th>27</th>\n",
              "      <td>Quinta Normal</td>\n",
              "      <td>norponiente</td>\n",
              "    </tr>\n",
              "    <tr>\n",
              "      <th>28</th>\n",
              "      <td>Recoleta</td>\n",
              "      <td>norte</td>\n",
              "    </tr>\n",
              "    <tr>\n",
              "      <th>29</th>\n",
              "      <td>Renca</td>\n",
              "      <td>norponiente</td>\n",
              "    </tr>\n",
              "    <tr>\n",
              "      <th>30</th>\n",
              "      <td>San Bernardo</td>\n",
              "      <td>sur</td>\n",
              "    </tr>\n",
              "    <tr>\n",
              "      <th>31</th>\n",
              "      <td>San Joaquín</td>\n",
              "      <td>sur</td>\n",
              "    </tr>\n",
              "    <tr>\n",
              "      <th>32</th>\n",
              "      <td>San Miguel</td>\n",
              "      <td>sur</td>\n",
              "    </tr>\n",
              "    <tr>\n",
              "      <th>33</th>\n",
              "      <td>San Ramón</td>\n",
              "      <td>sur</td>\n",
              "    </tr>\n",
              "    <tr>\n",
              "      <th>34</th>\n",
              "      <td>Santiago</td>\n",
              "      <td>centro</td>\n",
              "    </tr>\n",
              "    <tr>\n",
              "      <th>35</th>\n",
              "      <td>Vitacura</td>\n",
              "      <td>nororiente</td>\n",
              "    </tr>\n",
              "  </tbody>\n",
              "</table>\n",
              "</div>"
            ],
            "text/plain": [
              "                 Comuna       Sector\n",
              "0             Cerrillos  surponiente\n",
              "1           Cerro Navia  norponiente\n",
              "2              Conchalí        norte\n",
              "3             El Bosque          sur\n",
              "4      Estación Central  surponiente\n",
              "5            Huechuraba        norte\n",
              "6         Independencia        norte\n",
              "7           La Cisterna          sur\n",
              "8            La Florida   suroriente\n",
              "9             La Granja          sur\n",
              "10           La Pintana          sur\n",
              "11             La Reina   nororiente\n",
              "12           Las Condes   nororiente\n",
              "13         Lo Barnechea   nororiente\n",
              "14            Lo Espejo          sur\n",
              "15             Lo Prado  norponiente\n",
              "16                Macul   suroriente\n",
              "17                Maipú  surponiente\n",
              "18                Ñuñoa   nororiente\n",
              "19        Padre Hurtado  surponiente\n",
              "20  Pedro Aguirre Cerda          sur\n",
              "21             Peñaflor  surponiente\n",
              "22            Peñalolén   suroriente\n",
              "23          Providencia   nororiente\n",
              "24             Pudahuel  norponiente\n",
              "25          Puente Alto   suroriente\n",
              "26            Quilicura        norte\n",
              "27        Quinta Normal  norponiente\n",
              "28             Recoleta        norte\n",
              "29                Renca  norponiente\n",
              "30         San Bernardo          sur\n",
              "31          San Joaquín          sur\n",
              "32           San Miguel          sur\n",
              "33            San Ramón          sur\n",
              "34             Santiago       centro\n",
              "35             Vitacura   nororiente"
            ]
          },
          "metadata": {
            "tags": []
          },
          "execution_count": 21
        }
      ]
    },
    {
      "cell_type": "code",
      "metadata": {
        "ExecuteTime": {
          "end_time": "2020-09-06T19:00:11.129819Z",
          "start_time": "2020-09-06T19:00:11.117954Z"
        },
        "id": "Be85ltwepo7s",
        "colab_type": "code",
        "colab": {}
      },
      "source": [
        "lista = list(df_stgo[\"Comuna\"])"
      ],
      "execution_count": 22,
      "outputs": []
    },
    {
      "cell_type": "code",
      "metadata": {
        "ExecuteTime": {
          "end_time": "2020-09-06T19:00:12.366024Z",
          "start_time": "2020-09-06T19:00:12.341644Z"
        },
        "id": "Ai3f8dWnpo7z",
        "colab_type": "code",
        "colab": {}
      },
      "source": [
        "df = df.T[lista].T"
      ],
      "execution_count": 23,
      "outputs": []
    },
    {
      "cell_type": "code",
      "metadata": {
        "ExecuteTime": {
          "end_time": "2020-09-06T19:00:12.896984Z",
          "start_time": "2020-09-06T19:00:12.889121Z"
        },
        "id": "bv9Lbbyfpo72",
        "colab_type": "code",
        "colab": {}
      },
      "source": [
        "df[\"Total\"] = df[\"COVID Confirmado\"] + df[\"COVID Sospechoso\"]"
      ],
      "execution_count": 24,
      "outputs": []
    },
    {
      "cell_type": "code",
      "metadata": {
        "ExecuteTime": {
          "end_time": "2020-09-06T19:00:13.424222Z",
          "start_time": "2020-09-06T19:00:13.415484Z"
        },
        "id": "h9lIY614po79",
        "colab_type": "code",
        "colab": {}
      },
      "source": [
        "df = df.sort_values(by=\"Total\", ascending=True)"
      ],
      "execution_count": 25,
      "outputs": []
    },
    {
      "cell_type": "code",
      "metadata": {
        "ExecuteTime": {
          "end_time": "2020-09-06T19:00:13.897249Z",
          "start_time": "2020-09-06T19:00:13.892820Z"
        },
        "id": "DHJGoJszpo8C",
        "colab_type": "code",
        "colab": {}
      },
      "source": [
        "df = df.rename(columns={'COVID Confirmado': 'COVID-19 Confirmado', 'COVID Sospechoso': 'COVID-19 Sospechoso'})"
      ],
      "execution_count": 26,
      "outputs": []
    },
    {
      "cell_type": "code",
      "metadata": {
        "ExecuteTime": {
          "end_time": "2020-09-06T19:00:42.343076Z",
          "start_time": "2020-09-06T19:00:42.311707Z"
        },
        "id": "z34GFfpepo8F",
        "colab_type": "code",
        "colab": {
          "base_uri": "https://localhost:8080/",
          "height": 35
        },
        "outputId": "fc754a65-f5fe-493a-ed7b-cdcd16ae98b6"
      },
      "source": [
        "last_date = pd.to_datetime(data_RM[\"fecha\"], format='%Y-%m-%d').sort_values().iloc[-1].strftime('%Y-%m-%d')\n",
        "report_date = (pd.to_datetime(last_date) + pd.DateOffset(days=1)).strftime('%Y-%m-%d')\n",
        "last_date, report_date"
      ],
      "execution_count": 27,
      "outputs": [
        {
          "output_type": "execute_result",
          "data": {
            "text/plain": [
              "('2020-09-09', '2020-09-10')"
            ]
          },
          "metadata": {
            "tags": []
          },
          "execution_count": 27
        }
      ]
    },
    {
      "cell_type": "code",
      "metadata": {
        "ExecuteTime": {
          "end_time": "2020-09-06T19:01:21.655498Z",
          "start_time": "2020-09-06T19:01:19.787049Z"
        },
        "id": "uDYJFGSwpo8L",
        "colab_type": "code",
        "colab": {
          "base_uri": "https://localhost:8080/",
          "height": 819
        },
        "outputId": "c9857ff2-794a-4842-b2f1-f8b12ca6aa3e"
      },
      "source": [
        "fig, ax = plt.subplots(figsize=(10,13))\n",
        "df[[\"COVID-19 Confirmado\", \"COVID-19 Sospechoso\"]].plot.barh(stacked=True, ax=ax)\n",
        "for i, val in enumerate(df['COVID-19 Confirmado']):\n",
        "    ax.text(val-20, i+0.28,f\" {val:.0f}\", fontsize=12)\n",
        "for i, val in enumerate(df['Total']):\n",
        "    ax.text(val-5, i-0.2,f\" {val:.0f}\", fontsize=15)\n",
        "ax.legend(fontsize=15)\n",
        "ax.set_xlim(0,910)\n",
        "ax.set_ylim(-.2,len(df))\n",
        "ax.set_ylabel(\"\", fontsize=15)\n",
        "ax.set_xlabel(\"número de defunciones\", fontsize=15)\n",
        "ax.set_title(f\"Defunciones causa COVID-19 en comunas de la conurbación de Santiago al {pd.to_datetime(report_date).strftime('%d/%m')}\", fontsize=15)\n",
        "plt.annotate('Fuente: DEIS\\nAutor: @alonsosilva', (0,0), (-60,-30), xycoords='axes fraction', textcoords='offset points', va='top', fontsize=15)\n",
        "# plt.savefig('2020-09-10-Muertes-por-comuna.png', bbox_inches='tight', format='png', dvi=8000)\n",
        "plt.show()"
      ],
      "execution_count": 28,
      "outputs": [
        {
          "output_type": "display_data",
          "data": {
            "image/png": "[encoded data removed]",
            "text/plain": [
              "<Figure size 720x936 with 1 Axes>"
            ]
          },
          "metadata": {
            "tags": [],
            "needs_background": "light"
          }
        }
      ]
    },
    {
      "cell_type": "code",
      "metadata": {
        "ExecuteTime": {
          "end_time": "2020-09-06T19:01:26.477635Z",
          "start_time": "2020-09-06T19:01:26.466619Z"
        },
        "scrolled": true,
        "id": "7H6Rvnjdpo8Q",
        "colab_type": "code",
        "colab": {
          "base_uri": "https://localhost:8080/",
          "height": 35
        },
        "outputId": "a1449b4e-2e05-4146-f9f8-54344c2e4737"
      },
      "source": [
        "df[\"Total\"].sum(), df[\"Total\"].sum()/len(data_raw.query(\"c_causa == 'U07'\")), df[\"Total\"].sum()/len(data_RM)"
      ],
      "execution_count": 29,
      "outputs": [
        {
          "output_type": "execute_result",
          "data": {
            "text/plain": [
              "(10633.0, 0.6554678831216866, 0.9242068665797479)"
            ]
          },
          "metadata": {
            "tags": []
          },
          "execution_count": 29
        }
      ]
    },
    {
      "cell_type": "code",
      "metadata": {
        "id": "lmMbksYrsFy_",
        "colab_type": "code",
        "colab": {
          "base_uri": "https://localhost:8080/",
          "height": 35
        },
        "outputId": "2cc15ebe-518f-4c40-fdb8-2ceac85ecb38"
      },
      "source": [
        "df[\"COVID-19 Confirmado\"].sum(), df[\"COVID-19 Confirmado\"].sum()/len(data_raw.query(\"c_causa_detalle == 'U071'\")), df[\"COVID-19 Confirmado\"].sum()/len(data_raw.query(\"c_causa_detalle == 'U071' & region == 'Metropolitana de Santiago'\"))"
      ],
      "execution_count": 30,
      "outputs": [
        {
          "output_type": "execute_result",
          "data": {
            "text/plain": [
              "(8164.0, 0.6863387978142077, 0.9237384023534736)"
            ]
          },
          "metadata": {
            "tags": []
          },
          "execution_count": 30
        }
      ]
    },
    {
      "cell_type": "code",
      "metadata": {
        "ExecuteTime": {
          "end_time": "2020-09-06T19:01:44.514258Z",
          "start_time": "2020-09-06T19:01:37.869734Z"
        },
        "id": "YAqJKb4npo8U",
        "colab_type": "code",
        "colab": {}
      },
      "source": [
        "# download INE 2017 county population data\n",
        "county_population_raw = pd.read_csv(\n",
        "    #\"https://raw.githubusercontent.com/alonsosilvaallende/COVID-19/master/data/ine_estimaciones-y-proyecciones-2002-2035_base-2017_comunas0381d25bc2224f51b9770a705a434b74.csv\",\n",
        "    \"http://www.ine.cl/docs/default-source/proyecciones-de-poblacion/cuadros-estadisticos/base-2017/ine_estimaciones-y-proyecciones-2002-2035_base-2017_comunas0381d25bc2224f51b9770a705a434b74.csv\",\n",
        "    encoding='ISO-8859-1', sep=\",\", thousands='.')"
      ],
      "execution_count": 31,
      "outputs": []
    },
    {
      "cell_type": "code",
      "metadata": {
        "id": "NCgDzA3Psz5h",
        "colab_type": "code",
        "colab": {
          "base_uri": "https://localhost:8080/",
          "height": 261
        },
        "outputId": "6d0f40e0-2c82-448b-b159-b6cdf6a54287"
      },
      "source": [
        "county_population_raw.head()"
      ],
      "execution_count": 32,
      "outputs": [
        {
          "output_type": "execute_result",
          "data": {
            "text/html": [
              "<div>\n",
              "<style scoped>\n",
              "    .dataframe tbody tr th:only-of-type {\n",
              "        vertical-align: middle;\n",
              "    }\n",
              "\n",
              "    .dataframe tbody tr th {\n",
              "        vertical-align: top;\n",
              "    }\n",
              "\n",
              "    .dataframe thead th {\n",
              "        text-align: right;\n",
              "    }\n",
              "</style>\n",
              "<table border=\"1\" class=\"dataframe\">\n",
              "  <thead>\n",
              "    <tr style=\"text-align: right;\">\n",
              "      <th></th>\n",
              "      <th>Region</th>\n",
              "      <th>Nombre Region</th>\n",
              "      <th>Provincia</th>\n",
              "      <th>Nombre Provincia</th>\n",
              "      <th>Comuna</th>\n",
              "      <th>Nombre Comuna</th>\n",
              "      <th>Sexo (1=Hombre 2=Mujer)</th>\n",
              "      <th>Edad</th>\n",
              "      <th>Poblacion 2002</th>\n",
              "      <th>Poblacion 2003</th>\n",
              "      <th>Poblacion 2004</th>\n",
              "      <th>Poblacion 2005</th>\n",
              "      <th>Poblacion 2006</th>\n",
              "      <th>Poblacion 2007</th>\n",
              "      <th>Poblacion 2008</th>\n",
              "      <th>Poblacion 2009</th>\n",
              "      <th>Poblacion 2010</th>\n",
              "      <th>Poblacion 2011</th>\n",
              "      <th>Poblacion 2012</th>\n",
              "      <th>Poblacion 2013</th>\n",
              "      <th>Poblacion 2014</th>\n",
              "      <th>Poblacion 2015</th>\n",
              "      <th>Poblacion 2016</th>\n",
              "      <th>Poblacion 2017</th>\n",
              "      <th>Poblacion 2018</th>\n",
              "      <th>Poblacion 2019</th>\n",
              "      <th>Poblacion 2020</th>\n",
              "      <th>Poblacion 2021</th>\n",
              "      <th>Poblacion 2022</th>\n",
              "      <th>Poblacion 2023</th>\n",
              "      <th>Poblacion 2024</th>\n",
              "      <th>Poblacion 2025</th>\n",
              "      <th>Poblacion 2026</th>\n",
              "      <th>Poblacion 2027</th>\n",
              "      <th>Poblacion 2028</th>\n",
              "      <th>Poblacion 2029</th>\n",
              "      <th>Poblacion 2030</th>\n",
              "      <th>Poblacion 2031</th>\n",
              "      <th>Poblacion 2032</th>\n",
              "      <th>Poblacion 2033</th>\n",
              "      <th>Poblacion 2034</th>\n",
              "      <th>Poblacion 2035</th>\n",
              "    </tr>\n",
              "  </thead>\n",
              "  <tbody>\n",
              "    <tr>\n",
              "      <th>0</th>\n",
              "      <td>1</td>\n",
              "      <td>Tarapacá</td>\n",
              "      <td>11</td>\n",
              "      <td>Iquique</td>\n",
              "      <td>1101</td>\n",
              "      <td>Iquique</td>\n",
              "      <td>1</td>\n",
              "      <td>0</td>\n",
              "      <td>1469</td>\n",
              "      <td>1395</td>\n",
              "      <td>1392</td>\n",
              "      <td>1376</td>\n",
              "      <td>1360</td>\n",
              "      <td>1409</td>\n",
              "      <td>1466</td>\n",
              "      <td>1550</td>\n",
              "      <td>1583</td>\n",
              "      <td>1615</td>\n",
              "      <td>1608</td>\n",
              "      <td>1590</td>\n",
              "      <td>1596</td>\n",
              "      <td>1588</td>\n",
              "      <td>1546</td>\n",
              "      <td>1435</td>\n",
              "      <td>1442</td>\n",
              "      <td>1491</td>\n",
              "      <td>1550</td>\n",
              "      <td>1576</td>\n",
              "      <td>1575</td>\n",
              "      <td>1564</td>\n",
              "      <td>1553</td>\n",
              "      <td>1534</td>\n",
              "      <td>1518</td>\n",
              "      <td>1500</td>\n",
              "      <td>1483</td>\n",
              "      <td>1466</td>\n",
              "      <td>1446</td>\n",
              "      <td>1441</td>\n",
              "      <td>1425</td>\n",
              "      <td>1410</td>\n",
              "      <td>1395</td>\n",
              "      <td>1378</td>\n",
              "    </tr>\n",
              "    <tr>\n",
              "      <th>1</th>\n",
              "      <td>1</td>\n",
              "      <td>Tarapacá</td>\n",
              "      <td>11</td>\n",
              "      <td>Iquique</td>\n",
              "      <td>1101</td>\n",
              "      <td>Iquique</td>\n",
              "      <td>1</td>\n",
              "      <td>1</td>\n",
              "      <td>1472</td>\n",
              "      <td>1379</td>\n",
              "      <td>1342</td>\n",
              "      <td>1360</td>\n",
              "      <td>1360</td>\n",
              "      <td>1350</td>\n",
              "      <td>1402</td>\n",
              "      <td>1461</td>\n",
              "      <td>1547</td>\n",
              "      <td>1582</td>\n",
              "      <td>1615</td>\n",
              "      <td>1605</td>\n",
              "      <td>1588</td>\n",
              "      <td>1591</td>\n",
              "      <td>1586</td>\n",
              "      <td>1543</td>\n",
              "      <td>1449</td>\n",
              "      <td>1460</td>\n",
              "      <td>1507</td>\n",
              "      <td>1550</td>\n",
              "      <td>1567</td>\n",
              "      <td>1565</td>\n",
              "      <td>1553</td>\n",
              "      <td>1539</td>\n",
              "      <td>1523</td>\n",
              "      <td>1507</td>\n",
              "      <td>1489</td>\n",
              "      <td>1470</td>\n",
              "      <td>1454</td>\n",
              "      <td>1434</td>\n",
              "      <td>1429</td>\n",
              "      <td>1413</td>\n",
              "      <td>1397</td>\n",
              "      <td>1383</td>\n",
              "    </tr>\n",
              "    <tr>\n",
              "      <th>2</th>\n",
              "      <td>1</td>\n",
              "      <td>Tarapacá</td>\n",
              "      <td>11</td>\n",
              "      <td>Iquique</td>\n",
              "      <td>1101</td>\n",
              "      <td>Iquique</td>\n",
              "      <td>1</td>\n",
              "      <td>2</td>\n",
              "      <td>1461</td>\n",
              "      <td>1377</td>\n",
              "      <td>1323</td>\n",
              "      <td>1310</td>\n",
              "      <td>1342</td>\n",
              "      <td>1348</td>\n",
              "      <td>1342</td>\n",
              "      <td>1395</td>\n",
              "      <td>1455</td>\n",
              "      <td>1543</td>\n",
              "      <td>1580</td>\n",
              "      <td>1608</td>\n",
              "      <td>1600</td>\n",
              "      <td>1583</td>\n",
              "      <td>1584</td>\n",
              "      <td>1583</td>\n",
              "      <td>1556</td>\n",
              "      <td>1470</td>\n",
              "      <td>1481</td>\n",
              "      <td>1508</td>\n",
              "      <td>1538</td>\n",
              "      <td>1554</td>\n",
              "      <td>1552</td>\n",
              "      <td>1541</td>\n",
              "      <td>1526</td>\n",
              "      <td>1509</td>\n",
              "      <td>1492</td>\n",
              "      <td>1477</td>\n",
              "      <td>1458</td>\n",
              "      <td>1440</td>\n",
              "      <td>1420</td>\n",
              "      <td>1412</td>\n",
              "      <td>1401</td>\n",
              "      <td>1383</td>\n",
              "    </tr>\n",
              "    <tr>\n",
              "      <th>3</th>\n",
              "      <td>1</td>\n",
              "      <td>Tarapacá</td>\n",
              "      <td>11</td>\n",
              "      <td>Iquique</td>\n",
              "      <td>1101</td>\n",
              "      <td>Iquique</td>\n",
              "      <td>1</td>\n",
              "      <td>3</td>\n",
              "      <td>1464</td>\n",
              "      <td>1376</td>\n",
              "      <td>1329</td>\n",
              "      <td>1298</td>\n",
              "      <td>1299</td>\n",
              "      <td>1337</td>\n",
              "      <td>1345</td>\n",
              "      <td>1340</td>\n",
              "      <td>1394</td>\n",
              "      <td>1454</td>\n",
              "      <td>1541</td>\n",
              "      <td>1574</td>\n",
              "      <td>1600</td>\n",
              "      <td>1588</td>\n",
              "      <td>1570</td>\n",
              "      <td>1576</td>\n",
              "      <td>1590</td>\n",
              "      <td>1576</td>\n",
              "      <td>1490</td>\n",
              "      <td>1478</td>\n",
              "      <td>1492</td>\n",
              "      <td>1520</td>\n",
              "      <td>1535</td>\n",
              "      <td>1532</td>\n",
              "      <td>1521</td>\n",
              "      <td>1508</td>\n",
              "      <td>1491</td>\n",
              "      <td>1474</td>\n",
              "      <td>1457</td>\n",
              "      <td>1439</td>\n",
              "      <td>1422</td>\n",
              "      <td>1401</td>\n",
              "      <td>1395</td>\n",
              "      <td>1380</td>\n",
              "    </tr>\n",
              "    <tr>\n",
              "      <th>4</th>\n",
              "      <td>1</td>\n",
              "      <td>Tarapacá</td>\n",
              "      <td>11</td>\n",
              "      <td>Iquique</td>\n",
              "      <td>1101</td>\n",
              "      <td>Iquique</td>\n",
              "      <td>1</td>\n",
              "      <td>4</td>\n",
              "      <td>1462</td>\n",
              "      <td>1382</td>\n",
              "      <td>1329</td>\n",
              "      <td>1306</td>\n",
              "      <td>1286</td>\n",
              "      <td>1292</td>\n",
              "      <td>1332</td>\n",
              "      <td>1341</td>\n",
              "      <td>1334</td>\n",
              "      <td>1390</td>\n",
              "      <td>1450</td>\n",
              "      <td>1533</td>\n",
              "      <td>1564</td>\n",
              "      <td>1591</td>\n",
              "      <td>1577</td>\n",
              "      <td>1563</td>\n",
              "      <td>1584</td>\n",
              "      <td>1613</td>\n",
              "      <td>1598</td>\n",
              "      <td>1489</td>\n",
              "      <td>1462</td>\n",
              "      <td>1475</td>\n",
              "      <td>1502</td>\n",
              "      <td>1518</td>\n",
              "      <td>1514</td>\n",
              "      <td>1503</td>\n",
              "      <td>1489</td>\n",
              "      <td>1472</td>\n",
              "      <td>1456</td>\n",
              "      <td>1438</td>\n",
              "      <td>1418</td>\n",
              "      <td>1403</td>\n",
              "      <td>1383</td>\n",
              "      <td>1376</td>\n",
              "    </tr>\n",
              "  </tbody>\n",
              "</table>\n",
              "</div>"
            ],
            "text/plain": [
              "   Region Nombre Region  ...  Poblacion 2034 Poblacion 2035\n",
              "0       1      Tarapacá  ...            1395           1378\n",
              "1       1      Tarapacá  ...            1397           1383\n",
              "2       1      Tarapacá  ...            1401           1383\n",
              "3       1      Tarapacá  ...            1395           1380\n",
              "4       1      Tarapacá  ...            1383           1376\n",
              "\n",
              "[5 rows x 42 columns]"
            ]
          },
          "metadata": {
            "tags": []
          },
          "execution_count": 32
        }
      ]
    },
    {
      "cell_type": "code",
      "metadata": {
        "ExecuteTime": {
          "end_time": "2020-09-06T19:01:45.070730Z",
          "start_time": "2020-09-06T19:01:45.045854Z"
        },
        "id": "beQeMtxepo8Y",
        "colab_type": "code",
        "colab": {}
      },
      "source": [
        "# select only R.M.\n",
        "county_population_RM_raw = county_population_raw[county_population_raw[\"Nombre Region\"] == 'Metropolitana de Santiago'].drop(\n",
        "    columns=[\"Region\", \"Nombre Region\", \"Provincia\", \"Nombre Provincia\"])"
      ],
      "execution_count": 33,
      "outputs": []
    },
    {
      "cell_type": "code",
      "metadata": {
        "ExecuteTime": {
          "end_time": "2020-09-06T19:01:45.626603Z",
          "start_time": "2020-09-06T19:01:45.620053Z"
        },
        "id": "1nx34CmTpo8b",
        "colab_type": "code",
        "colab": {}
      },
      "source": [
        "# select relevant columns\n",
        "county_population_RM = county_population_RM_raw[['Sexo (1=Hombre 2=Mujer)', \"Edad\", \"Nombre Comuna\", \"Poblacion 2020\"]]"
      ],
      "execution_count": 34,
      "outputs": []
    },
    {
      "cell_type": "code",
      "metadata": {
        "ExecuteTime": {
          "end_time": "2020-09-06T19:01:46.341162Z",
          "start_time": "2020-09-06T19:01:46.336264Z"
        },
        "id": "ggL_xYcapo8f",
        "colab_type": "code",
        "colab": {}
      },
      "source": [
        "# rename columns\n",
        "county_population_RM = county_population_RM.rename(columns={\"Sexo (1=Hombre 2=Mujer)\": \"Sexo\", \"Nombre Comuna\": \"Comuna\"})"
      ],
      "execution_count": 35,
      "outputs": []
    },
    {
      "cell_type": "code",
      "metadata": {
        "ExecuteTime": {
          "end_time": "2020-09-06T19:01:46.898633Z",
          "start_time": "2020-09-06T19:01:46.878469Z"
        },
        "id": "pXtXkrk7po8i",
        "colab_type": "code",
        "colab": {}
      },
      "source": [
        "# compute population per county\n",
        "county_population = county_population_RM.groupby([\"Comuna\"]).sum().drop(columns=['Sexo', \"Edad\"])"
      ],
      "execution_count": 36,
      "outputs": []
    },
    {
      "cell_type": "code",
      "metadata": {
        "ExecuteTime": {
          "end_time": "2020-09-06T19:01:47.425126Z",
          "start_time": "2020-09-06T19:01:47.413958Z"
        },
        "id": "9tA6me-apo8l",
        "colab_type": "code",
        "colab": {}
      },
      "source": [
        "#hide\n",
        "df[\"Tasa de mortalidad COVID-19 Confirmado\"] = \\\n",
        "np.round(100000*df[\"COVID-19 Confirmado\"]/county_population[\"Poblacion 2020\"], decimals=1)"
      ],
      "execution_count": 37,
      "outputs": []
    },
    {
      "cell_type": "code",
      "metadata": {
        "ExecuteTime": {
          "end_time": "2020-09-06T19:01:47.998390Z",
          "start_time": "2020-09-06T19:01:47.991302Z"
        },
        "id": "hTy101Kjpo8o",
        "colab_type": "code",
        "colab": {}
      },
      "source": [
        "#hide\n",
        "df[\"Tasa de mortalidad COVID-19 Sospechoso\"] = \\\n",
        "np.round(100000*df[\"COVID-19 Sospechoso\"]/county_population[\"Poblacion 2020\"], decimals=1)"
      ],
      "execution_count": 38,
      "outputs": []
    },
    {
      "cell_type": "code",
      "metadata": {
        "ExecuteTime": {
          "end_time": "2020-09-06T19:01:48.576026Z",
          "start_time": "2020-09-06T19:01:48.548731Z"
        },
        "id": "Z17bMLKlpo8t",
        "colab_type": "code",
        "colab": {}
      },
      "source": [
        "#hide\n",
        "df[\"Tasa de mortalidad total\"] = \\\n",
        "np.round(100000*df[\"Total\"]/county_population[\"Poblacion 2020\"], decimals=1)"
      ],
      "execution_count": 39,
      "outputs": []
    },
    {
      "cell_type": "code",
      "metadata": {
        "ExecuteTime": {
          "end_time": "2020-09-06T19:01:49.074588Z",
          "start_time": "2020-09-06T19:01:49.064621Z"
        },
        "id": "FQzim98Wpo8w",
        "colab_type": "code",
        "colab": {}
      },
      "source": [
        "aux = df[[\"Tasa de mortalidad COVID-19 Confirmado\", \"Tasa de mortalidad COVID-19 Sospechoso\", \"Tasa de mortalidad total\"]]\n",
        "aux = aux.rename(columns={\"Tasa de mortalidad COVID-19 Confirmado\":\"COVID-19 Confirmado\", \"Tasa de mortalidad COVID-19 Sospechoso\":\"COVID-19 Sospechoso\"})\n",
        "aux = aux.sort_values(by=\"Tasa de mortalidad total\")"
      ],
      "execution_count": 40,
      "outputs": []
    },
    {
      "cell_type": "code",
      "metadata": {
        "ExecuteTime": {
          "end_time": "2020-09-06T19:02:05.032565Z",
          "start_time": "2020-09-06T19:02:03.217403Z"
        },
        "id": "0-WrNTKNpo8z",
        "colab_type": "code",
        "colab": {
          "base_uri": "https://localhost:8080/",
          "height": 837
        },
        "outputId": "c689ba55-ae17-490c-9340-8480ba0fb291"
      },
      "source": [
        "fig, ax = plt.subplots(figsize=(10,13))\n",
        "\n",
        "aux.drop(columns=\"Tasa de mortalidad total\").plot.barh(stacked=True, ax=ax)\n",
        "for i, val in enumerate(aux['COVID-19 Confirmado']):\n",
        "    ax.text(val-8, i+0.28,f\" {val:.0f}\", fontsize=12)\n",
        "for i, val in enumerate(aux['Tasa de mortalidad total']):\n",
        "    ax.text(val, i-0.2,f\" {val:.0f}\", fontsize=15)\n",
        "ax.legend(fontsize=15)\n",
        "ax.set_xlim(0,330)\n",
        "ax.set_ylim(-.2,len(df)-.1)\n",
        "ax.set_ylabel(\"\", fontsize=15)\n",
        "ax.set_xlabel(\"tasa de mortalidad observada\", fontsize=15)\n",
        "ax.set_title(f\"Tasa de mortalidad observada causa COVID-19 por 100.000 habitantes\\nen comunas de la conurbación de Santiago al {pd.to_datetime(report_date).strftime('%d/%m')}\", fontsize=15)\n",
        "plt.annotate('Fuente: DEIS\\nAutor: @alonsosilva', (0,0), (-60,-30), xycoords='axes fraction', textcoords='offset points', va='top', fontsize=15)\n",
        "# plt.savefig('2020-09-10-Mortalidad-observada-por-comuna.png', bbox_inches='tight', format='png', dvi=8000)\n",
        "plt.show()"
      ],
      "execution_count": 41,
      "outputs": [
        {
          "output_type": "display_data",
          "data": {
            "image/png": "[encoded data removed]",
            "text/plain": [
              "<Figure size 720x936 with 1 Axes>"
            ]
          },
          "metadata": {
            "tags": [],
            "needs_background": "light"
          }
        }
      ]
    },
    {
      "cell_type": "code",
      "metadata": {
        "ExecuteTime": {
          "end_time": "2020-09-06T19:02:15.920851Z",
          "start_time": "2020-09-06T19:02:15.909184Z"
        },
        "id": "8bq1FQFipo84",
        "colab_type": "code",
        "colab": {
          "base_uri": "https://localhost:8080/",
          "height": 123
        },
        "outputId": "810c476b-ef51-458a-8c89-026ab98e944a"
      },
      "source": [
        "# Create column sex (1=Hombre, 2=Mujer)\n",
        "data_RM[\"sexo\"] = (pd.get_dummies(data_RM[\"genero\"], drop_first=True)+1)"
      ],
      "execution_count": 42,
      "outputs": [
        {
          "output_type": "stream",
          "text": [
            "/usr/local/lib/python3.6/dist-packages/ipykernel_launcher.py:2: SettingWithCopyWarning: \n",
            "A value is trying to be set on a copy of a slice from a DataFrame.\n",
            "Try using .loc[row_indexer,col_indexer] = value instead\n",
            "\n",
            "See the caveats in the documentation: https://pandas.pydata.org/pandas-docs/stable/user_guide/indexing.html#returning-a-view-versus-a-copy\n",
            "  \n"
          ],
          "name": "stderr"
        }
      ]
    },
    {
      "cell_type": "markdown",
      "metadata": {
        "id": "6ty5714IvNHu",
        "colab_type": "text"
      },
      "source": [
        "Pirámides poblacionales: \n",
        "- https://es.datachile.io/geo/region-metropolitana-santiago-13/vitacura-340#demographics\n",
        "- https://es.datachile.io/geo/region-metropolitana-santiago-13/la-pintana-124#demographics"
      ]
    },
    {
      "cell_type": "markdown",
      "metadata": {
        "id": "LhHdhorxpo88",
        "colab_type": "text"
      },
      "source": [
        "# Meses y días como año zero"
      ]
    },
    {
      "cell_type": "code",
      "metadata": {
        "ExecuteTime": {
          "end_time": "2020-09-06T19:02:17.208449Z",
          "start_time": "2020-09-06T19:02:17.195973Z"
        },
        "id": "LvXhFsrppo88",
        "colab_type": "code",
        "colab": {
          "base_uri": "https://localhost:8080/",
          "height": 123
        },
        "outputId": "ee3c0d1b-d80c-4cb8-c51b-f9ebd16b3fae"
      },
      "source": [
        "data_RM[\"edad_tipo\"] = data_RM[\"edad_tipo\"].apply(lambda x: 1 if x==1 else 0)"
      ],
      "execution_count": 43,
      "outputs": [
        {
          "output_type": "stream",
          "text": [
            "/usr/local/lib/python3.6/dist-packages/ipykernel_launcher.py:1: SettingWithCopyWarning: \n",
            "A value is trying to be set on a copy of a slice from a DataFrame.\n",
            "Try using .loc[row_indexer,col_indexer] = value instead\n",
            "\n",
            "See the caveats in the documentation: https://pandas.pydata.org/pandas-docs/stable/user_guide/indexing.html#returning-a-view-versus-a-copy\n",
            "  \"\"\"Entry point for launching an IPython kernel.\n"
          ],
          "name": "stderr"
        }
      ]
    },
    {
      "cell_type": "code",
      "metadata": {
        "ExecuteTime": {
          "end_time": "2020-09-06T19:02:17.895518Z",
          "start_time": "2020-09-06T19:02:17.851771Z"
        },
        "id": "HyeUZVUGpo9A",
        "colab_type": "code",
        "colab": {
          "base_uri": "https://localhost:8080/",
          "height": 123
        },
        "outputId": "f20903cb-136b-4d1f-bc0d-6135026d592a"
      },
      "source": [
        "data_RM[\"edad\"] = data_RM[\"edad\"]*data_RM[\"edad_tipo\"]"
      ],
      "execution_count": 44,
      "outputs": [
        {
          "output_type": "stream",
          "text": [
            "/usr/local/lib/python3.6/dist-packages/ipykernel_launcher.py:1: SettingWithCopyWarning: \n",
            "A value is trying to be set on a copy of a slice from a DataFrame.\n",
            "Try using .loc[row_indexer,col_indexer] = value instead\n",
            "\n",
            "See the caveats in the documentation: https://pandas.pydata.org/pandas-docs/stable/user_guide/indexing.html#returning-a-view-versus-a-copy\n",
            "  \"\"\"Entry point for launching an IPython kernel.\n"
          ],
          "name": "stderr"
        }
      ]
    },
    {
      "cell_type": "markdown",
      "metadata": {
        "id": "LBJO6w9Mpo9C",
        "colab_type": "text"
      },
      "source": [
        "# Población estándar"
      ]
    },
    {
      "cell_type": "code",
      "metadata": {
        "ExecuteTime": {
          "end_time": "2020-09-06T19:02:22.701192Z",
          "start_time": "2020-09-06T19:02:19.602139Z"
        },
        "id": "u17jf18Ipo9D",
        "colab_type": "code",
        "colab": {}
      },
      "source": [
        "# download INE 2002 data\n",
        "censo2002 = pd.read_excel(\n",
        "    #\"https://github.com/alonsosilvaallende/COVID-19/blob/master/data/base-2002-(2014)-pa%C3%ADs-y-regiones_pob-total-e-indicadores.xlsx?raw=true\",\n",
        "    \"http://www.ine.cl/docs/default-source/proyecciones-de-poblacion/cuadros-estadisticos/proyecciones-anteriores/base-2002-(actualizaci%C3%B3n-2014)/base-2002-(2014)-pa%C3%ADs-y-regiones_pob-total-e-indicadores.xlsx?sfvrsn=92d0b299_3\",\n",
        "    sheet_name=\"País\")"
      ],
      "execution_count": 45,
      "outputs": []
    },
    {
      "cell_type": "code",
      "metadata": {
        "id": "hYQZIbeFuFEU",
        "colab_type": "code",
        "colab": {
          "base_uri": "https://localhost:8080/",
          "height": 330
        },
        "outputId": "32119776-8e15-4dfc-a877-be0d017c00dc"
      },
      "source": [
        "censo2002.head()"
      ],
      "execution_count": 46,
      "outputs": [
        {
          "output_type": "execute_result",
          "data": {
            "text/html": [
              "<div>\n",
              "<style scoped>\n",
              "    .dataframe tbody tr th:only-of-type {\n",
              "        vertical-align: middle;\n",
              "    }\n",
              "\n",
              "    .dataframe tbody tr th {\n",
              "        vertical-align: top;\n",
              "    }\n",
              "\n",
              "    .dataframe thead th {\n",
              "        text-align: right;\n",
              "    }\n",
              "</style>\n",
              "<table border=\"1\" class=\"dataframe\">\n",
              "  <thead>\n",
              "    <tr style=\"text-align: right;\">\n",
              "      <th></th>\n",
              "      <th>POBLACIÓN POR SEXO, SEGÚN EDAD SIMPLE. 2002-2020</th>\n",
              "      <th>Unnamed: 1</th>\n",
              "      <th>Unnamed: 2</th>\n",
              "      <th>Unnamed: 3</th>\n",
              "      <th>Unnamed: 4</th>\n",
              "      <th>Unnamed: 5</th>\n",
              "      <th>Unnamed: 6</th>\n",
              "      <th>Unnamed: 7</th>\n",
              "      <th>Unnamed: 8</th>\n",
              "      <th>Unnamed: 9</th>\n",
              "      <th>Unnamed: 10</th>\n",
              "      <th>Unnamed: 11</th>\n",
              "      <th>Unnamed: 12</th>\n",
              "      <th>Unnamed: 13</th>\n",
              "      <th>Unnamed: 14</th>\n",
              "      <th>Unnamed: 15</th>\n",
              "      <th>Unnamed: 16</th>\n",
              "      <th>Unnamed: 17</th>\n",
              "      <th>Unnamed: 18</th>\n",
              "      <th>Unnamed: 19</th>\n",
              "      <th>Unnamed: 20</th>\n",
              "      <th>Unnamed: 21</th>\n",
              "      <th>Unnamed: 22</th>\n",
              "    </tr>\n",
              "  </thead>\n",
              "  <tbody>\n",
              "    <tr>\n",
              "      <th>0</th>\n",
              "      <td>CHILE</td>\n",
              "      <td>NaN</td>\n",
              "      <td>NaN</td>\n",
              "      <td>NaN</td>\n",
              "      <td>NaN</td>\n",
              "      <td>NaN</td>\n",
              "      <td>NaN</td>\n",
              "      <td>NaN</td>\n",
              "      <td>NaN</td>\n",
              "      <td>NaN</td>\n",
              "      <td>NaN</td>\n",
              "      <td>NaN</td>\n",
              "      <td>NaN</td>\n",
              "      <td>NaN</td>\n",
              "      <td>NaN</td>\n",
              "      <td>NaN</td>\n",
              "      <td>NaN</td>\n",
              "      <td>NaN</td>\n",
              "      <td>NaN</td>\n",
              "      <td>NaN</td>\n",
              "      <td>NaN</td>\n",
              "      <td>NaN</td>\n",
              "      <td>NaN</td>\n",
              "    </tr>\n",
              "    <tr>\n",
              "      <th>1</th>\n",
              "      <td>Ambos Sexos</td>\n",
              "      <td>NaN</td>\n",
              "      <td>NaN</td>\n",
              "      <td>NaN</td>\n",
              "      <td>NaN</td>\n",
              "      <td>NaN</td>\n",
              "      <td>NaN</td>\n",
              "      <td>NaN</td>\n",
              "      <td>NaN</td>\n",
              "      <td>NaN</td>\n",
              "      <td>NaN</td>\n",
              "      <td>NaN</td>\n",
              "      <td>NaN</td>\n",
              "      <td>NaN</td>\n",
              "      <td>NaN</td>\n",
              "      <td>NaN</td>\n",
              "      <td>NaN</td>\n",
              "      <td>NaN</td>\n",
              "      <td>NaN</td>\n",
              "      <td>NaN</td>\n",
              "      <td>NaN</td>\n",
              "      <td>NaN</td>\n",
              "      <td>NaN</td>\n",
              "    </tr>\n",
              "    <tr>\n",
              "      <th>2</th>\n",
              "      <td>Edad</td>\n",
              "      <td>Años</td>\n",
              "      <td>NaN</td>\n",
              "      <td>NaN</td>\n",
              "      <td>NaN</td>\n",
              "      <td>NaN</td>\n",
              "      <td>NaN</td>\n",
              "      <td>NaN</td>\n",
              "      <td>NaN</td>\n",
              "      <td>NaN</td>\n",
              "      <td>NaN</td>\n",
              "      <td>NaN</td>\n",
              "      <td>NaN</td>\n",
              "      <td>NaN</td>\n",
              "      <td>NaN</td>\n",
              "      <td>NaN</td>\n",
              "      <td>NaN</td>\n",
              "      <td>NaN</td>\n",
              "      <td>NaN</td>\n",
              "      <td>NaN</td>\n",
              "      <td>NaN</td>\n",
              "      <td>NaN</td>\n",
              "      <td>NaN</td>\n",
              "    </tr>\n",
              "    <tr>\n",
              "      <th>3</th>\n",
              "      <td>NaN</td>\n",
              "      <td>2002</td>\n",
              "      <td>2003.0</td>\n",
              "      <td>2004.0</td>\n",
              "      <td>2005.0</td>\n",
              "      <td>2006.0</td>\n",
              "      <td>2007.0</td>\n",
              "      <td>2008.0</td>\n",
              "      <td>2009.0</td>\n",
              "      <td>2010.0</td>\n",
              "      <td>2011.0</td>\n",
              "      <td>2012.0</td>\n",
              "      <td>2013.0</td>\n",
              "      <td>2014.0</td>\n",
              "      <td>2015.0</td>\n",
              "      <td>2016.0</td>\n",
              "      <td>2017.0</td>\n",
              "      <td>2018.0</td>\n",
              "      <td>2019.0</td>\n",
              "      <td>2020.0</td>\n",
              "      <td>NaN</td>\n",
              "      <td>NaN</td>\n",
              "      <td>NaN</td>\n",
              "    </tr>\n",
              "    <tr>\n",
              "      <th>4</th>\n",
              "      <td>0</td>\n",
              "      <td>242959</td>\n",
              "      <td>236880.0</td>\n",
              "      <td>232663.0</td>\n",
              "      <td>230568.0</td>\n",
              "      <td>230900.0</td>\n",
              "      <td>235457.0</td>\n",
              "      <td>242535.0</td>\n",
              "      <td>248363.0</td>\n",
              "      <td>250453.0</td>\n",
              "      <td>248203.0</td>\n",
              "      <td>244493.0</td>\n",
              "      <td>243846.0</td>\n",
              "      <td>246478.0</td>\n",
              "      <td>248803.0</td>\n",
              "      <td>249552.0</td>\n",
              "      <td>248757.0</td>\n",
              "      <td>247753.0</td>\n",
              "      <td>246560.0</td>\n",
              "      <td>245194.0</td>\n",
              "      <td>NaN</td>\n",
              "      <td>NaN</td>\n",
              "      <td>NaN</td>\n",
              "    </tr>\n",
              "  </tbody>\n",
              "</table>\n",
              "</div>"
            ],
            "text/plain": [
              "  POBLACIÓN POR SEXO, SEGÚN EDAD SIMPLE. 2002-2020  ... Unnamed: 22\n",
              "0                                            CHILE  ...         NaN\n",
              "1                                      Ambos Sexos  ...         NaN\n",
              "2                                             Edad  ...         NaN\n",
              "3                                              NaN  ...         NaN\n",
              "4                                                0  ...         NaN\n",
              "\n",
              "[5 rows x 23 columns]"
            ]
          },
          "metadata": {
            "tags": []
          },
          "execution_count": 46
        }
      ]
    },
    {
      "cell_type": "code",
      "metadata": {
        "id": "0cT0bR0vuPrz",
        "colab_type": "code",
        "colab": {
          "base_uri": "https://localhost:8080/",
          "height": 530
        },
        "outputId": "ae30d277-52c5-45bf-f2b5-f2a80e7d99fb"
      },
      "source": [
        "censo2002.iloc[90:171]"
      ],
      "execution_count": 47,
      "outputs": [
        {
          "output_type": "execute_result",
          "data": {
            "text/html": [
              "<div>\n",
              "<style scoped>\n",
              "    .dataframe tbody tr th:only-of-type {\n",
              "        vertical-align: middle;\n",
              "    }\n",
              "\n",
              "    .dataframe tbody tr th {\n",
              "        vertical-align: top;\n",
              "    }\n",
              "\n",
              "    .dataframe thead th {\n",
              "        text-align: right;\n",
              "    }\n",
              "</style>\n",
              "<table border=\"1\" class=\"dataframe\">\n",
              "  <thead>\n",
              "    <tr style=\"text-align: right;\">\n",
              "      <th></th>\n",
              "      <th>POBLACIÓN POR SEXO, SEGÚN EDAD SIMPLE. 2002-2020</th>\n",
              "      <th>Unnamed: 1</th>\n",
              "      <th>Unnamed: 2</th>\n",
              "      <th>Unnamed: 3</th>\n",
              "      <th>Unnamed: 4</th>\n",
              "      <th>Unnamed: 5</th>\n",
              "      <th>Unnamed: 6</th>\n",
              "      <th>Unnamed: 7</th>\n",
              "      <th>Unnamed: 8</th>\n",
              "      <th>Unnamed: 9</th>\n",
              "      <th>Unnamed: 10</th>\n",
              "      <th>Unnamed: 11</th>\n",
              "      <th>Unnamed: 12</th>\n",
              "      <th>Unnamed: 13</th>\n",
              "      <th>Unnamed: 14</th>\n",
              "      <th>Unnamed: 15</th>\n",
              "      <th>Unnamed: 16</th>\n",
              "      <th>Unnamed: 17</th>\n",
              "      <th>Unnamed: 18</th>\n",
              "      <th>Unnamed: 19</th>\n",
              "      <th>Unnamed: 20</th>\n",
              "      <th>Unnamed: 21</th>\n",
              "      <th>Unnamed: 22</th>\n",
              "    </tr>\n",
              "  </thead>\n",
              "  <tbody>\n",
              "    <tr>\n",
              "      <th>90</th>\n",
              "      <td>0</td>\n",
              "      <td>123765</td>\n",
              "      <td>120950.0</td>\n",
              "      <td>118732.0</td>\n",
              "      <td>117869.0</td>\n",
              "      <td>118177.0</td>\n",
              "      <td>120206.0</td>\n",
              "      <td>123781.0</td>\n",
              "      <td>126645.0</td>\n",
              "      <td>127570.0</td>\n",
              "      <td>126634.0</td>\n",
              "      <td>124737.0</td>\n",
              "      <td>124112.0</td>\n",
              "      <td>125450.0</td>\n",
              "      <td>126633.0</td>\n",
              "      <td>127015.0</td>\n",
              "      <td>126615.0</td>\n",
              "      <td>126109.0</td>\n",
              "      <td>125505.0</td>\n",
              "      <td>124813.0</td>\n",
              "      <td>NaN</td>\n",
              "      <td>NaN</td>\n",
              "      <td>NaN</td>\n",
              "    </tr>\n",
              "    <tr>\n",
              "      <th>91</th>\n",
              "      <td>1</td>\n",
              "      <td>125464</td>\n",
              "      <td>123748.0</td>\n",
              "      <td>120937.0</td>\n",
              "      <td>118745.0</td>\n",
              "      <td>117907.0</td>\n",
              "      <td>118253.0</td>\n",
              "      <td>120310.0</td>\n",
              "      <td>123894.0</td>\n",
              "      <td>126769.0</td>\n",
              "      <td>127732.0</td>\n",
              "      <td>126827.0</td>\n",
              "      <td>124934.0</td>\n",
              "      <td>124311.0</td>\n",
              "      <td>125652.0</td>\n",
              "      <td>126836.0</td>\n",
              "      <td>127221.0</td>\n",
              "      <td>126821.0</td>\n",
              "      <td>126322.0</td>\n",
              "      <td>125718.0</td>\n",
              "      <td>NaN</td>\n",
              "      <td>NaN</td>\n",
              "      <td>NaN</td>\n",
              "    </tr>\n",
              "    <tr>\n",
              "      <th>92</th>\n",
              "      <td>2</td>\n",
              "      <td>128254</td>\n",
              "      <td>125489.0</td>\n",
              "      <td>123785.0</td>\n",
              "      <td>121007.0</td>\n",
              "      <td>118827.0</td>\n",
              "      <td>118029.0</td>\n",
              "      <td>118413.0</td>\n",
              "      <td>120478.0</td>\n",
              "      <td>124070.0</td>\n",
              "      <td>126979.0</td>\n",
              "      <td>127972.0</td>\n",
              "      <td>127075.0</td>\n",
              "      <td>125184.0</td>\n",
              "      <td>124566.0</td>\n",
              "      <td>125910.0</td>\n",
              "      <td>127090.0</td>\n",
              "      <td>127476.0</td>\n",
              "      <td>127077.0</td>\n",
              "      <td>126582.0</td>\n",
              "      <td>NaN</td>\n",
              "      <td>NaN</td>\n",
              "      <td>NaN</td>\n",
              "    </tr>\n",
              "    <tr>\n",
              "      <th>93</th>\n",
              "      <td>3</td>\n",
              "      <td>130931</td>\n",
              "      <td>128290.0</td>\n",
              "      <td>125539.0</td>\n",
              "      <td>123853.0</td>\n",
              "      <td>121104.0</td>\n",
              "      <td>118957.0</td>\n",
              "      <td>118195.0</td>\n",
              "      <td>118590.0</td>\n",
              "      <td>120662.0</td>\n",
              "      <td>124283.0</td>\n",
              "      <td>127229.0</td>\n",
              "      <td>128226.0</td>\n",
              "      <td>127331.0</td>\n",
              "      <td>125440.0</td>\n",
              "      <td>124822.0</td>\n",
              "      <td>126173.0</td>\n",
              "      <td>127355.0</td>\n",
              "      <td>127740.0</td>\n",
              "      <td>127342.0</td>\n",
              "      <td>NaN</td>\n",
              "      <td>NaN</td>\n",
              "      <td>NaN</td>\n",
              "    </tr>\n",
              "    <tr>\n",
              "      <th>94</th>\n",
              "      <td>4</td>\n",
              "      <td>133547</td>\n",
              "      <td>130981.0</td>\n",
              "      <td>128348.0</td>\n",
              "      <td>125622.0</td>\n",
              "      <td>123953.0</td>\n",
              "      <td>121244.0</td>\n",
              "      <td>119133.0</td>\n",
              "      <td>118381.0</td>\n",
              "      <td>118783.0</td>\n",
              "      <td>120884.0</td>\n",
              "      <td>124535.0</td>\n",
              "      <td>127489.0</td>\n",
              "      <td>128490.0</td>\n",
              "      <td>127592.0</td>\n",
              "      <td>125705.0</td>\n",
              "      <td>125086.0</td>\n",
              "      <td>126439.0</td>\n",
              "      <td>127621.0</td>\n",
              "      <td>128009.0</td>\n",
              "      <td>NaN</td>\n",
              "      <td>NaN</td>\n",
              "      <td>NaN</td>\n",
              "    </tr>\n",
              "    <tr>\n",
              "      <th>...</th>\n",
              "      <td>...</td>\n",
              "      <td>...</td>\n",
              "      <td>...</td>\n",
              "      <td>...</td>\n",
              "      <td>...</td>\n",
              "      <td>...</td>\n",
              "      <td>...</td>\n",
              "      <td>...</td>\n",
              "      <td>...</td>\n",
              "      <td>...</td>\n",
              "      <td>...</td>\n",
              "      <td>...</td>\n",
              "      <td>...</td>\n",
              "      <td>...</td>\n",
              "      <td>...</td>\n",
              "      <td>...</td>\n",
              "      <td>...</td>\n",
              "      <td>...</td>\n",
              "      <td>...</td>\n",
              "      <td>...</td>\n",
              "      <td>...</td>\n",
              "      <td>...</td>\n",
              "      <td>...</td>\n",
              "    </tr>\n",
              "    <tr>\n",
              "      <th>166</th>\n",
              "      <td>76</td>\n",
              "      <td>20256</td>\n",
              "      <td>20994.0</td>\n",
              "      <td>21684.0</td>\n",
              "      <td>22378.0</td>\n",
              "      <td>23022.0</td>\n",
              "      <td>23658.0</td>\n",
              "      <td>24282.0</td>\n",
              "      <td>25137.0</td>\n",
              "      <td>25970.0</td>\n",
              "      <td>26937.0</td>\n",
              "      <td>28178.0</td>\n",
              "      <td>29326.0</td>\n",
              "      <td>30422.0</td>\n",
              "      <td>31543.0</td>\n",
              "      <td>32831.0</td>\n",
              "      <td>34390.0</td>\n",
              "      <td>36068.0</td>\n",
              "      <td>37881.0</td>\n",
              "      <td>39740.0</td>\n",
              "      <td>NaN</td>\n",
              "      <td>NaN</td>\n",
              "      <td>NaN</td>\n",
              "    </tr>\n",
              "    <tr>\n",
              "      <th>167</th>\n",
              "      <td>77</td>\n",
              "      <td>18312</td>\n",
              "      <td>19105.0</td>\n",
              "      <td>19778.0</td>\n",
              "      <td>20415.0</td>\n",
              "      <td>21087.0</td>\n",
              "      <td>21686.0</td>\n",
              "      <td>22317.0</td>\n",
              "      <td>22981.0</td>\n",
              "      <td>23743.0</td>\n",
              "      <td>24592.0</td>\n",
              "      <td>25635.0</td>\n",
              "      <td>26824.0</td>\n",
              "      <td>27923.0</td>\n",
              "      <td>28972.0</td>\n",
              "      <td>30045.0</td>\n",
              "      <td>31280.0</td>\n",
              "      <td>32770.0</td>\n",
              "      <td>34377.0</td>\n",
              "      <td>36116.0</td>\n",
              "      <td>NaN</td>\n",
              "      <td>NaN</td>\n",
              "      <td>NaN</td>\n",
              "    </tr>\n",
              "    <tr>\n",
              "      <th>168</th>\n",
              "      <td>78</td>\n",
              "      <td>16286</td>\n",
              "      <td>17170.0</td>\n",
              "      <td>17893.0</td>\n",
              "      <td>18510.0</td>\n",
              "      <td>19126.0</td>\n",
              "      <td>19745.0</td>\n",
              "      <td>20340.0</td>\n",
              "      <td>21010.0</td>\n",
              "      <td>21587.0</td>\n",
              "      <td>22373.0</td>\n",
              "      <td>23303.0</td>\n",
              "      <td>24297.0</td>\n",
              "      <td>25432.0</td>\n",
              "      <td>26475.0</td>\n",
              "      <td>27480.0</td>\n",
              "      <td>28503.0</td>\n",
              "      <td>29684.0</td>\n",
              "      <td>31108.0</td>\n",
              "      <td>32641.0</td>\n",
              "      <td>NaN</td>\n",
              "      <td>NaN</td>\n",
              "      <td>NaN</td>\n",
              "    </tr>\n",
              "    <tr>\n",
              "      <th>169</th>\n",
              "      <td>79</td>\n",
              "      <td>14250</td>\n",
              "      <td>15179.0</td>\n",
              "      <td>15976.0</td>\n",
              "      <td>16635.0</td>\n",
              "      <td>17231.0</td>\n",
              "      <td>17792.0</td>\n",
              "      <td>18406.0</td>\n",
              "      <td>19051.0</td>\n",
              "      <td>19629.0</td>\n",
              "      <td>20243.0</td>\n",
              "      <td>21108.0</td>\n",
              "      <td>21997.0</td>\n",
              "      <td>22943.0</td>\n",
              "      <td>24023.0</td>\n",
              "      <td>25015.0</td>\n",
              "      <td>25976.0</td>\n",
              "      <td>26948.0</td>\n",
              "      <td>28074.0</td>\n",
              "      <td>29432.0</td>\n",
              "      <td>NaN</td>\n",
              "      <td>NaN</td>\n",
              "      <td>NaN</td>\n",
              "    </tr>\n",
              "    <tr>\n",
              "      <th>170</th>\n",
              "      <td>80 o más</td>\n",
              "      <td>78226</td>\n",
              "      <td>81236.0</td>\n",
              "      <td>84545.0</td>\n",
              "      <td>88245.0</td>\n",
              "      <td>92506.0</td>\n",
              "      <td>96563.0</td>\n",
              "      <td>100682.0</td>\n",
              "      <td>105727.0</td>\n",
              "      <td>110446.0</td>\n",
              "      <td>114675.0</td>\n",
              "      <td>119133.0</td>\n",
              "      <td>123839.0</td>\n",
              "      <td>128998.0</td>\n",
              "      <td>134585.0</td>\n",
              "      <td>140728.0</td>\n",
              "      <td>147355.0</td>\n",
              "      <td>154401.0</td>\n",
              "      <td>161843.0</td>\n",
              "      <td>169800.0</td>\n",
              "      <td>162380630.0</td>\n",
              "      <td>162380630.0</td>\n",
              "      <td>0.0</td>\n",
              "    </tr>\n",
              "  </tbody>\n",
              "</table>\n",
              "<p>81 rows × 23 columns</p>\n",
              "</div>"
            ],
            "text/plain": [
              "    POBLACIÓN POR SEXO, SEGÚN EDAD SIMPLE. 2002-2020  ... Unnamed: 22\n",
              "90                                                 0  ...         NaN\n",
              "91                                                 1  ...         NaN\n",
              "92                                                 2  ...         NaN\n",
              "93                                                 3  ...         NaN\n",
              "94                                                 4  ...         NaN\n",
              "..                                               ...  ...         ...\n",
              "166                                               76  ...         NaN\n",
              "167                                               77  ...         NaN\n",
              "168                                               78  ...         NaN\n",
              "169                                               79  ...         NaN\n",
              "170                                         80 o más  ...         0.0\n",
              "\n",
              "[81 rows x 23 columns]"
            ]
          },
          "metadata": {
            "tags": []
          },
          "execution_count": 47
        }
      ]
    },
    {
      "cell_type": "code",
      "metadata": {
        "ExecuteTime": {
          "end_time": "2020-09-06T19:02:23.173901Z",
          "start_time": "2020-09-06T19:02:23.159374Z"
        },
        "id": "bybJWm-tpo9G",
        "colab_type": "code",
        "colab": {}
      },
      "source": [
        "# create dataframe with the population per age, sex\n",
        "data_censo2002 = pd.DataFrame()\n",
        "data_censo2002[\"Sexo\"] = [1 for i in np.arange(81)] + [2 for i in np.arange(81)]\n",
        "data_censo2002[\"Edad\"] = [i for i in np.arange(81)] + [i for i in np.arange(81)]\n",
        "data_censo2002[\"Poblacion 2002\"] = list(censo2002.iloc[90:171,1]) + list(censo2002.iloc[176:257,1])"
      ],
      "execution_count": 48,
      "outputs": []
    },
    {
      "cell_type": "code",
      "metadata": {
        "ExecuteTime": {
          "end_time": "2020-09-06T19:02:23.781306Z",
          "start_time": "2020-09-06T19:02:23.765545Z"
        },
        "id": "bKIQUfS-po9I",
        "colab_type": "code",
        "colab": {}
      },
      "source": [
        "# split in different dataframes for men and women\n",
        "aux1 = data_censo2002.query(\"Sexo == 1\").reset_index(drop=True)\n",
        "aux2 = data_censo2002.query(\"Sexo == 2\").reset_index(drop=True)"
      ],
      "execution_count": 49,
      "outputs": []
    },
    {
      "cell_type": "code",
      "metadata": {
        "ExecuteTime": {
          "end_time": "2020-09-06T19:02:24.284151Z",
          "start_time": "2020-09-06T19:02:24.278573Z"
        },
        "id": "E8yfGWCwpo9L",
        "colab_type": "code",
        "colab": {}
      },
      "source": [
        "# join both dataframes (men and women)\n",
        "proportion = pd.DataFrame()\n",
        "proportion[\"proporciones\"] = list(aux1[\"Poblacion 2002\"]) + list(aux2[\"Poblacion 2002\"])"
      ],
      "execution_count": 50,
      "outputs": []
    },
    {
      "cell_type": "code",
      "metadata": {
        "ExecuteTime": {
          "end_time": "2020-09-06T19:02:24.904622Z",
          "start_time": "2020-09-06T19:02:24.901547Z"
        },
        "id": "Uo1NH__lpo9O",
        "colab_type": "code",
        "colab": {}
      },
      "source": [
        "# select county\n",
        "comuna = \"Maipú\""
      ],
      "execution_count": 51,
      "outputs": []
    },
    {
      "cell_type": "code",
      "metadata": {
        "ExecuteTime": {
          "end_time": "2020-09-06T19:02:25.551129Z",
          "start_time": "2020-09-06T19:02:25.539683Z"
        },
        "id": "otlpOLvopo9R",
        "colab_type": "code",
        "colab": {}
      },
      "source": [
        "# select county population\n",
        "county = county_population_RM.query(f\"Comuna == '{comuna}'\").drop(columns=\"Comuna\")"
      ],
      "execution_count": 52,
      "outputs": []
    },
    {
      "cell_type": "code",
      "metadata": {
        "ExecuteTime": {
          "end_time": "2020-09-06T19:02:26.118795Z",
          "start_time": "2020-09-06T19:02:26.100729Z"
        },
        "id": "PrwGXUEqpo9V",
        "colab_type": "code",
        "colab": {}
      },
      "source": [
        "# select county deaths\n",
        "data_county = data_RM.query(f\"comuna == '{comuna}'\").drop(columns=[\"comuna\"])"
      ],
      "execution_count": 53,
      "outputs": []
    },
    {
      "cell_type": "code",
      "metadata": {
        "ExecuteTime": {
          "end_time": "2020-09-06T19:02:26.610241Z",
          "start_time": "2020-09-06T19:02:26.603470Z"
        },
        "id": "GLtjtIVcpo9Y",
        "colab_type": "code",
        "colab": {}
      },
      "source": [
        "# create county dataframe with sex, age group, population\n",
        "data_Maipu = pd.DataFrame()"
      ],
      "execution_count": 54,
      "outputs": []
    },
    {
      "cell_type": "code",
      "metadata": {
        "ExecuteTime": {
          "end_time": "2020-09-06T19:02:27.154339Z",
          "start_time": "2020-09-06T19:02:27.132997Z"
        },
        "id": "TPOwiC5kpo9c",
        "colab_type": "code",
        "colab": {}
      },
      "source": [
        "data_Maipu[\"sexo\"] = [1 for i in np.arange(81)] + [2 for i in np.arange(81)]"
      ],
      "execution_count": 55,
      "outputs": []
    },
    {
      "cell_type": "code",
      "metadata": {
        "ExecuteTime": {
          "end_time": "2020-09-06T19:02:27.553365Z",
          "start_time": "2020-09-06T19:02:27.545245Z"
        },
        "id": "vNreEoKTpo9f",
        "colab_type": "code",
        "colab": {}
      },
      "source": [
        "data_Maipu[\"edad\"] = list(np.arange(81)) + list(np.arange(81))"
      ],
      "execution_count": 56,
      "outputs": []
    },
    {
      "cell_type": "code",
      "metadata": {
        "ExecuteTime": {
          "end_time": "2020-09-06T19:02:28.015856Z",
          "start_time": "2020-09-06T19:02:28.006392Z"
        },
        "id": "HoUSovsMpo9k",
        "colab_type": "code",
        "colab": {}
      },
      "source": [
        "data_Maipu[\"población\"] = list(county[\"Poblacion 2020\"])"
      ],
      "execution_count": 57,
      "outputs": []
    },
    {
      "cell_type": "code",
      "metadata": {
        "ExecuteTime": {
          "end_time": "2020-09-06T19:02:28.899821Z",
          "start_time": "2020-09-06T19:02:28.485077Z"
        },
        "id": "DsOEWnw-po9n",
        "colab_type": "code",
        "colab": {}
      },
      "source": [
        "# determine COVID deaths per each age-sex group\n",
        "aux3 = []\n",
        "for sexo in [1,2]:\n",
        "    for edad in np.arange(80):\n",
        "        aux3.append(len(data_county.query(f\"sexo == {sexo} & edad == '{edad}'\")))\n",
        "    aux3.append(len(data_county.query(f\"sexo == {sexo} & (edad >= 80)\")))"
      ],
      "execution_count": 58,
      "outputs": []
    },
    {
      "cell_type": "code",
      "metadata": {
        "ExecuteTime": {
          "end_time": "2020-09-06T19:02:29.365868Z",
          "start_time": "2020-09-06T19:02:29.360715Z"
        },
        "id": "aa4lJ5Zhpo9q",
        "colab_type": "code",
        "colab": {}
      },
      "source": [
        "data_Maipu[\"fallecidos COVID\"] = aux3"
      ],
      "execution_count": 59,
      "outputs": []
    },
    {
      "cell_type": "code",
      "metadata": {
        "ExecuteTime": {
          "end_time": "2020-09-06T19:02:29.999826Z",
          "start_time": "2020-09-06T19:02:29.989571Z"
        },
        "id": "aYWOmBx5po9t",
        "colab_type": "code",
        "colab": {}
      },
      "source": [
        "data_Maipu[\"Tasa de mortalidad observada por grupo etario-sexo\"] = 100000*data_Maipu[\"fallecidos COVID\"]/data_Maipu[\"población\"]"
      ],
      "execution_count": 60,
      "outputs": []
    },
    {
      "cell_type": "code",
      "metadata": {
        "ExecuteTime": {
          "end_time": "2020-09-06T19:02:30.582580Z",
          "start_time": "2020-09-06T19:02:30.573493Z"
        },
        "id": "LwcybRBXpo9v",
        "colab_type": "code",
        "colab": {}
      },
      "source": [
        "data_Maipu[\"Proporciones población estándar\"] = proportion[\"proporciones\"]/proportion[\"proporciones\"].sum()"
      ],
      "execution_count": 61,
      "outputs": []
    },
    {
      "cell_type": "code",
      "metadata": {
        "id": "Lqt53hvYwSqE",
        "colab_type": "code",
        "colab": {
          "base_uri": "https://localhost:8080/",
          "height": 423
        },
        "outputId": "4be32d75-6085-4596-eb44-bba5b9eed702"
      },
      "source": [
        "data_Maipu"
      ],
      "execution_count": 62,
      "outputs": [
        {
          "output_type": "execute_result",
          "data": {
            "text/html": [
              "<div>\n",
              "<style scoped>\n",
              "    .dataframe tbody tr th:only-of-type {\n",
              "        vertical-align: middle;\n",
              "    }\n",
              "\n",
              "    .dataframe tbody tr th {\n",
              "        vertical-align: top;\n",
              "    }\n",
              "\n",
              "    .dataframe thead th {\n",
              "        text-align: right;\n",
              "    }\n",
              "</style>\n",
              "<table border=\"1\" class=\"dataframe\">\n",
              "  <thead>\n",
              "    <tr style=\"text-align: right;\">\n",
              "      <th></th>\n",
              "      <th>sexo</th>\n",
              "      <th>edad</th>\n",
              "      <th>población</th>\n",
              "      <th>fallecidos COVID</th>\n",
              "      <th>Tasa de mortalidad observada por grupo etario-sexo</th>\n",
              "      <th>Proporciones población estándar</th>\n",
              "    </tr>\n",
              "  </thead>\n",
              "  <tbody>\n",
              "    <tr>\n",
              "      <th>0</th>\n",
              "      <td>1</td>\n",
              "      <td>0</td>\n",
              "      <td>3457</td>\n",
              "      <td>1</td>\n",
              "      <td>28.926815</td>\n",
              "      <td>0.007899</td>\n",
              "    </tr>\n",
              "    <tr>\n",
              "      <th>1</th>\n",
              "      <td>1</td>\n",
              "      <td>1</td>\n",
              "      <td>3402</td>\n",
              "      <td>0</td>\n",
              "      <td>0.000000</td>\n",
              "      <td>0.008008</td>\n",
              "    </tr>\n",
              "    <tr>\n",
              "      <th>2</th>\n",
              "      <td>1</td>\n",
              "      <td>2</td>\n",
              "      <td>3445</td>\n",
              "      <td>0</td>\n",
              "      <td>0.000000</td>\n",
              "      <td>0.008186</td>\n",
              "    </tr>\n",
              "    <tr>\n",
              "      <th>3</th>\n",
              "      <td>1</td>\n",
              "      <td>3</td>\n",
              "      <td>3566</td>\n",
              "      <td>0</td>\n",
              "      <td>0.000000</td>\n",
              "      <td>0.008356</td>\n",
              "    </tr>\n",
              "    <tr>\n",
              "      <th>4</th>\n",
              "      <td>1</td>\n",
              "      <td>4</td>\n",
              "      <td>3740</td>\n",
              "      <td>0</td>\n",
              "      <td>0.000000</td>\n",
              "      <td>0.008523</td>\n",
              "    </tr>\n",
              "    <tr>\n",
              "      <th>...</th>\n",
              "      <td>...</td>\n",
              "      <td>...</td>\n",
              "      <td>...</td>\n",
              "      <td>...</td>\n",
              "      <td>...</td>\n",
              "      <td>...</td>\n",
              "    </tr>\n",
              "    <tr>\n",
              "      <th>157</th>\n",
              "      <td>2</td>\n",
              "      <td>76</td>\n",
              "      <td>1130</td>\n",
              "      <td>12</td>\n",
              "      <td>1061.946903</td>\n",
              "      <td>0.001865</td>\n",
              "    </tr>\n",
              "    <tr>\n",
              "      <th>158</th>\n",
              "      <td>2</td>\n",
              "      <td>77</td>\n",
              "      <td>1039</td>\n",
              "      <td>8</td>\n",
              "      <td>769.971126</td>\n",
              "      <td>0.001728</td>\n",
              "    </tr>\n",
              "    <tr>\n",
              "      <th>159</th>\n",
              "      <td>2</td>\n",
              "      <td>78</td>\n",
              "      <td>958</td>\n",
              "      <td>12</td>\n",
              "      <td>1252.609603</td>\n",
              "      <td>0.001573</td>\n",
              "    </tr>\n",
              "    <tr>\n",
              "      <th>160</th>\n",
              "      <td>2</td>\n",
              "      <td>79</td>\n",
              "      <td>889</td>\n",
              "      <td>7</td>\n",
              "      <td>787.401575</td>\n",
              "      <td>0.001407</td>\n",
              "    </tr>\n",
              "    <tr>\n",
              "      <th>161</th>\n",
              "      <td>2</td>\n",
              "      <td>80</td>\n",
              "      <td>7309</td>\n",
              "      <td>128</td>\n",
              "      <td>1751.265563</td>\n",
              "      <td>0.009191</td>\n",
              "    </tr>\n",
              "  </tbody>\n",
              "</table>\n",
              "<p>162 rows × 6 columns</p>\n",
              "</div>"
            ],
            "text/plain": [
              "     sexo  ...  Proporciones población estándar\n",
              "0       1  ...                         0.007899\n",
              "1       1  ...                         0.008008\n",
              "2       1  ...                         0.008186\n",
              "3       1  ...                         0.008356\n",
              "4       1  ...                         0.008523\n",
              "..    ...  ...                              ...\n",
              "157     2  ...                         0.001865\n",
              "158     2  ...                         0.001728\n",
              "159     2  ...                         0.001573\n",
              "160     2  ...                         0.001407\n",
              "161     2  ...                         0.009191\n",
              "\n",
              "[162 rows x 6 columns]"
            ]
          },
          "metadata": {
            "tags": []
          },
          "execution_count": 62
        }
      ]
    },
    {
      "cell_type": "code",
      "metadata": {
        "ExecuteTime": {
          "end_time": "2020-09-06T19:02:31.222435Z",
          "start_time": "2020-09-06T19:02:31.208390Z"
        },
        "id": "fnKwoMHUpo-C",
        "colab_type": "code",
        "colab": {
          "base_uri": "https://localhost:8080/",
          "height": 35
        },
        "outputId": "6aae58bc-d462-4002-e7c7-8cb396705a26"
      },
      "source": [
        "data_Maipu[\"Tasa de mortalidad observada por grupo etario-sexo\"].dot(data_Maipu[\"Proporciones población estándar\"])"
      ],
      "execution_count": 63,
      "outputs": [
        {
          "output_type": "execute_result",
          "data": {
            "text/plain": [
              "97.0663950502686"
            ]
          },
          "metadata": {
            "tags": []
          },
          "execution_count": 63
        }
      ]
    },
    {
      "cell_type": "code",
      "metadata": {
        "ExecuteTime": {
          "end_time": "2020-09-06T19:02:32.358788Z",
          "start_time": "2020-09-06T19:02:32.348051Z"
        },
        "id": "MCCvuBZwpo-I",
        "colab_type": "code",
        "colab": {}
      },
      "source": [
        "def ajustada(comuna):\n",
        "    # select county population\n",
        "    county = county_population_RM.query(f\"Comuna == '{comuna}'\").drop(columns=\"Comuna\")\n",
        "    # select county deaths\n",
        "    data_county = data_RM.query(f\"comuna == '{comuna}'\").drop(columns=[\"comuna\"])\n",
        "    # create county dataframe with sex, age group, population\n",
        "    data_Maipu = pd.DataFrame()\n",
        "    data_Maipu[\"sexo\"] = [1 for i in np.arange(81)] + [2 for i in np.arange(81)]\n",
        "    data_Maipu[\"edad\"] = list(np.arange(81)) + list(np.arange(81))\n",
        "    data_Maipu[\"población\"] = list(county[\"Poblacion 2020\"])\n",
        "    # determine COVID deaths per each age-sex group\n",
        "    aux3 = []\n",
        "    for sexo in [1,2]:\n",
        "        for edad in np.arange(80):\n",
        "            aux3.append(len(data_county.query(f\"sexo == {sexo} & edad == '{edad}'\")))\n",
        "        aux3.append(len(data_county.query(f\"sexo == {sexo} & (edad >= 80)\")))\n",
        "    data_Maipu[\"fallecidos COVID\"] = aux3\n",
        "    data_Maipu[\"Tasa de mortalidad observada por grupo etario-sexo\"] = 100000*data_Maipu[\"fallecidos COVID\"]/data_Maipu[\"población\"]\n",
        "    data_Maipu[\"Proporciones población estándar\"] = proportion[\"proporciones\"]/proportion[\"proporciones\"].sum()\n",
        "    return data_Maipu[\"Tasa de mortalidad observada por grupo etario-sexo\"].dot(data_Maipu[\"Proporciones población estándar\"])"
      ],
      "execution_count": 64,
      "outputs": []
    },
    {
      "cell_type": "code",
      "metadata": {
        "ExecuteTime": {
          "end_time": "2020-09-06T19:02:34.005262Z",
          "start_time": "2020-09-06T19:02:33.996342Z"
        },
        "id": "_ICvUMcupo-K",
        "colab_type": "code",
        "colab": {}
      },
      "source": [
        "def ajustada_confirmado(comuna):\n",
        "    # select county population\n",
        "    county = county_population_RM.query(f\"Comuna == '{comuna}'\").drop(columns=\"Comuna\")\n",
        "    # select county deaths\n",
        "    data_county = data_RM.query(f\"comuna == '{comuna}'\").drop(columns=[\"comuna\"])\n",
        "    # create county dataframe with sex, age group, population\n",
        "    data_Maipu = pd.DataFrame()\n",
        "    data_Maipu[\"sexo\"] = [1 for i in np.arange(81)] + [2 for i in np.arange(81)]\n",
        "    data_Maipu[\"edad\"] = list(np.arange(81)) + list(np.arange(81))\n",
        "    data_Maipu[\"población\"] = list(county[\"Poblacion 2020\"])\n",
        "    # determine COVID deaths per each age-sex group\n",
        "    aux3 = []\n",
        "    for sexo in [1,2]:\n",
        "        for edad in np.arange(80):\n",
        "            aux3.append(len(data_county.query(f\"sexo == {sexo} & edad == '{edad}' & c_causa_detalle == 'U071'\")))\n",
        "        aux3.append(len(data_county.query(f\"sexo == {sexo} & (edad >= 80) & c_causa_detalle == 'U071'\")))\n",
        "    data_Maipu[\"fallecidos COVID\"] = aux3\n",
        "    data_Maipu[\"Tasa de mortalidad observada por grupo etario-sexo\"] = 100000*data_Maipu[\"fallecidos COVID\"]/data_Maipu[\"población\"]\n",
        "    data_Maipu[\"Proporciones población estándar\"] = proportion[\"proporciones\"]/proportion[\"proporciones\"].sum()\n",
        "    return data_Maipu[\"Tasa de mortalidad observada por grupo etario-sexo\"].dot(data_Maipu[\"Proporciones población estándar\"])"
      ],
      "execution_count": 65,
      "outputs": []
    },
    {
      "cell_type": "code",
      "metadata": {
        "ExecuteTime": {
          "end_time": "2020-09-06T19:02:34.918158Z",
          "start_time": "2020-09-06T19:02:34.908557Z"
        },
        "id": "XapYvaHapo-M",
        "colab_type": "code",
        "colab": {}
      },
      "source": [
        "def ajustada_sospechoso(comuna):\n",
        "    # select county population\n",
        "    county = county_population_RM.query(f\"Comuna == '{comuna}'\").drop(columns=\"Comuna\")\n",
        "    # select county deaths\n",
        "    data_county = data_RM.query(f\"comuna == '{comuna}'\").drop(columns=[\"comuna\"])\n",
        "    # create county dataframe with sex, age group, population\n",
        "    data_Maipu = pd.DataFrame()\n",
        "    data_Maipu[\"sexo\"] = [1 for i in np.arange(81)] + [2 for i in np.arange(81)]\n",
        "    data_Maipu[\"edad\"] = list(np.arange(81)) + list(np.arange(81))\n",
        "    data_Maipu[\"población\"] = list(county[\"Poblacion 2020\"])\n",
        "    # determine COVID deaths per each age-sex group\n",
        "    aux3 = []\n",
        "    for sexo in [1,2]:\n",
        "        for edad in np.arange(80):\n",
        "            aux3.append(len(data_county.query(f\"sexo == {sexo} & edad == '{edad}' & c_causa_detalle == 'U072'\")))\n",
        "        aux3.append(len(data_county.query(f\"sexo == {sexo} & (edad >= 80) & c_causa_detalle == 'U072'\")))\n",
        "    data_Maipu[\"fallecidos COVID\"] = aux3\n",
        "    data_Maipu[\"Tasa de mortalidad observada por grupo etario-sexo\"] = 100000*data_Maipu[\"fallecidos COVID\"]/data_Maipu[\"población\"]\n",
        "    data_Maipu[\"Proporciones población estándar\"] = proportion[\"proporciones\"]/proportion[\"proporciones\"].sum()\n",
        "    return data_Maipu[\"Tasa de mortalidad observada por grupo etario-sexo\"].dot(data_Maipu[\"Proporciones población estándar\"])"
      ],
      "execution_count": 66,
      "outputs": []
    },
    {
      "cell_type": "code",
      "metadata": {
        "id": "Zks17mP3v6u6",
        "colab_type": "code",
        "colab": {
          "base_uri": "https://localhost:8080/",
          "height": 35
        },
        "outputId": "1cc3d30b-0685-4860-cfeb-95dfb2a95ebe"
      },
      "source": [
        "ajustada_confirmado(\"Maipú\")"
      ],
      "execution_count": 67,
      "outputs": [
        {
          "output_type": "execute_result",
          "data": {
            "text/plain": [
              "66.04242680554223"
            ]
          },
          "metadata": {
            "tags": []
          },
          "execution_count": 67
        }
      ]
    },
    {
      "cell_type": "code",
      "metadata": {
        "ExecuteTime": {
          "end_time": "2020-09-06T19:02:36.367326Z",
          "start_time": "2020-09-06T19:02:35.814938Z"
        },
        "id": "rfnwq06xpo-O",
        "colab_type": "code",
        "colab": {
          "base_uri": "https://localhost:8080/",
          "height": 35
        },
        "outputId": "91fed658-d62f-41ce-ea5d-3b3967d935ca"
      },
      "source": [
        "ajustada_sospechoso(\"Maipú\")"
      ],
      "execution_count": 68,
      "outputs": [
        {
          "output_type": "execute_result",
          "data": {
            "text/plain": [
              "31.023968244726355"
            ]
          },
          "metadata": {
            "tags": []
          },
          "execution_count": 68
        }
      ]
    },
    {
      "cell_type": "code",
      "metadata": {
        "ExecuteTime": {
          "end_time": "2020-09-06T19:02:37.389922Z",
          "start_time": "2020-09-06T19:02:36.957124Z"
        },
        "id": "9ZSG64yLpo-R",
        "colab_type": "code",
        "colab": {
          "base_uri": "https://localhost:8080/",
          "height": 35
        },
        "outputId": "98dce4e0-cb0d-493b-d5a3-6e555e8060cd"
      },
      "source": [
        "ajustada(\"Maipú\")"
      ],
      "execution_count": 69,
      "outputs": [
        {
          "output_type": "execute_result",
          "data": {
            "text/plain": [
              "97.0663950502686"
            ]
          },
          "metadata": {
            "tags": []
          },
          "execution_count": 69
        }
      ]
    },
    {
      "cell_type": "code",
      "metadata": {
        "ExecuteTime": {
          "end_time": "2020-09-06T19:03:51.178678Z",
          "start_time": "2020-09-06T19:02:38.058022Z"
        },
        "id": "howdR3VOpo-T",
        "colab_type": "code",
        "colab": {}
      },
      "source": [
        "# compute adjusted rate per county\n",
        "adjusted = pd.DataFrame(columns = ['Comuna', 'COVID-19 Confirmado', 'COVID-19 Sospechoso', 'Total'], index = None)\n",
        "for comuna in lista:\n",
        "    adjusted = adjusted.append({'Comuna': comuna,\n",
        "                                'COVID-19 Confirmado': ajustada_confirmado(f'{comuna}'),\n",
        "                                'COVID-19 Sospechoso': ajustada_sospechoso(f'{comuna}'),\n",
        "                     'Total': ajustada(f\"{comuna}\")}, ignore_index = True)"
      ],
      "execution_count": 70,
      "outputs": []
    },
    {
      "cell_type": "code",
      "metadata": {
        "ExecuteTime": {
          "end_time": "2020-09-06T19:03:53.655462Z",
          "start_time": "2020-09-06T19:03:53.648547Z"
        },
        "id": "exYa0-U0po-V",
        "colab_type": "code",
        "colab": {}
      },
      "source": [
        "adjusted = adjusted.set_index('Comuna')"
      ],
      "execution_count": 71,
      "outputs": []
    },
    {
      "cell_type": "code",
      "metadata": {
        "ExecuteTime": {
          "end_time": "2020-09-06T19:04:04.520520Z",
          "start_time": "2020-09-06T19:04:04.516739Z"
        },
        "id": "Qn14Rgh7po-Y",
        "colab_type": "code",
        "colab": {}
      },
      "source": [
        "adjusted = adjusted.sort_values(by=\"Total\")"
      ],
      "execution_count": 72,
      "outputs": []
    },
    {
      "cell_type": "code",
      "metadata": {
        "ExecuteTime": {
          "end_time": "2020-09-06T19:05:14.047165Z",
          "start_time": "2020-09-06T19:05:12.193608Z"
        },
        "id": "CYGXIStFpo-a",
        "colab_type": "code",
        "colab": {
          "base_uri": "https://localhost:8080/",
          "height": 837
        },
        "outputId": "e8812ea1-1aed-4903-f621-861c6cc6fc31"
      },
      "source": [
        "fig, ax = plt.subplots(figsize=(10,13))\n",
        "\n",
        "adjusted.drop(columns=\"Total\").plot.barh(stacked=True, ax=ax)\n",
        "for i, val in enumerate(adjusted['COVID-19 Confirmado']):\n",
        "    ax.text(val-8, i+0.28,f\" {val:.1f}\", fontsize=12)\n",
        "for i, val in enumerate(adjusted['Total']):\n",
        "    ax.text(val, i-0.2,f\" {val:.1f}\", fontsize=15)\n",
        "ax.legend(fontsize=15)\n",
        "ax.set_xlim(0,200)\n",
        "ax.set_ylim(-.2,len(adjusted)-.1)\n",
        "ax.set_ylabel(\"\", fontsize=15)\n",
        "ax.set_xlabel(\"tasa de mortalidad ajustada\", fontsize=15)\n",
        "plt.title(f\"Tasa de mortalidad causa COVID-19 ajustada por 100.000 habitantes por edad y sexo\\nen comunas de la conurbación de Santiago al {pd.to_datetime(report_date).strftime('%d/%m')} (Población estándar Censo 2002)\", fontsize=15)\n",
        "plt.annotate('Fuente: INE, DEIS\\nAutor: @alonsosilva', (0,0), (-60,-30), xycoords='axes fraction', textcoords='offset points', va='top', fontsize=15)\n",
        "# plt.savefig('2020-09-11-Mortalidad-ajustada-por-comuna.png', bbox_inches='tight', format='png', dvi=8000)\n",
        "plt.show()"
      ],
      "execution_count": 73,
      "outputs": [
        {
          "output_type": "display_data",
          "data": {
            "image/png": "[encoded data removed]",
            "text/plain": [
              "<Figure size 720x936 with 1 Axes>"
            ]
          },
          "metadata": {
            "tags": [],
            "needs_background": "light"
          }
        }
      ]
    },
    {
      "cell_type": "code",
      "metadata": {
        "id": "Iw-EFMUAxrh1",
        "colab_type": "code",
        "colab": {
          "base_uri": "https://localhost:8080/",
          "height": 72
        },
        "outputId": "cd60518e-83ab-4aac-fad5-c31973b29dac"
      },
      "source": [
        "import statsmodels.api as sm\n",
        "from scipy import stats"
      ],
      "execution_count": 74,
      "outputs": [
        {
          "output_type": "stream",
          "text": [
            "/usr/local/lib/python3.6/dist-packages/statsmodels/tools/_testing.py:19: FutureWarning: pandas.util.testing is deprecated. Use the functions in the public API at pandas.testing instead.\n",
            "  import pandas.util.testing as tm\n"
          ],
          "name": "stderr"
        }
      ]
    },
    {
      "cell_type": "code",
      "metadata": {
        "id": "ZoibwAYVx2Ry",
        "colab_type": "code",
        "colab": {}
      },
      "source": [
        "import seaborn as sns\n",
        "\n",
        "sns.set_style('white')\n",
        "sns.set_style('ticks')"
      ],
      "execution_count": 75,
      "outputs": []
    },
    {
      "cell_type": "code",
      "metadata": {
        "id": "Q_0x8YadyBfn",
        "colab_type": "code",
        "colab": {
          "base_uri": "https://localhost:8080/",
          "height": 237
        },
        "outputId": "c853a99f-6d97-4ce2-d54b-77d4bfcde1b2"
      },
      "source": [
        "adjusted.head()"
      ],
      "execution_count": 76,
      "outputs": [
        {
          "output_type": "execute_result",
          "data": {
            "text/html": [
              "<div>\n",
              "<style scoped>\n",
              "    .dataframe tbody tr th:only-of-type {\n",
              "        vertical-align: middle;\n",
              "    }\n",
              "\n",
              "    .dataframe tbody tr th {\n",
              "        vertical-align: top;\n",
              "    }\n",
              "\n",
              "    .dataframe thead th {\n",
              "        text-align: right;\n",
              "    }\n",
              "</style>\n",
              "<table border=\"1\" class=\"dataframe\">\n",
              "  <thead>\n",
              "    <tr style=\"text-align: right;\">\n",
              "      <th></th>\n",
              "      <th>COVID-19 Confirmado</th>\n",
              "      <th>COVID-19 Sospechoso</th>\n",
              "      <th>Total</th>\n",
              "    </tr>\n",
              "    <tr>\n",
              "      <th>Comuna</th>\n",
              "      <th></th>\n",
              "      <th></th>\n",
              "      <th></th>\n",
              "    </tr>\n",
              "  </thead>\n",
              "  <tbody>\n",
              "    <tr>\n",
              "      <th>Vitacura</th>\n",
              "      <td>25.854112</td>\n",
              "      <td>5.421546</td>\n",
              "      <td>31.275658</td>\n",
              "    </tr>\n",
              "    <tr>\n",
              "      <th>Las Condes</th>\n",
              "      <td>37.350706</td>\n",
              "      <td>7.690655</td>\n",
              "      <td>45.041361</td>\n",
              "    </tr>\n",
              "    <tr>\n",
              "      <th>La Reina</th>\n",
              "      <td>37.680923</td>\n",
              "      <td>9.014293</td>\n",
              "      <td>46.695216</td>\n",
              "    </tr>\n",
              "    <tr>\n",
              "      <th>Ñuñoa</th>\n",
              "      <td>46.190538</td>\n",
              "      <td>13.855460</td>\n",
              "      <td>60.045997</td>\n",
              "    </tr>\n",
              "    <tr>\n",
              "      <th>Providencia</th>\n",
              "      <td>47.437645</td>\n",
              "      <td>13.662316</td>\n",
              "      <td>61.099961</td>\n",
              "    </tr>\n",
              "  </tbody>\n",
              "</table>\n",
              "</div>"
            ],
            "text/plain": [
              "             COVID-19 Confirmado  COVID-19 Sospechoso      Total\n",
              "Comuna                                                          \n",
              "Vitacura               25.854112             5.421546  31.275658\n",
              "Las Condes             37.350706             7.690655  45.041361\n",
              "La Reina               37.680923             9.014293  46.695216\n",
              "Ñuñoa                  46.190538            13.855460  60.045997\n",
              "Providencia            47.437645            13.662316  61.099961"
            ]
          },
          "metadata": {
            "tags": []
          },
          "execution_count": 76
        }
      ]
    },
    {
      "cell_type": "code",
      "metadata": {
        "id": "7dPIX4MG92SU",
        "colab_type": "code",
        "colab": {}
      },
      "source": [
        "incidencia = pd.read_csv(\"https://raw.githubusercontent.com/MinCiencia/Datos-COVID19/master/output/producto1/Covid-19.csv\")"
      ],
      "execution_count": 77,
      "outputs": []
    },
    {
      "cell_type": "code",
      "metadata": {
        "id": "92Vd6_AS941q",
        "colab_type": "code",
        "colab": {}
      },
      "source": [
        "incidencia = incidencia.query(\"Region == 'Metropolitana'\").drop(columns=[\"Region\", \"Codigo region\"]).set_index(\"Comuna\").T"
      ],
      "execution_count": 78,
      "outputs": []
    },
    {
      "cell_type": "code",
      "metadata": {
        "id": "_X1Gf8iu-OrX",
        "colab_type": "code",
        "colab": {}
      },
      "source": [
        "data = adjusted.copy()"
      ],
      "execution_count": 79,
      "outputs": []
    },
    {
      "cell_type": "code",
      "metadata": {
        "id": "McGOo7Nb-EPy",
        "colab_type": "code",
        "colab": {}
      },
      "source": [
        "data.index = data.index.str.normalize(\"NFKD\").str.encode('ascii', errors='ignore').str.decode('utf-8')"
      ],
      "execution_count": 80,
      "outputs": []
    },
    {
      "cell_type": "code",
      "metadata": {
        "id": "KUuvhr5i-WI9",
        "colab_type": "code",
        "colab": {}
      },
      "source": [
        "ti = incidencia[list(data.index)].loc[\"Tasa\"]"
      ],
      "execution_count": 81,
      "outputs": []
    },
    {
      "cell_type": "code",
      "metadata": {
        "id": "C6kdIKNP99eY",
        "colab_type": "code",
        "colab": {}
      },
      "source": [
        "data[\"Tasa de incidencia\"] = ti"
      ],
      "execution_count": 82,
      "outputs": []
    },
    {
      "cell_type": "code",
      "metadata": {
        "id": "sFQTF6N4ywUR",
        "colab_type": "code",
        "colab": {}
      },
      "source": [
        "aux.index = aux.index.str.normalize(\"NFKD\").str.encode('ascii', errors='ignore').str.decode('utf-8')"
      ],
      "execution_count": 83,
      "outputs": []
    },
    {
      "cell_type": "code",
      "metadata": {
        "id": "v13NU1PBy3Q0",
        "colab_type": "code",
        "colab": {}
      },
      "source": [
        "aux[\"Tasa de incidencia\"] = ti"
      ],
      "execution_count": 84,
      "outputs": []
    },
    {
      "cell_type": "code",
      "metadata": {
        "id": "00KsQeGXy_ny",
        "colab_type": "code",
        "colab": {
          "base_uri": "https://localhost:8080/",
          "height": 237
        },
        "outputId": "0bef7e5c-2536-430a-d25c-989ac1253a48"
      },
      "source": [
        "aux.head()"
      ],
      "execution_count": 85,
      "outputs": [
        {
          "output_type": "execute_result",
          "data": {
            "text/html": [
              "<div>\n",
              "<style scoped>\n",
              "    .dataframe tbody tr th:only-of-type {\n",
              "        vertical-align: middle;\n",
              "    }\n",
              "\n",
              "    .dataframe tbody tr th {\n",
              "        vertical-align: top;\n",
              "    }\n",
              "\n",
              "    .dataframe thead th {\n",
              "        text-align: right;\n",
              "    }\n",
              "</style>\n",
              "<table border=\"1\" class=\"dataframe\">\n",
              "  <thead>\n",
              "    <tr style=\"text-align: right;\">\n",
              "      <th></th>\n",
              "      <th>COVID-19 Confirmado</th>\n",
              "      <th>COVID-19 Sospechoso</th>\n",
              "      <th>Tasa de mortalidad total</th>\n",
              "      <th>Tasa de incidencia</th>\n",
              "    </tr>\n",
              "    <tr>\n",
              "      <th>Comuna</th>\n",
              "      <th></th>\n",
              "      <th></th>\n",
              "      <th></th>\n",
              "      <th></th>\n",
              "    </tr>\n",
              "  </thead>\n",
              "  <tbody>\n",
              "    <tr>\n",
              "      <th>Lo Barnechea</th>\n",
              "      <td>67.7</td>\n",
              "      <td>9.7</td>\n",
              "      <td>77.4</td>\n",
              "      <td>2909.5</td>\n",
              "    </tr>\n",
              "    <tr>\n",
              "      <th>Vitacura</th>\n",
              "      <td>70.3</td>\n",
              "      <td>15.5</td>\n",
              "      <td>85.8</td>\n",
              "      <td>1707.1</td>\n",
              "    </tr>\n",
              "    <tr>\n",
              "      <th>Quilicura</th>\n",
              "      <td>69.5</td>\n",
              "      <td>17.3</td>\n",
              "      <td>86.8</td>\n",
              "      <td>3799.9</td>\n",
              "    </tr>\n",
              "    <tr>\n",
              "      <th>Santiago</th>\n",
              "      <td>53.7</td>\n",
              "      <td>42.5</td>\n",
              "      <td>96.2</td>\n",
              "      <td>3124.3</td>\n",
              "    </tr>\n",
              "    <tr>\n",
              "      <th>La Reina</th>\n",
              "      <td>87.8</td>\n",
              "      <td>19.9</td>\n",
              "      <td>107.7</td>\n",
              "      <td>2415.9</td>\n",
              "    </tr>\n",
              "  </tbody>\n",
              "</table>\n",
              "</div>"
            ],
            "text/plain": [
              "              COVID-19 Confirmado  ...  Tasa de incidencia\n",
              "Comuna                             ...                    \n",
              "Lo Barnechea                 67.7  ...              2909.5\n",
              "Vitacura                     70.3  ...              1707.1\n",
              "Quilicura                    69.5  ...              3799.9\n",
              "Santiago                     53.7  ...              3124.3\n",
              "La Reina                     87.8  ...              2415.9\n",
              "\n",
              "[5 rows x 4 columns]"
            ]
          },
          "metadata": {
            "tags": []
          },
          "execution_count": 85
        }
      ]
    },
    {
      "cell_type": "code",
      "metadata": {
        "id": "aZ_qU7mry9g8",
        "colab_type": "code",
        "colab": {
          "base_uri": "https://localhost:8080/",
          "height": 105
        },
        "outputId": "d7eb45ee-ebc3-4276-f064-03986f27890f"
      },
      "source": [
        "slope, intercept, r_value, p_value, std_err = stats.linregress(aux[\"Tasa de mortalidad total\"],aux[\"Tasa de incidencia\"])\n",
        "slope, intercept, r_value, p_value, std_err"
      ],
      "execution_count": 86,
      "outputs": [
        {
          "output_type": "execute_result",
          "data": {
            "text/plain": [
              "(14.886460157229548,\n",
              " 1540.3448947708612,\n",
              " 0.7128973565200437,\n",
              " 1.0691345728712351e-06,\n",
              " 2.511361555846111)"
            ]
          },
          "metadata": {
            "tags": []
          },
          "execution_count": 86
        }
      ]
    },
    {
      "cell_type": "markdown",
      "metadata": {
        "id": "vMRjJomx2Q5t",
        "colab_type": "text"
      },
      "source": [
        "Correlación: \n",
        "- https://www.dummies.com/education/math/statistics/how-to-interpret-a-correlation-coefficient-r/\n",
        "- https://rpsychologist.com/d3/correlation/"
      ]
    },
    {
      "cell_type": "code",
      "metadata": {
        "id": "L917ZTH5-yEY",
        "colab_type": "code",
        "colab": {
          "base_uri": "https://localhost:8080/",
          "height": 105
        },
        "outputId": "8d5ccbf1-a19b-4a35-da95-96ba898b98a1"
      },
      "source": [
        "slope, intercept, r_value, p_value, std_err = stats.linregress(data[\"Total\"],data[\"Tasa de incidencia\"])\n",
        "slope, intercept, r_value, p_value, std_err"
      ],
      "execution_count": 87,
      "outputs": [
        {
          "output_type": "execute_result",
          "data": {
            "text/plain": [
              "(24.573700103198597,\n",
              " 1373.7305431396271,\n",
              " 0.7921240525640394,\n",
              " 8.654453970330572e-09,\n",
              " 3.2473122419988507)"
            ]
          },
          "metadata": {
            "tags": []
          },
          "execution_count": 87
        }
      ]
    },
    {
      "cell_type": "code",
      "metadata": {
        "id": "dkWsGBSk2ZaK",
        "colab_type": "code",
        "colab": {}
      },
      "source": [
        "!pip install -q adjustText"
      ],
      "execution_count": 88,
      "outputs": []
    },
    {
      "cell_type": "code",
      "metadata": {
        "id": "TuFBBd2H27ud",
        "colab_type": "code",
        "colab": {}
      },
      "source": [
        "from adjustText import adjust_text"
      ],
      "execution_count": 89,
      "outputs": []
    },
    {
      "cell_type": "code",
      "metadata": {
        "id": "s3ZikIag-4_D",
        "colab_type": "code",
        "colab": {
          "base_uri": "https://localhost:8080/",
          "height": 759
        },
        "outputId": "f11f807c-fafb-41e1-f2fc-5ed77c2c3929"
      },
      "source": [
        "fig, ax = plt.subplots(figsize=(10,10))\n",
        "ax = sns.regplot(data[\"Tasa de incidencia\"], data[\"Total\"], color = '#092CDB', line_kws={'label':'$GE=%2.5s*log(PIB)+%2.3s$'%(slope, intercept)},scatter_kws={'s':20});\n",
        "\n",
        "texts = [plt.annotate(txt, (data[\"Tasa de incidencia\"].iloc[i], data[\"Total\"].iloc[i]), textcoords=\"offset points\", xytext=(-1,1), fontsize=\"large\") for i, txt in enumerate(data.index)]\n",
        "adjust_text(texts)\n",
        "ax.set_title(f\"Tasa de mortalidad causa COVID-19 ajustada por cien mil habitantes por edad y sexo\\n(Población estándar Censo 2002) vs Tasa de incidencia acumulada en comunas\\nde la conurbación de Santiago al 11/09. R^2={r_value**2:.2f} (correlación positiva), p-value={p_value:.0e}.\", fontsize='x-large')\n",
        "ax.set_xlabel(f'tasa de incidencia', fontsize='x-large')\n",
        "ax.set_ylabel(f\"tasa de mortalidad ajustada\", fontsize=\"x-large\")\n",
        "ax.set_xlim(1660,5920)\n",
        "fig.tight_layout()\n",
        "plt.annotate('Fuentes: INE, DEIS\\nAutor: @alonsosilva', (0,0), (-60,-40), fontsize='x-large', xycoords='axes fraction', textcoords='offset points', va='top')\n",
        "# plt.savefig('2020-09-05-Tasa-Ajustada-vs-TI.svg', bbox_inches='tight', format='svg')\n",
        "plt.show()"
      ],
      "execution_count": 90,
      "outputs": [
        {
          "output_type": "display_data",
          "data": {
            "image/png": "[encoded data removed]",
            "text/plain": [
              "<Figure size 720x720 with 1 Axes>"
            ]
          },
          "metadata": {
            "tags": []
          }
        }
      ]
    },
    {
      "cell_type": "markdown",
      "metadata": {
        "id": "CYeRX27gzrZ4",
        "colab_type": "text"
      },
      "source": [
        "Datos: http://observatorio.ministeriodesarrollosocial.gob.cl/indicadores/datos_pobreza_comunal.php"
      ]
    },
    {
      "cell_type": "code",
      "metadata": {
        "id": "fuChrlW-po-g",
        "colab_type": "code",
        "colab": {}
      },
      "source": [
        "pobreza = pd.read_excel(\"http://observatorio.ministeriodesarrollosocial.gob.cl/documentos/PLANILLA_Estimaciones_comunales_tasa_pobreza_por_ingresos_multidimensional_2017.xlsx\", sheet_name=\"Multidimensional 2017\")"
      ],
      "execution_count": 91,
      "outputs": []
    },
    {
      "cell_type": "code",
      "metadata": {
        "id": "olh5S80tzT5E",
        "colab_type": "code",
        "colab": {
          "base_uri": "https://localhost:8080/",
          "height": 310
        },
        "outputId": "e5485253-6f8b-4ad6-8ff0-6e83fe3ae70b"
      },
      "source": [
        "pobreza.head()"
      ],
      "execution_count": 92,
      "outputs": [
        {
          "output_type": "execute_result",
          "data": {
            "text/html": [
              "<div>\n",
              "<style scoped>\n",
              "    .dataframe tbody tr th:only-of-type {\n",
              "        vertical-align: middle;\n",
              "    }\n",
              "\n",
              "    .dataframe tbody tr th {\n",
              "        vertical-align: top;\n",
              "    }\n",
              "\n",
              "    .dataframe thead th {\n",
              "        text-align: right;\n",
              "    }\n",
              "</style>\n",
              "<table border=\"1\" class=\"dataframe\">\n",
              "  <thead>\n",
              "    <tr style=\"text-align: right;\">\n",
              "      <th></th>\n",
              "      <th>Estimaciones de Tasa de Pobreza Multidimensional por Comuna, Aplicación de Metodologías de Estimación para Áreas Pequeñas (SAE), 2017</th>\n",
              "      <th>Unnamed: 1</th>\n",
              "      <th>Unnamed: 2</th>\n",
              "      <th>Unnamed: 3</th>\n",
              "      <th>Unnamed: 4</th>\n",
              "      <th>Unnamed: 5</th>\n",
              "      <th>Unnamed: 6</th>\n",
              "      <th>Unnamed: 7</th>\n",
              "    </tr>\n",
              "  </thead>\n",
              "  <tbody>\n",
              "    <tr>\n",
              "      <th>0</th>\n",
              "      <td>NaN</td>\n",
              "      <td>NaN</td>\n",
              "      <td>NaN</td>\n",
              "      <td>NaN</td>\n",
              "      <td>NaN</td>\n",
              "      <td>NaN</td>\n",
              "      <td>NaN</td>\n",
              "      <td>NaN</td>\n",
              "    </tr>\n",
              "    <tr>\n",
              "      <th>1</th>\n",
              "      <td>Código</td>\n",
              "      <td>Región</td>\n",
              "      <td>Nombre comuna</td>\n",
              "      <td>Número de personas en situación de pobreza mul...</td>\n",
              "      <td>Porcentaje de personas en situación de pobreza...</td>\n",
              "      <td>Límite inferior</td>\n",
              "      <td>Límite superior</td>\n",
              "      <td>Metodología de Estimación</td>\n",
              "    </tr>\n",
              "    <tr>\n",
              "      <th>2</th>\n",
              "      <td>1101</td>\n",
              "      <td>I de Tarapacá</td>\n",
              "      <td>Iquique</td>\n",
              "      <td>33283</td>\n",
              "      <td>0.197384</td>\n",
              "      <td>0.180161</td>\n",
              "      <td>0.216825</td>\n",
              "      <td>SAE</td>\n",
              "    </tr>\n",
              "    <tr>\n",
              "      <th>3</th>\n",
              "      <td>1107</td>\n",
              "      <td>I de Tarapacá</td>\n",
              "      <td>Alto Hospicio</td>\n",
              "      <td>33108</td>\n",
              "      <td>0.275451</td>\n",
              "      <td>0.257526</td>\n",
              "      <td>0.290994</td>\n",
              "      <td>SAE</td>\n",
              "    </tr>\n",
              "    <tr>\n",
              "      <th>4</th>\n",
              "      <td>1401</td>\n",
              "      <td>I de Tarapacá</td>\n",
              "      <td>Pozo Almonte</td>\n",
              "      <td>6581</td>\n",
              "      <td>0.388117</td>\n",
              "      <td>0.336295</td>\n",
              "      <td>0.489958</td>\n",
              "      <td>SAE</td>\n",
              "    </tr>\n",
              "  </tbody>\n",
              "</table>\n",
              "</div>"
            ],
            "text/plain": [
              "  Estimaciones de Tasa de Pobreza Multidimensional por Comuna, Aplicación de Metodologías de Estimación para Áreas Pequeñas (SAE), 2017  ...                 Unnamed: 7\n",
              "0                                                NaN                                                                                     ...                        NaN\n",
              "1                                             Código                                                                                     ...  Metodología de Estimación\n",
              "2                                               1101                                                                                     ...                        SAE\n",
              "3                                               1107                                                                                     ...                        SAE\n",
              "4                                               1401                                                                                     ...                        SAE\n",
              "\n",
              "[5 rows x 8 columns]"
            ]
          },
          "metadata": {
            "tags": []
          },
          "execution_count": 92
        }
      ]
    },
    {
      "cell_type": "code",
      "metadata": {
        "id": "OpU0TlVBzZDZ",
        "colab_type": "code",
        "colab": {}
      },
      "source": [
        "pobreza = pobreza.rename(columns = {\"Unnamed: 1\":\"region\", \"Unnamed: 2\":\"comuna\", \"Unnamed: 4\":\"porcentaje\"})"
      ],
      "execution_count": 93,
      "outputs": []
    },
    {
      "cell_type": "code",
      "metadata": {
        "id": "GsjKsK9J1sKi",
        "colab_type": "code",
        "colab": {}
      },
      "source": [
        "pobreza = pobreza.query(\"region == 'XIII Metropolitana de Santiago'\")[[\"comuna\", \"porcentaje\"]]"
      ],
      "execution_count": 94,
      "outputs": []
    },
    {
      "cell_type": "code",
      "metadata": {
        "id": "c_xYJfrn1wxh",
        "colab_type": "code",
        "colab": {}
      },
      "source": [
        "pobreza = pobreza.set_index(\"comuna\")"
      ],
      "execution_count": 95,
      "outputs": []
    },
    {
      "cell_type": "code",
      "metadata": {
        "id": "tBbkmRcr17Kw",
        "colab_type": "code",
        "colab": {}
      },
      "source": [
        "adjusted[\"Pobreza\"] = pobreza"
      ],
      "execution_count": 96,
      "outputs": []
    },
    {
      "cell_type": "code",
      "metadata": {
        "id": "wUIIKtCE1-mN",
        "colab_type": "code",
        "colab": {
          "base_uri": "https://localhost:8080/",
          "height": 1000
        },
        "outputId": "b58e1426-814b-452e-994c-8ff3c39e5369"
      },
      "source": [
        "adjusted"
      ],
      "execution_count": 97,
      "outputs": [
        {
          "output_type": "execute_result",
          "data": {
            "text/html": [
              "<div>\n",
              "<style scoped>\n",
              "    .dataframe tbody tr th:only-of-type {\n",
              "        vertical-align: middle;\n",
              "    }\n",
              "\n",
              "    .dataframe tbody tr th {\n",
              "        vertical-align: top;\n",
              "    }\n",
              "\n",
              "    .dataframe thead th {\n",
              "        text-align: right;\n",
              "    }\n",
              "</style>\n",
              "<table border=\"1\" class=\"dataframe\">\n",
              "  <thead>\n",
              "    <tr style=\"text-align: right;\">\n",
              "      <th></th>\n",
              "      <th>COVID-19 Confirmado</th>\n",
              "      <th>COVID-19 Sospechoso</th>\n",
              "      <th>Total</th>\n",
              "      <th>Pobreza</th>\n",
              "    </tr>\n",
              "    <tr>\n",
              "      <th>Comuna</th>\n",
              "      <th></th>\n",
              "      <th></th>\n",
              "      <th></th>\n",
              "      <th></th>\n",
              "    </tr>\n",
              "  </thead>\n",
              "  <tbody>\n",
              "    <tr>\n",
              "      <th>Vitacura</th>\n",
              "      <td>25.854112</td>\n",
              "      <td>5.421546</td>\n",
              "      <td>31.275658</td>\n",
              "      <td>0.0348281</td>\n",
              "    </tr>\n",
              "    <tr>\n",
              "      <th>Las Condes</th>\n",
              "      <td>37.350706</td>\n",
              "      <td>7.690655</td>\n",
              "      <td>45.041361</td>\n",
              "      <td>0.0423259</td>\n",
              "    </tr>\n",
              "    <tr>\n",
              "      <th>La Reina</th>\n",
              "      <td>37.680923</td>\n",
              "      <td>9.014293</td>\n",
              "      <td>46.695216</td>\n",
              "      <td>0.0693621</td>\n",
              "    </tr>\n",
              "    <tr>\n",
              "      <th>Ñuñoa</th>\n",
              "      <td>46.190538</td>\n",
              "      <td>13.855460</td>\n",
              "      <td>60.045997</td>\n",
              "      <td>0.0576182</td>\n",
              "    </tr>\n",
              "    <tr>\n",
              "      <th>Providencia</th>\n",
              "      <td>47.437645</td>\n",
              "      <td>13.662316</td>\n",
              "      <td>61.099961</td>\n",
              "      <td>0.0338355</td>\n",
              "    </tr>\n",
              "    <tr>\n",
              "      <th>Macul</th>\n",
              "      <td>55.696827</td>\n",
              "      <td>10.421231</td>\n",
              "      <td>66.118058</td>\n",
              "      <td>0.13473</td>\n",
              "    </tr>\n",
              "    <tr>\n",
              "      <th>Lo Barnechea</th>\n",
              "      <td>60.808947</td>\n",
              "      <td>8.435205</td>\n",
              "      <td>69.244152</td>\n",
              "      <td>0.171827</td>\n",
              "    </tr>\n",
              "    <tr>\n",
              "      <th>Cerrillos</th>\n",
              "      <td>52.839219</td>\n",
              "      <td>20.006254</td>\n",
              "      <td>72.845473</td>\n",
              "      <td>0.274218</td>\n",
              "    </tr>\n",
              "    <tr>\n",
              "      <th>Estación Central</th>\n",
              "      <td>44.382098</td>\n",
              "      <td>31.085777</td>\n",
              "      <td>75.467874</td>\n",
              "      <td>0.234549</td>\n",
              "    </tr>\n",
              "    <tr>\n",
              "      <th>La Cisterna</th>\n",
              "      <td>69.505293</td>\n",
              "      <td>14.202952</td>\n",
              "      <td>83.708245</td>\n",
              "      <td>0.178204</td>\n",
              "    </tr>\n",
              "    <tr>\n",
              "      <th>La Florida</th>\n",
              "      <td>69.965094</td>\n",
              "      <td>18.569026</td>\n",
              "      <td>88.534121</td>\n",
              "      <td>0.189904</td>\n",
              "    </tr>\n",
              "    <tr>\n",
              "      <th>Santiago</th>\n",
              "      <td>50.348572</td>\n",
              "      <td>40.783387</td>\n",
              "      <td>91.131959</td>\n",
              "      <td>0.0962872</td>\n",
              "    </tr>\n",
              "    <tr>\n",
              "      <th>Padre Hurtado</th>\n",
              "      <td>72.699674</td>\n",
              "      <td>20.276950</td>\n",
              "      <td>92.976624</td>\n",
              "      <td>0.21616</td>\n",
              "    </tr>\n",
              "    <tr>\n",
              "      <th>San Joaquín</th>\n",
              "      <td>72.969704</td>\n",
              "      <td>20.263464</td>\n",
              "      <td>93.233168</td>\n",
              "      <td>0.211012</td>\n",
              "    </tr>\n",
              "    <tr>\n",
              "      <th>Lo Prado</th>\n",
              "      <td>81.068189</td>\n",
              "      <td>15.060739</td>\n",
              "      <td>96.128927</td>\n",
              "      <td>0.244847</td>\n",
              "    </tr>\n",
              "    <tr>\n",
              "      <th>Maipú</th>\n",
              "      <td>66.042427</td>\n",
              "      <td>31.023968</td>\n",
              "      <td>97.066395</td>\n",
              "      <td>0.132205</td>\n",
              "    </tr>\n",
              "    <tr>\n",
              "      <th>Pudahuel</th>\n",
              "      <td>85.995497</td>\n",
              "      <td>15.683537</td>\n",
              "      <td>101.679035</td>\n",
              "      <td>0.225051</td>\n",
              "    </tr>\n",
              "    <tr>\n",
              "      <th>Quinta Normal</th>\n",
              "      <td>74.423961</td>\n",
              "      <td>27.367221</td>\n",
              "      <td>101.791182</td>\n",
              "      <td>0.234823</td>\n",
              "    </tr>\n",
              "    <tr>\n",
              "      <th>El Bosque</th>\n",
              "      <td>77.695564</td>\n",
              "      <td>24.387290</td>\n",
              "      <td>102.082854</td>\n",
              "      <td>0.226502</td>\n",
              "    </tr>\n",
              "    <tr>\n",
              "      <th>San Miguel</th>\n",
              "      <td>81.953865</td>\n",
              "      <td>23.261604</td>\n",
              "      <td>105.215470</td>\n",
              "      <td>0.172451</td>\n",
              "    </tr>\n",
              "    <tr>\n",
              "      <th>Peñaflor</th>\n",
              "      <td>93.016952</td>\n",
              "      <td>14.511363</td>\n",
              "      <td>107.528314</td>\n",
              "      <td>0.134615</td>\n",
              "    </tr>\n",
              "    <tr>\n",
              "      <th>Quilicura</th>\n",
              "      <td>87.949031</td>\n",
              "      <td>21.300962</td>\n",
              "      <td>109.249993</td>\n",
              "      <td>0.179232</td>\n",
              "    </tr>\n",
              "    <tr>\n",
              "      <th>Peñalolén</th>\n",
              "      <td>90.687846</td>\n",
              "      <td>19.664900</td>\n",
              "      <td>110.352746</td>\n",
              "      <td>0.262761</td>\n",
              "    </tr>\n",
              "    <tr>\n",
              "      <th>San Bernardo</th>\n",
              "      <td>90.711913</td>\n",
              "      <td>24.101886</td>\n",
              "      <td>114.813799</td>\n",
              "      <td>0.260693</td>\n",
              "    </tr>\n",
              "    <tr>\n",
              "      <th>Conchalí</th>\n",
              "      <td>91.342818</td>\n",
              "      <td>28.324468</td>\n",
              "      <td>119.667286</td>\n",
              "      <td>0.293717</td>\n",
              "    </tr>\n",
              "    <tr>\n",
              "      <th>Puente Alto</th>\n",
              "      <td>96.347652</td>\n",
              "      <td>26.456197</td>\n",
              "      <td>122.803849</td>\n",
              "      <td>0.233134</td>\n",
              "    </tr>\n",
              "    <tr>\n",
              "      <th>Pedro Aguirre Cerda</th>\n",
              "      <td>102.985419</td>\n",
              "      <td>22.161133</td>\n",
              "      <td>125.146552</td>\n",
              "      <td>0.267629</td>\n",
              "    </tr>\n",
              "    <tr>\n",
              "      <th>La Granja</th>\n",
              "      <td>96.680766</td>\n",
              "      <td>34.735020</td>\n",
              "      <td>131.415785</td>\n",
              "      <td>0.219104</td>\n",
              "    </tr>\n",
              "    <tr>\n",
              "      <th>Renca</th>\n",
              "      <td>106.021300</td>\n",
              "      <td>25.398507</td>\n",
              "      <td>131.419807</td>\n",
              "      <td>0.245221</td>\n",
              "    </tr>\n",
              "    <tr>\n",
              "      <th>Huechuraba</th>\n",
              "      <td>110.371574</td>\n",
              "      <td>22.968452</td>\n",
              "      <td>133.340026</td>\n",
              "      <td>0.288437</td>\n",
              "    </tr>\n",
              "    <tr>\n",
              "      <th>Recoleta</th>\n",
              "      <td>103.501035</td>\n",
              "      <td>30.079995</td>\n",
              "      <td>133.581030</td>\n",
              "      <td>0.225035</td>\n",
              "    </tr>\n",
              "    <tr>\n",
              "      <th>Lo Espejo</th>\n",
              "      <td>115.434846</td>\n",
              "      <td>23.761869</td>\n",
              "      <td>139.196715</td>\n",
              "      <td>0.375014</td>\n",
              "    </tr>\n",
              "    <tr>\n",
              "      <th>Independencia</th>\n",
              "      <td>131.568357</td>\n",
              "      <td>36.571905</td>\n",
              "      <td>168.140262</td>\n",
              "      <td>0.209105</td>\n",
              "    </tr>\n",
              "    <tr>\n",
              "      <th>Cerro Navia</th>\n",
              "      <td>129.323693</td>\n",
              "      <td>39.338741</td>\n",
              "      <td>168.662434</td>\n",
              "      <td>0.346357</td>\n",
              "    </tr>\n",
              "    <tr>\n",
              "      <th>San Ramón</th>\n",
              "      <td>131.561421</td>\n",
              "      <td>42.292280</td>\n",
              "      <td>173.853701</td>\n",
              "      <td>0.2794</td>\n",
              "    </tr>\n",
              "    <tr>\n",
              "      <th>La Pintana</th>\n",
              "      <td>128.038947</td>\n",
              "      <td>52.584098</td>\n",
              "      <td>180.623044</td>\n",
              "      <td>0.327388</td>\n",
              "    </tr>\n",
              "  </tbody>\n",
              "</table>\n",
              "</div>"
            ],
            "text/plain": [
              "                     COVID-19 Confirmado  ...    Pobreza\n",
              "Comuna                                    ...           \n",
              "Vitacura                       25.854112  ...  0.0348281\n",
              "Las Condes                     37.350706  ...  0.0423259\n",
              "La Reina                       37.680923  ...  0.0693621\n",
              "Ñuñoa                          46.190538  ...  0.0576182\n",
              "Providencia                    47.437645  ...  0.0338355\n",
              "Macul                          55.696827  ...    0.13473\n",
              "Lo Barnechea                   60.808947  ...   0.171827\n",
              "Cerrillos                      52.839219  ...   0.274218\n",
              "Estación Central               44.382098  ...   0.234549\n",
              "La Cisterna                    69.505293  ...   0.178204\n",
              "La Florida                     69.965094  ...   0.189904\n",
              "Santiago                       50.348572  ...  0.0962872\n",
              "Padre Hurtado                  72.699674  ...    0.21616\n",
              "San Joaquín                    72.969704  ...   0.211012\n",
              "Lo Prado                       81.068189  ...   0.244847\n",
              "Maipú                          66.042427  ...   0.132205\n",
              "Pudahuel                       85.995497  ...   0.225051\n",
              "Quinta Normal                  74.423961  ...   0.234823\n",
              "El Bosque                      77.695564  ...   0.226502\n",
              "San Miguel                     81.953865  ...   0.172451\n",
              "Peñaflor                       93.016952  ...   0.134615\n",
              "Quilicura                      87.949031  ...   0.179232\n",
              "Peñalolén                      90.687846  ...   0.262761\n",
              "San Bernardo                   90.711913  ...   0.260693\n",
              "Conchalí                       91.342818  ...   0.293717\n",
              "Puente Alto                    96.347652  ...   0.233134\n",
              "Pedro Aguirre Cerda           102.985419  ...   0.267629\n",
              "La Granja                      96.680766  ...   0.219104\n",
              "Renca                         106.021300  ...   0.245221\n",
              "Huechuraba                    110.371574  ...   0.288437\n",
              "Recoleta                      103.501035  ...   0.225035\n",
              "Lo Espejo                     115.434846  ...   0.375014\n",
              "Independencia                 131.568357  ...   0.209105\n",
              "Cerro Navia                   129.323693  ...   0.346357\n",
              "San Ramón                     131.561421  ...     0.2794\n",
              "La Pintana                    128.038947  ...   0.327388\n",
              "\n",
              "[36 rows x 4 columns]"
            ]
          },
          "metadata": {
            "tags": []
          },
          "execution_count": 97
        }
      ]
    },
    {
      "cell_type": "code",
      "metadata": {
        "id": "PDiWd1-y1_40",
        "colab_type": "code",
        "colab": {}
      },
      "source": [
        "adjusted[\"Pobreza\"] = adjusted[\"Pobreza\"].astype(float)"
      ],
      "execution_count": 98,
      "outputs": []
    },
    {
      "cell_type": "code",
      "metadata": {
        "id": "6oyBxvOD2Ib2",
        "colab_type": "code",
        "colab": {
          "base_uri": "https://localhost:8080/",
          "height": 105
        },
        "outputId": "fca7ef29-04fa-4d8e-f883-6030b1da88ac"
      },
      "source": [
        "slope, intercept, r_value, p_value, std_err = stats.linregress(adjusted[\"Total\"], adjusted[\"Pobreza\"])\n",
        "slope, intercept, r_value, p_value, std_err"
      ],
      "execution_count": 99,
      "outputs": [
        {
          "output_type": "execute_result",
          "data": {
            "text/plain": [
              "(0.001833431628804539,\n",
              " 0.012501434931744854,\n",
              " 0.7693742745702499,\n",
              " 4.180856952106155e-08,\n",
              " 0.0002610666094913584)"
            ]
          },
          "metadata": {
            "tags": []
          },
          "execution_count": 99
        }
      ]
    },
    {
      "cell_type": "code",
      "metadata": {
        "id": "igQXPjXK2NWy",
        "colab_type": "code",
        "colab": {
          "base_uri": "https://localhost:8080/",
          "height": 35
        },
        "outputId": "36839439-aec7-4a0f-8edd-c4a0011c59c4"
      },
      "source": [
        "r_value**2"
      ],
      "execution_count": 100,
      "outputs": [
        {
          "output_type": "execute_result",
          "data": {
            "text/plain": [
              "0.5919367743704982"
            ]
          },
          "metadata": {
            "tags": []
          },
          "execution_count": 100
        }
      ]
    },
    {
      "cell_type": "code",
      "metadata": {
        "id": "Kef_54jy2m2R",
        "colab_type": "code",
        "colab": {
          "base_uri": "https://localhost:8080/",
          "height": 743
        },
        "outputId": "d7bc88fa-2fb1-4295-9d36-1ee7c19e9c82"
      },
      "source": [
        "fig, ax = plt.subplots(figsize=(10,10))\n",
        "ax = sns.regplot(adjusted[\"Pobreza\"], adjusted[\"Total\"], color = '#092CDB', line_kws={'label':f'$TMA={slope:.1e}*Pobreza+{intercept:.1e}$'},scatter_kws={'s':20});\n",
        "texts = [plt.annotate(txt, (adjusted[\"Pobreza\"].iloc[i], adjusted[\"Total\"].iloc[i]), textcoords=\"offset points\", xytext=(-1,2), fontsize=\"large\") for i, txt in enumerate(adjusted.index)]\n",
        "adjust_text(texts)\n",
        "ax.set_title(f\"Tasa de mortalidad causa COVID-19 ajustada por cien mil habitantes por edad y sexo al {pd.to_datetime(report_date).strftime('%d/%m')} (Población\\n estándar Censo 2002) vs Porcentaje de personas en situación de pobreza multidimensional 2017\\nen comunas de la conurbación de Santiago. R^2={r_value ** 2:.2f} (correlación positiva), p-value={p_value:.1e}\", fontsize='x-large')\n",
        "ax.set_xlabel(f'Porcentaje de personas en situación de pobreza multidimensional 2017', fontsize='x-large')\n",
        "ax.set_ylabel(f\"Tasa de mortalidad causa COVID-19 ajustada\", fontsize=\"x-large\")\n",
        "ax.set_xlim(0.01,)\n",
        "ax.legend(loc='upper left')\n",
        "fig.tight_layout()\n",
        "plt.annotate('Fuentes: INE, DEIS, CASEN', (0,0), (-60,-40), fontsize='x-large', xycoords='axes fraction', textcoords='offset points', va='top')\n",
        "plt.savefig('2020-09-05-Tasa-Ajustada-vs-Pobreza.svg', bbox_inches='tight', format='svg')\n",
        "# plt.show()"
      ],
      "execution_count": 102,
      "outputs": [
        {
          "output_type": "display_data",
          "data": {
            "image/png": "[encoded data removed]",
            "text/plain": [
              "<Figure size 720x720 with 1 Axes>"
            ]
          },
          "metadata": {
            "tags": []
          }
        }
      ]
    },
    {
      "cell_type": "code",
      "metadata": {
        "id": "HwAHbJWA23mY",
        "colab_type": "code",
        "colab": {}
      },
      "source": [
        ""
      ],
      "execution_count": null,
      "outputs": []
    }
  ]
}