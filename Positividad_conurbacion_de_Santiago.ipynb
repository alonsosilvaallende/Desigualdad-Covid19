{
  "nbformat": 4,
  "nbformat_minor": 0,
  "metadata": {
    "kernelspec": {
      "display_name": "Python 3",
      "language": "python",
      "name": "python3"
    },
    "language_info": {
      "codemirror_mode": {
        "name": "ipython",
        "version": 3
      },
      "file_extension": ".py",
      "mimetype": "text/x-python",
      "name": "python",
      "nbconvert_exporter": "python",
      "pygments_lexer": "ipython3",
      "version": "3.8.5"
    },
    "colab": {
      "name": "Positividad_conurbacion_de_Santiago.ipynb",
      "provenance": [],
      "collapsed_sections": [],
      "include_colab_link": true
    }
  },
  "cells": [
    {
      "cell_type": "markdown",
      "metadata": {
        "id": "view-in-github",
        "colab_type": "text"
      },
      "source": [
        "<a href=\"https://colab.research.google.com/github/alonsosilvaallende/Desigualdad-Covid19/blob/master/Positividad_conurbacion_de_Santiago.ipynb\" target=\"_parent\"><img src=\"https://colab.research.google.com/assets/colab-badge.svg\" alt=\"Open In Colab\"/></a>"
      ]
    },
    {
      "cell_type": "code",
      "metadata": {
        "ExecuteTime": {
          "end_time": "2020-09-13T15:37:28.589967Z",
          "start_time": "2020-09-13T15:37:27.306210Z"
        },
        "id": "Fzk7ZkvdkwEs",
        "colab_type": "code",
        "colab": {}
      },
      "source": [
        "import numpy as np\n",
        "import pandas as pd\n",
        "import matplotlib.pyplot as plt\n",
        "import matplotlib.dates as mdates"
      ],
      "execution_count": null,
      "outputs": []
    },
    {
      "cell_type": "code",
      "metadata": {
        "ExecuteTime": {
          "end_time": "2020-09-13T15:37:30.677241Z",
          "start_time": "2020-09-13T15:37:30.473915Z"
        },
        "id": "IaYdN1xWkwE7",
        "colab_type": "code",
        "colab": {}
      },
      "source": [
        "# Web scrapping\n",
        "import requests\n",
        "from bs4 import BeautifulSoup\n",
        "import lxml.html as lh"
      ],
      "execution_count": null,
      "outputs": []
    },
    {
      "cell_type": "markdown",
      "metadata": {
        "id": "FC_83k7tlNFV",
        "colab_type": "text"
      },
      "source": [
        "Datos: https://github.com/MinCiencia/Datos-COVID19/tree/master/output/producto55"
      ]
    },
    {
      "cell_type": "code",
      "metadata": {
        "ExecuteTime": {
          "end_time": "2020-09-13T15:37:36.382948Z",
          "start_time": "2020-09-13T15:37:34.357808Z"
        },
        "id": "zR9SfyYukwFH",
        "colab_type": "code",
        "colab": {}
      },
      "source": [
        "data_raw = pd.read_csv(\"https://raw.githubusercontent.com/MinCiencia/Datos-COVID19/master/output/producto55/Positividad_por_comuna.csv\")"
      ],
      "execution_count": null,
      "outputs": []
    },
    {
      "cell_type": "code",
      "metadata": {
        "ExecuteTime": {
          "end_time": "2020-09-13T15:37:38.982470Z",
          "start_time": "2020-09-13T15:37:38.963036Z"
        },
        "id": "LJ8T-JptkwFO",
        "colab_type": "code",
        "colab": {
          "base_uri": "https://localhost:8080/",
          "height": 206
        },
        "outputId": "c9efe480-eafc-4102-de56-b0b0e91ff0cd"
      },
      "source": [
        "data_raw.head()"
      ],
      "execution_count": null,
      "outputs": [
        {
          "output_type": "execute_result",
          "data": {
            "text/html": [
              "<div>\n",
              "<style scoped>\n",
              "    .dataframe tbody tr th:only-of-type {\n",
              "        vertical-align: middle;\n",
              "    }\n",
              "\n",
              "    .dataframe tbody tr th {\n",
              "        vertical-align: top;\n",
              "    }\n",
              "\n",
              "    .dataframe thead th {\n",
              "        text-align: right;\n",
              "    }\n",
              "</style>\n",
              "<table border=\"1\" class=\"dataframe\">\n",
              "  <thead>\n",
              "    <tr style=\"text-align: right;\">\n",
              "      <th></th>\n",
              "      <th>Region</th>\n",
              "      <th>Codigo region</th>\n",
              "      <th>Comuna</th>\n",
              "      <th>Codigo comuna</th>\n",
              "      <th>fecha</th>\n",
              "      <th>positividad</th>\n",
              "    </tr>\n",
              "  </thead>\n",
              "  <tbody>\n",
              "    <tr>\n",
              "      <th>0</th>\n",
              "      <td>Antofagasta</td>\n",
              "      <td>2</td>\n",
              "      <td>Antofagasta</td>\n",
              "      <td>2101</td>\n",
              "      <td>2020-03-02</td>\n",
              "      <td>NaN</td>\n",
              "    </tr>\n",
              "    <tr>\n",
              "      <th>1</th>\n",
              "      <td>Antofagasta</td>\n",
              "      <td>2</td>\n",
              "      <td>Antofagasta</td>\n",
              "      <td>2101</td>\n",
              "      <td>2020-03-03</td>\n",
              "      <td>NaN</td>\n",
              "    </tr>\n",
              "    <tr>\n",
              "      <th>2</th>\n",
              "      <td>Antofagasta</td>\n",
              "      <td>2</td>\n",
              "      <td>Antofagasta</td>\n",
              "      <td>2101</td>\n",
              "      <td>2020-03-04</td>\n",
              "      <td>NaN</td>\n",
              "    </tr>\n",
              "    <tr>\n",
              "      <th>3</th>\n",
              "      <td>Antofagasta</td>\n",
              "      <td>2</td>\n",
              "      <td>Antofagasta</td>\n",
              "      <td>2101</td>\n",
              "      <td>2020-03-05</td>\n",
              "      <td>NaN</td>\n",
              "    </tr>\n",
              "    <tr>\n",
              "      <th>4</th>\n",
              "      <td>Antofagasta</td>\n",
              "      <td>2</td>\n",
              "      <td>Antofagasta</td>\n",
              "      <td>2101</td>\n",
              "      <td>2020-03-06</td>\n",
              "      <td>NaN</td>\n",
              "    </tr>\n",
              "  </tbody>\n",
              "</table>\n",
              "</div>"
            ],
            "text/plain": [
              "        Region  Codigo region  ...       fecha  positividad\n",
              "0  Antofagasta              2  ...  2020-03-02          NaN\n",
              "1  Antofagasta              2  ...  2020-03-03          NaN\n",
              "2  Antofagasta              2  ...  2020-03-04          NaN\n",
              "3  Antofagasta              2  ...  2020-03-05          NaN\n",
              "4  Antofagasta              2  ...  2020-03-06          NaN\n",
              "\n",
              "[5 rows x 6 columns]"
            ]
          },
          "metadata": {
            "tags": []
          },
          "execution_count": 4
        }
      ]
    },
    {
      "cell_type": "code",
      "metadata": {
        "ExecuteTime": {
          "end_time": "2020-09-13T15:37:45.648779Z",
          "start_time": "2020-09-13T15:37:45.635944Z"
        },
        "id": "RWmsNYBRkwFW",
        "colab_type": "code",
        "colab": {
          "base_uri": "https://localhost:8080/",
          "height": 88
        },
        "outputId": "d14fe5b7-0b5e-4dd0-ebfa-94e2649bdc0e"
      },
      "source": [
        "data_raw[\"Region\"].unique()"
      ],
      "execution_count": null,
      "outputs": [
        {
          "output_type": "execute_result",
          "data": {
            "text/plain": [
              "array(['Antofagasta', 'Valparaíso', 'Metropolitana', 'Araucanía', 'Maule',\n",
              "       'Los Lagos', 'Biobío', 'Ñuble', 'Atacama', 'Magallanes',\n",
              "       'O’Higgins', 'Arica y Parinacota', 'Coquimbo', 'Los Ríos', 'Aysén',\n",
              "       'Tarapacá'], dtype=object)"
            ]
          },
          "metadata": {
            "tags": []
          },
          "execution_count": 5
        }
      ]
    },
    {
      "cell_type": "code",
      "metadata": {
        "ExecuteTime": {
          "end_time": "2020-09-13T15:37:58.023442Z",
          "start_time": "2020-09-13T15:37:58.010162Z"
        },
        "id": "TFS6ALPHkwFe",
        "colab_type": "code",
        "colab": {}
      },
      "source": [
        "data_RM = data_raw.query(\"Region == 'Metropolitana'\")"
      ],
      "execution_count": null,
      "outputs": []
    },
    {
      "cell_type": "code",
      "metadata": {
        "ExecuteTime": {
          "end_time": "2020-09-13T15:37:58.585869Z",
          "start_time": "2020-09-13T15:37:58.580877Z"
        },
        "id": "UCNG4MwbkwFl",
        "colab_type": "code",
        "colab": {}
      },
      "source": [
        "data_RM = data_RM.drop(columns=[\"Region\", \"Codigo region\"])"
      ],
      "execution_count": null,
      "outputs": []
    },
    {
      "cell_type": "code",
      "metadata": {
        "ExecuteTime": {
          "end_time": "2020-09-13T15:38:02.845663Z",
          "start_time": "2020-09-13T15:38:02.834078Z"
        },
        "id": "HJZFaOO5kwFr",
        "colab_type": "code",
        "colab": {}
      },
      "source": [
        "data_RM[\"fecha\"] = pd.to_datetime(data_RM[\"fecha\"])"
      ],
      "execution_count": null,
      "outputs": []
    },
    {
      "cell_type": "code",
      "metadata": {
        "ExecuteTime": {
          "end_time": "2020-09-13T15:38:03.422081Z",
          "start_time": "2020-09-13T15:38:03.409829Z"
        },
        "id": "thKG_MlXkwFv",
        "colab_type": "code",
        "colab": {
          "base_uri": "https://localhost:8080/",
          "height": 35
        },
        "outputId": "ddfe7019-7136-4f9a-9ff4-9fdaa777a37a"
      },
      "source": [
        "first_date, last_date = data_RM[\"fecha\"].sort_values().iloc[0], data_RM[\"fecha\"].sort_values().iloc[-1]\n",
        "first_date, last_date"
      ],
      "execution_count": null,
      "outputs": [
        {
          "output_type": "execute_result",
          "data": {
            "text/plain": [
              "(Timestamp('2020-03-02 00:00:00'), Timestamp('2020-09-08 00:00:00'))"
            ]
          },
          "metadata": {
            "tags": []
          },
          "execution_count": 9
        }
      ]
    },
    {
      "cell_type": "code",
      "metadata": {
        "ExecuteTime": {
          "end_time": "2020-09-13T15:38:04.128578Z",
          "start_time": "2020-09-13T15:38:04.121454Z"
        },
        "id": "3usjrA5TkwF1",
        "colab_type": "code",
        "colab": {}
      },
      "source": [
        "dates = pd.date_range(start=first_date, end=last_date)"
      ],
      "execution_count": null,
      "outputs": []
    },
    {
      "cell_type": "markdown",
      "metadata": {
        "id": "euWsoHfKl8Vo",
        "colab_type": "text"
      },
      "source": [
        "Datos: https://es.wikipedia.org/wiki/Anexo:Comunas_de_Santiago_de_Chile#Conurbaci%C3%B3n_de_Santiago"
      ]
    },
    {
      "cell_type": "code",
      "metadata": {
        "ExecuteTime": {
          "end_time": "2020-09-13T15:46:14.674033Z",
          "start_time": "2020-09-13T15:46:14.670266Z"
        },
        "id": "ovoy3pm7kwF6",
        "colab_type": "code",
        "colab": {}
      },
      "source": [
        "url = \"https://es.wikipedia.org/wiki/Anexo:Comunas_de_Santiago_de_Chile#Conurbaci%C3%B3n_de_Santiago\""
      ],
      "execution_count": null,
      "outputs": []
    },
    {
      "cell_type": "code",
      "metadata": {
        "ExecuteTime": {
          "end_time": "2020-09-13T15:46:15.557754Z",
          "start_time": "2020-09-13T15:46:15.178258Z"
        },
        "id": "ug0jCDqvkwGA",
        "colab_type": "code",
        "colab": {}
      },
      "source": [
        "res = requests.get(url).text\n",
        "soup = BeautifulSoup(res,'lxml')\n",
        "soup.prettify()\n",
        "table = soup.find('table',{'class':'wikitable sortable'}).find_all('tr')[1:]"
      ],
      "execution_count": null,
      "outputs": []
    },
    {
      "cell_type": "code",
      "metadata": {
        "ExecuteTime": {
          "end_time": "2020-09-13T15:46:16.631831Z",
          "start_time": "2020-09-13T15:46:16.489956Z"
        },
        "id": "vzQb-ak2kwGF",
        "colab_type": "code",
        "colab": {}
      },
      "source": [
        "#We create a DataFrame of the Santiago neighborhood's according to wikipedia:\n",
        "df_stgo = pd.DataFrame(columns = ['Comuna','Sector'], index = None)\n",
        "for items in table:\n",
        "    data = items.find_all(['th','td'])\n",
        "    name = data[0].text\n",
        "    borough = data[1].text\n",
        "    df_stgo = df_stgo.append({'Comuna':name,\n",
        "                              'Sector':borough}, ignore_index = True)"
      ],
      "execution_count": null,
      "outputs": []
    },
    {
      "cell_type": "code",
      "metadata": {
        "id": "D3r8z4WOlyTa",
        "colab_type": "code",
        "colab": {
          "base_uri": "https://localhost:8080/",
          "height": 1000
        },
        "outputId": "9483893d-24a4-4bd2-ae7b-f08d0ae8516b"
      },
      "source": [
        "df_stgo"
      ],
      "execution_count": null,
      "outputs": [
        {
          "output_type": "execute_result",
          "data": {
            "text/html": [
              "<div>\n",
              "<style scoped>\n",
              "    .dataframe tbody tr th:only-of-type {\n",
              "        vertical-align: middle;\n",
              "    }\n",
              "\n",
              "    .dataframe tbody tr th {\n",
              "        vertical-align: top;\n",
              "    }\n",
              "\n",
              "    .dataframe thead th {\n",
              "        text-align: right;\n",
              "    }\n",
              "</style>\n",
              "<table border=\"1\" class=\"dataframe\">\n",
              "  <thead>\n",
              "    <tr style=\"text-align: right;\">\n",
              "      <th></th>\n",
              "      <th>Comuna</th>\n",
              "      <th>Sector</th>\n",
              "    </tr>\n",
              "  </thead>\n",
              "  <tbody>\n",
              "    <tr>\n",
              "      <th>0</th>\n",
              "      <td>Cerrillos</td>\n",
              "      <td>surponiente</td>\n",
              "    </tr>\n",
              "    <tr>\n",
              "      <th>1</th>\n",
              "      <td>Cerro Navia</td>\n",
              "      <td>norponiente</td>\n",
              "    </tr>\n",
              "    <tr>\n",
              "      <th>2</th>\n",
              "      <td>Conchalí</td>\n",
              "      <td>norte</td>\n",
              "    </tr>\n",
              "    <tr>\n",
              "      <th>3</th>\n",
              "      <td>El Bosque</td>\n",
              "      <td>sur</td>\n",
              "    </tr>\n",
              "    <tr>\n",
              "      <th>4</th>\n",
              "      <td>Estación Central</td>\n",
              "      <td>surponiente</td>\n",
              "    </tr>\n",
              "    <tr>\n",
              "      <th>5</th>\n",
              "      <td>Huechuraba</td>\n",
              "      <td>norte</td>\n",
              "    </tr>\n",
              "    <tr>\n",
              "      <th>6</th>\n",
              "      <td>Independencia</td>\n",
              "      <td>norte</td>\n",
              "    </tr>\n",
              "    <tr>\n",
              "      <th>7</th>\n",
              "      <td>La Cisterna</td>\n",
              "      <td>sur</td>\n",
              "    </tr>\n",
              "    <tr>\n",
              "      <th>8</th>\n",
              "      <td>La Florida</td>\n",
              "      <td>suroriente</td>\n",
              "    </tr>\n",
              "    <tr>\n",
              "      <th>9</th>\n",
              "      <td>La Granja</td>\n",
              "      <td>sur</td>\n",
              "    </tr>\n",
              "    <tr>\n",
              "      <th>10</th>\n",
              "      <td>La Pintana</td>\n",
              "      <td>sur</td>\n",
              "    </tr>\n",
              "    <tr>\n",
              "      <th>11</th>\n",
              "      <td>La Reina</td>\n",
              "      <td>nororiente</td>\n",
              "    </tr>\n",
              "    <tr>\n",
              "      <th>12</th>\n",
              "      <td>Las Condes</td>\n",
              "      <td>nororiente</td>\n",
              "    </tr>\n",
              "    <tr>\n",
              "      <th>13</th>\n",
              "      <td>Lo Barnechea</td>\n",
              "      <td>nororiente</td>\n",
              "    </tr>\n",
              "    <tr>\n",
              "      <th>14</th>\n",
              "      <td>Lo Espejo</td>\n",
              "      <td>sur</td>\n",
              "    </tr>\n",
              "    <tr>\n",
              "      <th>15</th>\n",
              "      <td>Lo Prado</td>\n",
              "      <td>norponiente</td>\n",
              "    </tr>\n",
              "    <tr>\n",
              "      <th>16</th>\n",
              "      <td>Macul</td>\n",
              "      <td>suroriente</td>\n",
              "    </tr>\n",
              "    <tr>\n",
              "      <th>17</th>\n",
              "      <td>Maipú</td>\n",
              "      <td>surponiente</td>\n",
              "    </tr>\n",
              "    <tr>\n",
              "      <th>18</th>\n",
              "      <td>Ñuñoa</td>\n",
              "      <td>nororiente</td>\n",
              "    </tr>\n",
              "    <tr>\n",
              "      <th>19</th>\n",
              "      <td>Padre Hurtado</td>\n",
              "      <td>surponiente</td>\n",
              "    </tr>\n",
              "    <tr>\n",
              "      <th>20</th>\n",
              "      <td>Pedro Aguirre Cerda</td>\n",
              "      <td>sur</td>\n",
              "    </tr>\n",
              "    <tr>\n",
              "      <th>21</th>\n",
              "      <td>Peñaflor</td>\n",
              "      <td>surponiente</td>\n",
              "    </tr>\n",
              "    <tr>\n",
              "      <th>22</th>\n",
              "      <td>Peñalolén</td>\n",
              "      <td>suroriente</td>\n",
              "    </tr>\n",
              "    <tr>\n",
              "      <th>23</th>\n",
              "      <td>Providencia</td>\n",
              "      <td>nororiente</td>\n",
              "    </tr>\n",
              "    <tr>\n",
              "      <th>24</th>\n",
              "      <td>Pudahuel</td>\n",
              "      <td>norponiente</td>\n",
              "    </tr>\n",
              "    <tr>\n",
              "      <th>25</th>\n",
              "      <td>Puente Alto</td>\n",
              "      <td>suroriente</td>\n",
              "    </tr>\n",
              "    <tr>\n",
              "      <th>26</th>\n",
              "      <td>Quilicura</td>\n",
              "      <td>norte</td>\n",
              "    </tr>\n",
              "    <tr>\n",
              "      <th>27</th>\n",
              "      <td>Quinta Normal</td>\n",
              "      <td>norponiente</td>\n",
              "    </tr>\n",
              "    <tr>\n",
              "      <th>28</th>\n",
              "      <td>Recoleta</td>\n",
              "      <td>norte</td>\n",
              "    </tr>\n",
              "    <tr>\n",
              "      <th>29</th>\n",
              "      <td>Renca</td>\n",
              "      <td>norponiente</td>\n",
              "    </tr>\n",
              "    <tr>\n",
              "      <th>30</th>\n",
              "      <td>San Bernardo</td>\n",
              "      <td>sur</td>\n",
              "    </tr>\n",
              "    <tr>\n",
              "      <th>31</th>\n",
              "      <td>San Joaquín</td>\n",
              "      <td>sur</td>\n",
              "    </tr>\n",
              "    <tr>\n",
              "      <th>32</th>\n",
              "      <td>San Miguel</td>\n",
              "      <td>sur</td>\n",
              "    </tr>\n",
              "    <tr>\n",
              "      <th>33</th>\n",
              "      <td>San Ramón</td>\n",
              "      <td>sur</td>\n",
              "    </tr>\n",
              "    <tr>\n",
              "      <th>34</th>\n",
              "      <td>Santiago</td>\n",
              "      <td>centro</td>\n",
              "    </tr>\n",
              "    <tr>\n",
              "      <th>35</th>\n",
              "      <td>Vitacura</td>\n",
              "      <td>nororiente</td>\n",
              "    </tr>\n",
              "  </tbody>\n",
              "</table>\n",
              "</div>"
            ],
            "text/plain": [
              "                 Comuna       Sector\n",
              "0             Cerrillos  surponiente\n",
              "1           Cerro Navia  norponiente\n",
              "2              Conchalí        norte\n",
              "3             El Bosque          sur\n",
              "4      Estación Central  surponiente\n",
              "5            Huechuraba        norte\n",
              "6         Independencia        norte\n",
              "7           La Cisterna          sur\n",
              "8            La Florida   suroriente\n",
              "9             La Granja          sur\n",
              "10           La Pintana          sur\n",
              "11             La Reina   nororiente\n",
              "12           Las Condes   nororiente\n",
              "13         Lo Barnechea   nororiente\n",
              "14            Lo Espejo          sur\n",
              "15             Lo Prado  norponiente\n",
              "16                Macul   suroriente\n",
              "17                Maipú  surponiente\n",
              "18                Ñuñoa   nororiente\n",
              "19        Padre Hurtado  surponiente\n",
              "20  Pedro Aguirre Cerda          sur\n",
              "21             Peñaflor  surponiente\n",
              "22            Peñalolén   suroriente\n",
              "23          Providencia   nororiente\n",
              "24             Pudahuel  norponiente\n",
              "25          Puente Alto   suroriente\n",
              "26            Quilicura        norte\n",
              "27        Quinta Normal  norponiente\n",
              "28             Recoleta        norte\n",
              "29                Renca  norponiente\n",
              "30         San Bernardo          sur\n",
              "31          San Joaquín          sur\n",
              "32           San Miguel          sur\n",
              "33            San Ramón          sur\n",
              "34             Santiago       centro\n",
              "35             Vitacura   nororiente"
            ]
          },
          "metadata": {
            "tags": []
          },
          "execution_count": 14
        }
      ]
    },
    {
      "cell_type": "code",
      "metadata": {
        "ExecuteTime": {
          "end_time": "2020-09-13T15:46:17.464502Z",
          "start_time": "2020-09-13T15:46:17.456677Z"
        },
        "id": "9zmTLsLAkwGM",
        "colab_type": "code",
        "colab": {}
      },
      "source": [
        "data = pd.DataFrame()\n",
        "data[\"fecha\"] = dates\n",
        "data = data.set_index(\"fecha\")"
      ],
      "execution_count": null,
      "outputs": []
    },
    {
      "cell_type": "code",
      "metadata": {
        "ExecuteTime": {
          "end_time": "2020-09-13T15:46:18.332998Z",
          "start_time": "2020-09-13T15:46:18.088427Z"
        },
        "id": "O69ixmyNkwGR",
        "colab_type": "code",
        "colab": {}
      },
      "source": [
        "for comuna in data_RM[\"Comuna\"].unique():\n",
        "    data[comuna] = data_RM.query(f\"Comuna == '{comuna}'\").drop(columns=[\"Comuna\", \"Codigo comuna\"]).set_index(\"fecha\")[\"positividad\"]"
      ],
      "execution_count": null,
      "outputs": []
    },
    {
      "cell_type": "code",
      "metadata": {
        "id": "PPi0nn__mIIg",
        "colab_type": "code",
        "colab": {
          "base_uri": "https://localhost:8080/",
          "height": 309
        },
        "outputId": "b042fbbd-6b99-4f99-93bb-5a08008ee57f"
      },
      "source": [
        "data.tail()"
      ],
      "execution_count": null,
      "outputs": [
        {
          "output_type": "execute_result",
          "data": {
            "text/html": [
              "<div>\n",
              "<style scoped>\n",
              "    .dataframe tbody tr th:only-of-type {\n",
              "        vertical-align: middle;\n",
              "    }\n",
              "\n",
              "    .dataframe tbody tr th {\n",
              "        vertical-align: top;\n",
              "    }\n",
              "\n",
              "    .dataframe thead th {\n",
              "        text-align: right;\n",
              "    }\n",
              "</style>\n",
              "<table border=\"1\" class=\"dataframe\">\n",
              "  <thead>\n",
              "    <tr style=\"text-align: right;\">\n",
              "      <th></th>\n",
              "      <th>Cerrillos</th>\n",
              "      <th>Estación Central</th>\n",
              "      <th>La Florida</th>\n",
              "      <th>Las Condes</th>\n",
              "      <th>Maipú</th>\n",
              "      <th>Pedro Aguirre Cerda</th>\n",
              "      <th>Peñalolén</th>\n",
              "      <th>Pudahuel</th>\n",
              "      <th>San Bernardo</th>\n",
              "      <th>San Joaquín</th>\n",
              "      <th>Santiago</th>\n",
              "      <th>El Bosque</th>\n",
              "      <th>Puente Alto</th>\n",
              "      <th>Vitacura</th>\n",
              "      <th>Huechuraba</th>\n",
              "      <th>Ñuñoa</th>\n",
              "      <th>Quinta Normal</th>\n",
              "      <th>Recoleta</th>\n",
              "      <th>Lo Barnechea</th>\n",
              "      <th>Paine</th>\n",
              "      <th>Colina</th>\n",
              "      <th>La Reina</th>\n",
              "      <th>Quilicura</th>\n",
              "      <th>La Cisterna</th>\n",
              "      <th>Padre Hurtado</th>\n",
              "      <th>Providencia</th>\n",
              "      <th>San Miguel</th>\n",
              "      <th>Independencia</th>\n",
              "      <th>Lo Prado</th>\n",
              "      <th>Macul</th>\n",
              "      <th>Melipilla</th>\n",
              "      <th>San Ramón</th>\n",
              "      <th>Talagante</th>\n",
              "      <th>Conchalí</th>\n",
              "      <th>Peñaflor</th>\n",
              "      <th>San José de Maipo</th>\n",
              "      <th>Buin</th>\n",
              "      <th>La Granja</th>\n",
              "      <th>Lo Espejo</th>\n",
              "      <th>Cerro Navia</th>\n",
              "      <th>El Monte</th>\n",
              "      <th>Lampa</th>\n",
              "      <th>Renca</th>\n",
              "      <th>Calera de Tango</th>\n",
              "      <th>San Pedro</th>\n",
              "      <th>Tiltil</th>\n",
              "      <th>Curacaví</th>\n",
              "      <th>Pirque</th>\n",
              "      <th>La Pintana</th>\n",
              "      <th>Isla de Maipo</th>\n",
              "      <th>María Pinto</th>\n",
              "      <th>Alhué</th>\n",
              "    </tr>\n",
              "    <tr>\n",
              "      <th>fecha</th>\n",
              "      <th></th>\n",
              "      <th></th>\n",
              "      <th></th>\n",
              "      <th></th>\n",
              "      <th></th>\n",
              "      <th></th>\n",
              "      <th></th>\n",
              "      <th></th>\n",
              "      <th></th>\n",
              "      <th></th>\n",
              "      <th></th>\n",
              "      <th></th>\n",
              "      <th></th>\n",
              "      <th></th>\n",
              "      <th></th>\n",
              "      <th></th>\n",
              "      <th></th>\n",
              "      <th></th>\n",
              "      <th></th>\n",
              "      <th></th>\n",
              "      <th></th>\n",
              "      <th></th>\n",
              "      <th></th>\n",
              "      <th></th>\n",
              "      <th></th>\n",
              "      <th></th>\n",
              "      <th></th>\n",
              "      <th></th>\n",
              "      <th></th>\n",
              "      <th></th>\n",
              "      <th></th>\n",
              "      <th></th>\n",
              "      <th></th>\n",
              "      <th></th>\n",
              "      <th></th>\n",
              "      <th></th>\n",
              "      <th></th>\n",
              "      <th></th>\n",
              "      <th></th>\n",
              "      <th></th>\n",
              "      <th></th>\n",
              "      <th></th>\n",
              "      <th></th>\n",
              "      <th></th>\n",
              "      <th></th>\n",
              "      <th></th>\n",
              "      <th></th>\n",
              "      <th></th>\n",
              "      <th></th>\n",
              "      <th></th>\n",
              "      <th></th>\n",
              "      <th></th>\n",
              "    </tr>\n",
              "  </thead>\n",
              "  <tbody>\n",
              "    <tr>\n",
              "      <th>2020-09-04</th>\n",
              "      <td>0.050209</td>\n",
              "      <td>0.038384</td>\n",
              "      <td>0.059239</td>\n",
              "      <td>0.037679</td>\n",
              "      <td>0.057294</td>\n",
              "      <td>0.067515</td>\n",
              "      <td>0.041139</td>\n",
              "      <td>0.049963</td>\n",
              "      <td>0.047613</td>\n",
              "      <td>0.065718</td>\n",
              "      <td>0.057237</td>\n",
              "      <td>0.068351</td>\n",
              "      <td>0.091957</td>\n",
              "      <td>0.021049</td>\n",
              "      <td>0.054909</td>\n",
              "      <td>0.047247</td>\n",
              "      <td>0.043706</td>\n",
              "      <td>0.068631</td>\n",
              "      <td>0.038613</td>\n",
              "      <td>0.125567</td>\n",
              "      <td>0.090914</td>\n",
              "      <td>0.043541</td>\n",
              "      <td>0.075340</td>\n",
              "      <td>0.071802</td>\n",
              "      <td>0.071082</td>\n",
              "      <td>0.027168</td>\n",
              "      <td>0.050501</td>\n",
              "      <td>0.047640</td>\n",
              "      <td>0.057824</td>\n",
              "      <td>0.047754</td>\n",
              "      <td>0.067706</td>\n",
              "      <td>0.078471</td>\n",
              "      <td>0.037839</td>\n",
              "      <td>0.065010</td>\n",
              "      <td>0.043793</td>\n",
              "      <td>0.054694</td>\n",
              "      <td>0.086819</td>\n",
              "      <td>0.056192</td>\n",
              "      <td>0.064578</td>\n",
              "      <td>0.047152</td>\n",
              "      <td>0.015530</td>\n",
              "      <td>0.077665</td>\n",
              "      <td>0.062149</td>\n",
              "      <td>0.028779</td>\n",
              "      <td>0.033911</td>\n",
              "      <td>0.06453</td>\n",
              "      <td>0.023503</td>\n",
              "      <td>0.044955</td>\n",
              "      <td>0.063636</td>\n",
              "      <td>0.017316</td>\n",
              "      <td>0.011310</td>\n",
              "      <td>0.216199</td>\n",
              "    </tr>\n",
              "    <tr>\n",
              "      <th>2020-09-05</th>\n",
              "      <td>0.040932</td>\n",
              "      <td>0.039948</td>\n",
              "      <td>0.070347</td>\n",
              "      <td>0.040271</td>\n",
              "      <td>0.062394</td>\n",
              "      <td>0.071460</td>\n",
              "      <td>0.040910</td>\n",
              "      <td>0.056144</td>\n",
              "      <td>0.048432</td>\n",
              "      <td>0.051630</td>\n",
              "      <td>0.055083</td>\n",
              "      <td>0.065797</td>\n",
              "      <td>0.086762</td>\n",
              "      <td>0.023597</td>\n",
              "      <td>0.060443</td>\n",
              "      <td>0.047573</td>\n",
              "      <td>0.045064</td>\n",
              "      <td>0.067314</td>\n",
              "      <td>0.038042</td>\n",
              "      <td>0.127088</td>\n",
              "      <td>0.081861</td>\n",
              "      <td>0.035084</td>\n",
              "      <td>0.067500</td>\n",
              "      <td>0.076870</td>\n",
              "      <td>0.066813</td>\n",
              "      <td>0.027292</td>\n",
              "      <td>0.050548</td>\n",
              "      <td>0.054648</td>\n",
              "      <td>0.069040</td>\n",
              "      <td>0.045740</td>\n",
              "      <td>0.079888</td>\n",
              "      <td>0.079178</td>\n",
              "      <td>0.050444</td>\n",
              "      <td>0.072584</td>\n",
              "      <td>0.034626</td>\n",
              "      <td>0.073061</td>\n",
              "      <td>0.081189</td>\n",
              "      <td>0.063029</td>\n",
              "      <td>0.058035</td>\n",
              "      <td>0.042340</td>\n",
              "      <td>0.020065</td>\n",
              "      <td>0.082427</td>\n",
              "      <td>0.070890</td>\n",
              "      <td>0.054753</td>\n",
              "      <td>0.033911</td>\n",
              "      <td>NaN</td>\n",
              "      <td>0.029621</td>\n",
              "      <td>0.052474</td>\n",
              "      <td>0.063011</td>\n",
              "      <td>0.017316</td>\n",
              "      <td>0.058929</td>\n",
              "      <td>0.172243</td>\n",
              "    </tr>\n",
              "    <tr>\n",
              "      <th>2020-09-06</th>\n",
              "      <td>0.038768</td>\n",
              "      <td>0.036777</td>\n",
              "      <td>0.064584</td>\n",
              "      <td>0.033184</td>\n",
              "      <td>0.065884</td>\n",
              "      <td>0.070505</td>\n",
              "      <td>0.042108</td>\n",
              "      <td>0.059879</td>\n",
              "      <td>0.050519</td>\n",
              "      <td>0.072942</td>\n",
              "      <td>0.057229</td>\n",
              "      <td>0.065937</td>\n",
              "      <td>0.085019</td>\n",
              "      <td>0.038217</td>\n",
              "      <td>0.070128</td>\n",
              "      <td>0.039057</td>\n",
              "      <td>0.043076</td>\n",
              "      <td>0.066357</td>\n",
              "      <td>0.039449</td>\n",
              "      <td>0.118787</td>\n",
              "      <td>0.093341</td>\n",
              "      <td>0.033917</td>\n",
              "      <td>0.057330</td>\n",
              "      <td>0.070823</td>\n",
              "      <td>0.068112</td>\n",
              "      <td>0.038385</td>\n",
              "      <td>0.051043</td>\n",
              "      <td>0.053404</td>\n",
              "      <td>0.079715</td>\n",
              "      <td>0.032566</td>\n",
              "      <td>0.085317</td>\n",
              "      <td>0.061690</td>\n",
              "      <td>0.054412</td>\n",
              "      <td>0.089697</td>\n",
              "      <td>0.043470</td>\n",
              "      <td>NaN</td>\n",
              "      <td>0.070564</td>\n",
              "      <td>0.068911</td>\n",
              "      <td>0.060801</td>\n",
              "      <td>0.048899</td>\n",
              "      <td>0.020065</td>\n",
              "      <td>0.093633</td>\n",
              "      <td>0.077802</td>\n",
              "      <td>0.090467</td>\n",
              "      <td>0.081530</td>\n",
              "      <td>NaN</td>\n",
              "      <td>0.031163</td>\n",
              "      <td>NaN</td>\n",
              "      <td>0.052615</td>\n",
              "      <td>0.015359</td>\n",
              "      <td>NaN</td>\n",
              "      <td>0.191570</td>\n",
              "    </tr>\n",
              "    <tr>\n",
              "      <th>2020-09-07</th>\n",
              "      <td>0.033516</td>\n",
              "      <td>0.033555</td>\n",
              "      <td>0.060061</td>\n",
              "      <td>0.034745</td>\n",
              "      <td>0.065819</td>\n",
              "      <td>0.066037</td>\n",
              "      <td>0.042013</td>\n",
              "      <td>0.058300</td>\n",
              "      <td>0.048567</td>\n",
              "      <td>0.064345</td>\n",
              "      <td>0.056541</td>\n",
              "      <td>0.059255</td>\n",
              "      <td>0.079193</td>\n",
              "      <td>0.039283</td>\n",
              "      <td>0.056495</td>\n",
              "      <td>0.037846</td>\n",
              "      <td>0.039424</td>\n",
              "      <td>0.060915</td>\n",
              "      <td>0.029266</td>\n",
              "      <td>0.124042</td>\n",
              "      <td>0.087867</td>\n",
              "      <td>0.029799</td>\n",
              "      <td>0.053793</td>\n",
              "      <td>0.072885</td>\n",
              "      <td>0.068872</td>\n",
              "      <td>0.033619</td>\n",
              "      <td>0.048441</td>\n",
              "      <td>0.052621</td>\n",
              "      <td>0.073271</td>\n",
              "      <td>0.030587</td>\n",
              "      <td>0.082842</td>\n",
              "      <td>0.054395</td>\n",
              "      <td>0.051570</td>\n",
              "      <td>0.089324</td>\n",
              "      <td>0.041775</td>\n",
              "      <td>NaN</td>\n",
              "      <td>0.066325</td>\n",
              "      <td>0.057398</td>\n",
              "      <td>0.055037</td>\n",
              "      <td>0.053877</td>\n",
              "      <td>0.011868</td>\n",
              "      <td>0.092937</td>\n",
              "      <td>0.078951</td>\n",
              "      <td>0.084256</td>\n",
              "      <td>NaN</td>\n",
              "      <td>NaN</td>\n",
              "      <td>0.027539</td>\n",
              "      <td>NaN</td>\n",
              "      <td>0.041643</td>\n",
              "      <td>0.019513</td>\n",
              "      <td>NaN</td>\n",
              "      <td>0.224038</td>\n",
              "    </tr>\n",
              "    <tr>\n",
              "      <th>2020-09-08</th>\n",
              "      <td>0.027903</td>\n",
              "      <td>0.032102</td>\n",
              "      <td>0.059115</td>\n",
              "      <td>0.033337</td>\n",
              "      <td>0.064281</td>\n",
              "      <td>0.061925</td>\n",
              "      <td>0.039893</td>\n",
              "      <td>0.057195</td>\n",
              "      <td>0.050640</td>\n",
              "      <td>0.056640</td>\n",
              "      <td>0.057148</td>\n",
              "      <td>0.058679</td>\n",
              "      <td>0.073372</td>\n",
              "      <td>0.044980</td>\n",
              "      <td>0.057781</td>\n",
              "      <td>0.038127</td>\n",
              "      <td>0.039969</td>\n",
              "      <td>0.059049</td>\n",
              "      <td>0.027935</td>\n",
              "      <td>0.122518</td>\n",
              "      <td>0.081333</td>\n",
              "      <td>0.038314</td>\n",
              "      <td>0.043492</td>\n",
              "      <td>0.078213</td>\n",
              "      <td>0.069731</td>\n",
              "      <td>0.028019</td>\n",
              "      <td>0.045306</td>\n",
              "      <td>0.048825</td>\n",
              "      <td>0.067697</td>\n",
              "      <td>0.029434</td>\n",
              "      <td>0.083224</td>\n",
              "      <td>0.056456</td>\n",
              "      <td>0.048164</td>\n",
              "      <td>0.087982</td>\n",
              "      <td>0.045584</td>\n",
              "      <td>NaN</td>\n",
              "      <td>0.066197</td>\n",
              "      <td>0.055333</td>\n",
              "      <td>0.049265</td>\n",
              "      <td>0.054161</td>\n",
              "      <td>0.012931</td>\n",
              "      <td>0.083878</td>\n",
              "      <td>0.076359</td>\n",
              "      <td>0.086958</td>\n",
              "      <td>NaN</td>\n",
              "      <td>NaN</td>\n",
              "      <td>0.038578</td>\n",
              "      <td>NaN</td>\n",
              "      <td>0.033953</td>\n",
              "      <td>NaN</td>\n",
              "      <td>NaN</td>\n",
              "      <td>NaN</td>\n",
              "    </tr>\n",
              "  </tbody>\n",
              "</table>\n",
              "</div>"
            ],
            "text/plain": [
              "            Cerrillos  Estación Central  ...  María Pinto     Alhué\n",
              "fecha                                    ...                       \n",
              "2020-09-04   0.050209          0.038384  ...     0.011310  0.216199\n",
              "2020-09-05   0.040932          0.039948  ...     0.058929  0.172243\n",
              "2020-09-06   0.038768          0.036777  ...          NaN  0.191570\n",
              "2020-09-07   0.033516          0.033555  ...          NaN  0.224038\n",
              "2020-09-08   0.027903          0.032102  ...          NaN       NaN\n",
              "\n",
              "[5 rows x 52 columns]"
            ]
          },
          "metadata": {
            "tags": []
          },
          "execution_count": 18
        }
      ]
    },
    {
      "cell_type": "code",
      "metadata": {
        "ExecuteTime": {
          "end_time": "2020-09-13T15:46:19.447866Z",
          "start_time": "2020-09-13T15:46:18.939940Z"
        },
        "id": "ru0MnI3SkwGX",
        "colab_type": "code",
        "colab": {
          "base_uri": "https://localhost:8080/",
          "height": 641
        },
        "outputId": "014adc2f-3735-45f6-f741-83ee0b3e8db0"
      },
      "source": [
        "fig, ax = plt.subplots(figsize=(10,10))\n",
        "for comuna in df_stgo[\"Comuna\"]:\n",
        "    if comuna in list(df_stgo[df_stgo[\"Sector\"] == 'nororiente'][\"Comuna\"]):\n",
        "        ax.plot(data[comuna].index, 100*data[comuna],color=\"blue\", alpha=0.3)\n",
        "    else:\n",
        "        ax.plot(data[comuna].index, 100*data[comuna],color=\"red\", alpha=0.2)\n",
        "    \n",
        "ax.plot(data[\"Vitacura\"].index, 100*data[\"Vitacura\"],color=\"blue\", alpha=0.2, label=\"sector nororiente\")\n",
        "ax.plot(data[\"Santiago\"].index, 100*data[\"Santiago\"],color=\"red\", alpha=0.2, label=\"otros sectores\")\n",
        "# Format the x axis with centered month labels\n",
        "ax.xaxis.set_major_locator(mdates.MonthLocator())\n",
        "ax.xaxis.set_minor_locator(mdates.MonthLocator(bymonthday=15))\n",
        "ax.xaxis.set_major_formatter(plt.NullFormatter())\n",
        "ax.xaxis.set_minor_formatter(mdates.DateFormatter('%h'));\n",
        "ax.legend(fontsize=\"large\")\n",
        "ax.set_yticks([10*i for i in range(7)])\n",
        "ax.set_yticklabels([f\"{10*i}%\" for i in range(7)])\n",
        "ax.set_title(\"Positividad Test PCR (%) en la conurbación de Santiago\", fontsize=20)\n",
        "ax.set_ylabel(\"Positividad de test PCR\", fontsize=15)\n",
        "plt.annotate('Fuente: https://www.icovidchile.cl/', (0,0), (-40,-30), xycoords='axes fraction', textcoords='offset points', va='top', fontsize=\"x-large\")\n",
        "plt.savefig('2020-09-08-Positividad.png', bbox_inches='tight', format='png', dvi=8000)\n",
        "# plt.show()"
      ],
      "execution_count": null,
      "outputs": [
        {
          "output_type": "display_data",
          "data": {
            "image/png": "[encoded data removed]",
            "text/plain": [
              "<Figure size 720x720 with 1 Axes>"
            ]
          },
          "metadata": {
            "tags": [],
            "needs_background": "light"
          }
        }
      ]
    },
    {
      "cell_type": "code",
      "metadata": {
        "id": "Z7_TUNI_kwGc",
        "colab_type": "code",
        "colab": {
          "base_uri": "https://localhost:8080/",
          "height": 17
        },
        "outputId": "2389427f-04af-4e90-d798-6154fcd09932"
      },
      "source": [
        "from google.colab import files\n",
        "files.download(\"2020-09-08-Positividad.png\")"
      ],
      "execution_count": null,
      "outputs": [
        {
          "output_type": "display_data",
          "data": {
            "application/javascript": [
              "\n",
              "    async function download(id, filename, size) {\n",
              "      if (!google.colab.kernel.accessAllowed) {\n",
              "        return;\n",
              "      }\n",
              "      const div = document.createElement('div');\n",
              "      const label = document.createElement('label');\n",
              "      label.textContent = `Downloading \"${filename}\": `;\n",
              "      div.appendChild(label);\n",
              "      const progress = document.createElement('progress');\n",
              "      progress.max = size;\n",
              "      div.appendChild(progress);\n",
              "      document.body.appendChild(div);\n",
              "\n",
              "      const buffers = [];\n",
              "      let downloaded = 0;\n",
              "\n",
              "      const channel = await google.colab.kernel.comms.open(id);\n",
              "      // Send a message to notify the kernel that we're ready.\n",
              "      channel.send({})\n",
              "\n",
              "      for await (const message of channel.messages) {\n",
              "        // Send a message to notify the kernel that we're ready.\n",
              "        channel.send({})\n",
              "        if (message.buffers) {\n",
              "          for (const buffer of message.buffers) {\n",
              "            buffers.push(buffer);\n",
              "            downloaded += buffer.byteLength;\n",
              "            progress.value = downloaded;\n",
              "          }\n",
              "        }\n",
              "      }\n",
              "      const blob = new Blob(buffers, {type: 'application/binary'});\n",
              "      const a = document.createElement('a');\n",
              "      a.href = window.URL.createObjectURL(blob);\n",
              "      a.download = filename;\n",
              "      div.appendChild(a);\n",
              "      a.click();\n",
              "      div.remove();\n",
              "    }\n",
              "  "
            ],
            "text/plain": [
              "<IPython.core.display.Javascript object>"
            ]
          },
          "metadata": {
            "tags": []
          }
        },
        {
          "output_type": "display_data",
          "data": {
            "application/javascript": [
              "download(\"download_6d7ed0f4-ff66-4900-aa2c-f342ddbb0cf6\", \"2020-09-08-Positividad.png\", 168112)"
            ],
            "text/plain": [
              "<IPython.core.display.Javascript object>"
            ]
          },
          "metadata": {
            "tags": []
          }
        }
      ]
    }
  ]
}